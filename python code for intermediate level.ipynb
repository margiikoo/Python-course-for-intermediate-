{
 "cells": [
  {
   "cell_type": "markdown",
   "id": "f00caaf1",
   "metadata": {},
   "source": [
    "# For Intermediate Python Programming"
   ]
  },
  {
   "cell_type": "markdown",
   "id": "e206defb",
   "metadata": {},
   "source": [
    "# for intermediate level what you have to know is the following:\n",
    "    (1)# list\n",
    "    (2)# tuples\n",
    "    (3)# dictionary\n",
    "    (4)# sets\n",
    "    (5)# strings\n",
    "    (6)# collections\n",
    "    (7)# itertools\n",
    "    (8)# lambda functions\n",
    "    (9)# Exceptions and Errors\n",
    "    (10)# loggig\n",
    "    (11)# JSON\n",
    "    (12)# Random numbers\n",
    "    (13)# Decorators\n",
    "    (14)# Generators\n",
    "    (15)# Threading and Multiprocessing\n",
    "    (16)# Multithreading\n",
    "    (17)# Multiprocessing\n",
    "    (18)# Function Arguments\n",
    "    (19)# shallow vs deep copying\n",
    "    (20)# The Asterisk(*) Operators\n",
    "    (21)# Context Managers"
   ]
  },
  {
   "cell_type": "markdown",
   "id": "c7da42d2",
   "metadata": {},
   "source": [
    "# Lists:is the colllection data type which is ordered ,mutable and allows duplicate elements\n",
    "    # created by square bracket.\n",
    "    # we can accces(by index), delete and change the element of the given list."
   ]
  },
  {
   "cell_type": "markdown",
   "id": "cd2ff21d",
   "metadata": {},
   "source": [
    "# accessing the element of the list\n"
   ]
  },
  {
   "cell_type": "code",
   "execution_count": 1,
   "id": "dd310d3d",
   "metadata": {},
   "outputs": [
    {
     "data": {
      "text/plain": [
       "'banana'"
      ]
     },
     "execution_count": 1,
     "metadata": {},
     "output_type": "execute_result"
    }
   ],
   "source": [
    "myList=['banana','orange','mango']\n",
    "myList[0] # accessing the element of the list at the index '0'"
   ]
  },
  {
   "cell_type": "code",
   "execution_count": 2,
   "id": "88808cb4",
   "metadata": {},
   "outputs": [
    {
     "data": {
      "text/plain": [
       "1"
      ]
     },
     "execution_count": 2,
     "metadata": {},
     "output_type": "execute_result"
    }
   ],
   "source": [
    "myList=['banana','orange','mango']# to know on what index the 'orange' element occur.\n",
    "myList.index('orange')"
   ]
  },
  {
   "cell_type": "markdown",
   "id": "a8d36ddc",
   "metadata": {},
   "source": [
    "# accessing the last element of the list"
   ]
  },
  {
   "cell_type": "code",
   "execution_count": 2,
   "id": "bb359dc1",
   "metadata": {},
   "outputs": [
    {
     "data": {
      "text/plain": [
       "'mango'"
      ]
     },
     "execution_count": 2,
     "metadata": {},
     "output_type": "execute_result"
    }
   ],
   "source": [
    "myList[-1]"
   ]
  },
  {
   "cell_type": "markdown",
   "id": "60f954df",
   "metadata": {},
   "source": [
    "# Slicing the elements of the list: taking some element(some part) of the given list."
   ]
  },
  {
   "cell_type": "code",
   "execution_count": 3,
   "id": "97613e76",
   "metadata": {},
   "outputs": [
    {
     "data": {
      "text/plain": [
       "['banana', 'orange', 'mango']"
      ]
     },
     "execution_count": 3,
     "metadata": {},
     "output_type": "execute_result"
    }
   ],
   "source": [
    "myList[0:] # taking the element of the list from index 0 until end index."
   ]
  },
  {
   "cell_type": "code",
   "execution_count": 31,
   "id": "da85f7fb",
   "metadata": {},
   "outputs": [
    {
     "data": {
      "text/plain": [
       "[2, 3, 4, 5]"
      ]
     },
     "execution_count": 31,
     "metadata": {},
     "output_type": "execute_result"
    }
   ],
   "source": [
    "x=[1,2,3,4,5,6,7,8]\n",
    "a=x[1:5]# taking the element from index 1 to 4 inclusively.\n",
    "a"
   ]
  },
  {
   "cell_type": "markdown",
   "id": "c51521bd",
   "metadata": {},
   "source": [
    "# By step (some size) we can access the element of the list"
   ]
  },
  {
   "cell_type": "code",
   "execution_count": 32,
   "id": "690175d3",
   "metadata": {},
   "outputs": [
    {
     "data": {
      "text/plain": [
       "[1, 3, 5, 7]"
      ]
     },
     "execution_count": 32,
     "metadata": {},
     "output_type": "execute_result"
    }
   ],
   "source": [
    "y=[1,2,3,4,5,6,7,8]\n",
    "b=y[::2]\n",
    "b"
   ]
  },
  {
   "cell_type": "markdown",
   "id": "08001bcb",
   "metadata": {},
   "source": [
    "# By negative index we can access  "
   ]
  },
  {
   "cell_type": "code",
   "execution_count": 33,
   "id": "3b56408f",
   "metadata": {},
   "outputs": [
    {
     "data": {
      "text/plain": [
       "[8, 7, 6, 5, 4, 3, 2, 1]"
      ]
     },
     "execution_count": 33,
     "metadata": {},
     "output_type": "execute_result"
    }
   ],
   "source": [
    "m=[1,2,3,4,5,6,7,8]\n",
    "c=m[::-1] # reversing the order of the list as folow and accessing one by one.\n",
    "c"
   ]
  },
  {
   "cell_type": "code",
   "execution_count": 6,
   "id": "a15248b2",
   "metadata": {},
   "outputs": [
    {
     "data": {
      "text/plain": [
       "['banana', 'orange']"
      ]
     },
     "execution_count": 6,
     "metadata": {},
     "output_type": "execute_result"
    }
   ],
   "source": [
    "myList[:2] # The element on index 2 is exclusive here and the element from index 0 to 1 will printed."
   ]
  },
  {
   "cell_type": "markdown",
   "id": "03481904",
   "metadata": {},
   "source": [
    "# updating the the given list: we use append method to add single element to the list."
   ]
  },
  {
   "cell_type": "code",
   "execution_count": 16,
   "id": "fc5515a4",
   "metadata": {},
   "outputs": [
    {
     "data": {
      "text/plain": [
       "['banana', 'orange', 'mango', 'lemon', 'papaya']"
      ]
     },
     "execution_count": 16,
     "metadata": {},
     "output_type": "execute_result"
    }
   ],
   "source": [
    "myList.append(\"papaya\")\n",
    "myList"
   ]
  },
  {
   "cell_type": "markdown",
   "id": "d325d936",
   "metadata": {},
   "source": [
    "# Inserting: if we want to insert an item at the specific position we use insert method"
   ]
  },
  {
   "cell_type": "code",
   "execution_count": 18,
   "id": "35e74a29",
   "metadata": {},
   "outputs": [
    {
     "data": {
      "text/plain": [
       "['banana', 'blueberry', 'orange', 'mango', 'lemon', 'papaya']"
      ]
     },
     "execution_count": 18,
     "metadata": {},
     "output_type": "execute_result"
    }
   ],
   "source": [
    "myList.insert(1,'blueberry')# insering 'blueberry' at index 1.\n",
    "myList"
   ]
  },
  {
   "cell_type": "markdown",
   "id": "cf255f8a",
   "metadata": {},
   "source": [
    "# By using 'pop' method we can remove the last element of the given list, as follow."
   ]
  },
  {
   "cell_type": "code",
   "execution_count": 21,
   "id": "7894ccd4",
   "metadata": {},
   "outputs": [
    {
     "data": {
      "text/plain": [
       "['banana', 'orange', 'papaya']"
      ]
     },
     "execution_count": 21,
     "metadata": {},
     "output_type": "execute_result"
    }
   ],
   "source": [
    "item=['banana','orange','papaya','carrot']\n",
    "item.pop()# Here the last element of the given list will be removed as follow.\n",
    "item"
   ]
  },
  {
   "cell_type": "markdown",
   "id": "c9990243",
   "metadata": {},
   "source": [
    "# We can also remove the specific element with remove method and by passing the name of the element as follow."
   ]
  },
  {
   "cell_type": "code",
   "execution_count": 23,
   "id": "38570eb6",
   "metadata": {},
   "outputs": [
    {
     "data": {
      "text/plain": [
       "['banana', 'orange', 'papaya']"
      ]
     },
     "execution_count": 23,
     "metadata": {},
     "output_type": "execute_result"
    }
   ],
   "source": [
    "list=['banana','orange','papaya','carrot']\n",
    "list.remove('carrot') # carrot will removed from the given list\n",
    "list"
   ]
  },
  {
   "cell_type": "markdown",
   "id": "36e9d18b",
   "metadata": {},
   "source": [
    "# we can also remove all elements with clear() methos as follow."
   ]
  },
  {
   "cell_type": "code",
   "execution_count": 24,
   "id": "d6fc1ffd",
   "metadata": {},
   "outputs": [
    {
     "data": {
      "text/plain": [
       "[]"
      ]
     },
     "execution_count": 24,
     "metadata": {},
     "output_type": "execute_result"
    }
   ],
   "source": [
    "list.clear()\n",
    "list # all element from the list will be removed."
   ]
  },
  {
   "cell_type": "markdown",
   "id": "f226c103",
   "metadata": {},
   "source": [
    "# By reverse() method we can change the order of the list element as follow."
   ]
  },
  {
   "cell_type": "code",
   "execution_count": 26,
   "id": "7cf37cfc",
   "metadata": {},
   "outputs": [
    {
     "data": {
      "text/plain": [
       "['carrot', 'papaya', 'orange', 'banana']"
      ]
     },
     "execution_count": 26,
     "metadata": {},
     "output_type": "execute_result"
    }
   ],
   "source": [
    "L=['banana','orange','papaya','carrot']\n",
    "L.reverse()\n",
    "L"
   ]
  },
  {
   "cell_type": "markdown",
   "id": "6accdb0c",
   "metadata": {},
   "source": [
    "# By using sort() method we can put in ascending order as follow."
   ]
  },
  {
   "cell_type": "code",
   "execution_count": 27,
   "id": "19796076",
   "metadata": {},
   "outputs": [
    {
     "data": {
      "text/plain": [
       "['banana', 'carrot', 'orange', 'papaya']"
      ]
     },
     "execution_count": 27,
     "metadata": {},
     "output_type": "execute_result"
    }
   ],
   "source": [
    "L=['banana','orange','papaya','carrot']\n",
    "L.sort()# to put in alphabetical order.\n",
    "L"
   ]
  },
  {
   "cell_type": "code",
   "execution_count": 28,
   "id": "cb0b9360",
   "metadata": {},
   "outputs": [
    {
     "data": {
      "text/plain": [
       "[-10, -4, -1, 2, 4, 5, 8]"
      ]
     },
     "execution_count": 28,
     "metadata": {},
     "output_type": "execute_result"
    }
   ],
   "source": [
    "numbers=[2,5,8,4,-4,-10,-1]\n",
    "numbers.sort()# putting the number according to their increasing order as follow.\n",
    "numbers"
   ]
  },
  {
   "cell_type": "markdown",
   "id": "60349865",
   "metadata": {},
   "source": [
    "# squaring each element of the list"
   ]
  },
  {
   "cell_type": "code",
   "execution_count": 37,
   "id": "7f7feca9",
   "metadata": {},
   "outputs": [
    {
     "data": {
      "text/plain": [
       "[1, 4, 9, 16, 25, 36, 49, 64]"
      ]
     },
     "execution_count": 37,
     "metadata": {},
     "output_type": "execute_result"
    }
   ],
   "source": [
    "list1=[1,2,3,4,5,6,7,8]\n",
    "list2=[i*i for i in list1] # each element of the list1 will be squared.\n",
    "list2\n"
   ]
  },
  {
   "cell_type": "markdown",
   "id": "0c3384ce",
   "metadata": {},
   "source": [
    "# tuples: is an ordered,immutable(unchangeable) and allows duplicate items data type.\n",
    "#  created by barenthesis ()"
   ]
  },
  {
   "cell_type": "code",
   "execution_count": 29,
   "id": "854a29a5",
   "metadata": {},
   "outputs": [
    {
     "data": {
      "text/plain": [
       "('max', 28, 'Boston')"
      ]
     },
     "execution_count": 29,
     "metadata": {},
     "output_type": "execute_result"
    }
   ],
   "source": [
    "mytuple=('max',28,'Boston')\n",
    "mytuple"
   ]
  },
  {
   "cell_type": "markdown",
   "id": "95323592",
   "metadata": {},
   "source": [
    "# we access the element of tuple by it's index position."
   ]
  },
  {
   "cell_type": "code",
   "execution_count": 42,
   "id": "d86c152f",
   "metadata": {},
   "outputs": [
    {
     "data": {
      "text/plain": [
       "'max'"
      ]
     },
     "execution_count": 42,
     "metadata": {},
     "output_type": "execute_result"
    }
   ],
   "source": [
    "mytuple=('max',28,'Boston')\n",
    "x=mytuple[0]# the element at the index 0 will be printed to the console.\n",
    "x"
   ]
  },
  {
   "cell_type": "markdown",
   "id": "14342ed8",
   "metadata": {},
   "source": [
    "# We can also pass negative index to access the final element of the tuple, as follow."
   ]
  },
  {
   "cell_type": "code",
   "execution_count": 30,
   "id": "7459e8ff",
   "metadata": {},
   "outputs": [
    {
     "data": {
      "text/plain": [
       "'Boston'"
      ]
     },
     "execution_count": 30,
     "metadata": {},
     "output_type": "execute_result"
    }
   ],
   "source": [
    "mytuple=('max',28,'Boston')\n",
    "y=mytuple[-1] # the last element of the given tuple will be printed.\n",
    "y"
   ]
  },
  {
   "cell_type": "markdown",
   "id": "4f8ea075",
   "metadata": {},
   "source": [
    "# We can not change the element of the tuple (assigning new value is not poosible.) in tuple(immutable)"
   ]
  },
  {
   "cell_type": "markdown",
   "id": "ebd67868",
   "metadata": {},
   "source": [
    "mytuple=('max',28,'boston')\n",
    "mytuple[1]='marga'\n",
    "mytuple"
   ]
  },
  {
   "cell_type": "markdown",
   "id": "346f75c6",
   "metadata": {},
   "source": [
    "# We can iterate through the tuple as follow to access the element of tuple one by one."
   ]
  },
  {
   "cell_type": "code",
   "execution_count": 45,
   "id": "8b3ec08f",
   "metadata": {},
   "outputs": [
    {
     "name": "stdout",
     "output_type": "stream",
     "text": [
      "max\n",
      "28\n",
      "boston\n"
     ]
    }
   ],
   "source": [
    "mytuple=('max',28,'boston')\n",
    "for i in mytuple:\n",
    "    print(i)"
   ]
  },
  {
   "cell_type": "code",
   "execution_count": 46,
   "id": "9d16a99f",
   "metadata": {
    "scrolled": true
   },
   "outputs": [
    {
     "name": "stdout",
     "output_type": "stream",
     "text": [
      "max\n",
      "28\n",
      "boston\n"
     ]
    }
   ],
   "source": [
    "mytuple=('max',28,'boston')# another option to print one by one.\n",
    "for x in mytuple:\n",
    "    print(x)"
   ]
  },
  {
   "cell_type": "markdown",
   "id": "602ae207",
   "metadata": {},
   "source": [
    "# we can also check wether one element is present in the tuple or not as follow."
   ]
  },
  {
   "cell_type": "code",
   "execution_count": 47,
   "id": "075c2cde",
   "metadata": {},
   "outputs": [
    {
     "name": "stdout",
     "output_type": "stream",
     "text": [
      "yes\n"
     ]
    }
   ],
   "source": [
    "mytuple=('max',28,'boston')\n",
    "if 'max' in mytuple:\n",
    "    print('yes')\n",
    "else:\n",
    "    print('no')\n",
    "    "
   ]
  },
  {
   "cell_type": "code",
   "execution_count": 48,
   "id": "d3169580",
   "metadata": {},
   "outputs": [
    {
     "name": "stdout",
     "output_type": "stream",
     "text": [
      "no\n"
     ]
    }
   ],
   "source": [
    "mytuple=('max',28,'boston')\n",
    "if 'marga' in mytuple:\n",
    "    print('yes')\n",
    "else:\n",
    "    print('no')\n",
    "    "
   ]
  },
  {
   "cell_type": "markdown",
   "id": "a69d02a3",
   "metadata": {},
   "source": [
    "# We can also get the length of the tuple by passing len() method as folow."
   ]
  },
  {
   "cell_type": "code",
   "execution_count": 49,
   "id": "ee6fa68d",
   "metadata": {},
   "outputs": [
    {
     "data": {
      "text/plain": [
       "6"
      ]
     },
     "execution_count": 49,
     "metadata": {},
     "output_type": "execute_result"
    }
   ],
   "source": [
    "tuple=('a','f',56,7,9,'marga')\n",
    "len(tuple) # 3 string and 3 integer  in general 6 will be printed."
   ]
  },
  {
   "cell_type": "markdown",
   "id": "b09f4cdd",
   "metadata": {},
   "source": [
    "# By passing count() method we can get how many some element occur in the given tuple."
   ]
  },
  {
   "cell_type": "code",
   "execution_count": 50,
   "id": "66419f80",
   "metadata": {},
   "outputs": [
    {
     "data": {
      "text/plain": [
       "3"
      ]
     },
     "execution_count": 50,
     "metadata": {},
     "output_type": "execute_result"
    }
   ],
   "source": [
    "tuple1=(2,2,'t','m','marga','keep',3,4,2)\n",
    "tuple1.count(2)# the element 3 is occured 3* in tuple so 3 will be printed as ootput."
   ]
  },
  {
   "cell_type": "code",
   "execution_count": 51,
   "id": "03a46d82",
   "metadata": {},
   "outputs": [
    {
     "data": {
      "text/plain": [
       "1"
      ]
     },
     "execution_count": 51,
     "metadata": {},
     "output_type": "execute_result"
    }
   ],
   "source": [
    "tuple1.count('marga')"
   ]
  },
  {
   "cell_type": "code",
   "execution_count": 52,
   "id": "8a95aa56",
   "metadata": {},
   "outputs": [
    {
     "data": {
      "text/plain": [
       "0"
      ]
     },
     "execution_count": 52,
     "metadata": {},
     "output_type": "execute_result"
    }
   ],
   "source": [
    "tuple1.count('s')"
   ]
  },
  {
   "cell_type": "markdown",
   "id": "6ae77efb",
   "metadata": {},
   "source": [
    "# By passing index() method we can get on what index the given element in the tuple is occured as follow."
   ]
  },
  {
   "cell_type": "code",
   "execution_count": 53,
   "id": "4b47a194",
   "metadata": {},
   "outputs": [
    {
     "data": {
      "text/plain": [
       "2"
      ]
     },
     "execution_count": 53,
     "metadata": {},
     "output_type": "execute_result"
    }
   ],
   "source": [
    "tuple1=(2,2,'t','m','marga','keep',3,4,2)\n",
    "tuple1.index('t')"
   ]
  },
  {
   "cell_type": "markdown",
   "id": "f3c48bed",
   "metadata": {},
   "source": [
    "# This method aslo work for list as well check it."
   ]
  },
  {
   "cell_type": "markdown",
   "id": "d9f280bc",
   "metadata": {},
   "source": [
    "# we can access some part of the tuple element.(slicing)"
   ]
  },
  {
   "cell_type": "code",
   "execution_count": 57,
   "id": "ad144924",
   "metadata": {},
   "outputs": [
    {
     "data": {
      "text/plain": [
       "(3, 4, 5)"
      ]
     },
     "execution_count": 57,
     "metadata": {},
     "output_type": "execute_result"
    }
   ],
   "source": [
    "a=(1,2,3,4,5,6,7,8)\n",
    "b=a[2:5] 2 to 4 inclusively\n",
    "b"
   ]
  },
  {
   "cell_type": "markdown",
   "id": "9721fc26",
   "metadata": {},
   "source": [
    "# reversing the element of the tuple by passing negative one"
   ]
  },
  {
   "cell_type": "code",
   "execution_count": 58,
   "id": "32e10306",
   "metadata": {},
   "outputs": [
    {
     "data": {
      "text/plain": [
       "(8, 7, 6, 5, 4, 3, 2, 1)"
      ]
     },
     "execution_count": 58,
     "metadata": {},
     "output_type": "execute_result"
    }
   ],
   "source": [
    "a=(1,2,3,4,5,6,7,8)\n",
    "a[::-1]"
   ]
  },
  {
   "cell_type": "markdown",
   "id": "3f1d84cd",
   "metadata": {},
   "source": [
    "# unpacking method: the process of extracting individual items from a data structure, such as a list or a tuple, and assigning them to separate variables."
   ]
  },
  {
   "cell_type": "markdown",
   "id": "3fd0ca56",
   "metadata": {},
   "source": [
    "#  unpacking is commonly used with iterable objects like lists, tuples, dictionaries, etc. The syntax for unpacking varies depending on the type of data structure being unpacked."
   ]
  },
  {
   "cell_type": "code",
   "execution_count": 64,
   "id": "9e17c1a7",
   "metadata": {},
   "outputs": [
    {
     "name": "stdout",
     "output_type": "stream",
     "text": [
      "max\n",
      "28\n",
      "boston\n"
     ]
    }
   ],
   "source": [
    "my_tuple=('max',28,'boston')\n",
    "name,age,city=my_tuple\n",
    "print(name)\n",
    "print(age)\n",
    "print(city)"
   ]
  },
  {
   "cell_type": "markdown",
   "id": "fa292ec4",
   "metadata": {},
   "source": [
    "# But the element in the given list,tuple and dictionary and the variable assighned for them must be balanced."
   ]
  },
  {
   "cell_type": "code",
   "execution_count": 65,
   "id": "0f765963",
   "metadata": {},
   "outputs": [
    {
     "ename": "ValueError",
     "evalue": "not enough values to unpack (expected 4, got 3)",
     "output_type": "error",
     "traceback": [
      "\u001b[1;31m---------------------------------------------------------------------------\u001b[0m",
      "\u001b[1;31mValueError\u001b[0m                                Traceback (most recent call last)",
      "Cell \u001b[1;32mIn[65], line 2\u001b[0m\n\u001b[0;32m      1\u001b[0m my_tuple\u001b[38;5;241m=\u001b[39m(\u001b[38;5;124m'\u001b[39m\u001b[38;5;124mmax\u001b[39m\u001b[38;5;124m'\u001b[39m,\u001b[38;5;241m28\u001b[39m,\u001b[38;5;124m'\u001b[39m\u001b[38;5;124mboston\u001b[39m\u001b[38;5;124m'\u001b[39m)\n\u001b[1;32m----> 2\u001b[0m name,age,city,state\u001b[38;5;241m=\u001b[39mmy_tuple\n\u001b[0;32m      3\u001b[0m \u001b[38;5;28mprint\u001b[39m(name)\n\u001b[0;32m      4\u001b[0m \u001b[38;5;28mprint\u001b[39m(age)\n",
      "\u001b[1;31mValueError\u001b[0m: not enough values to unpack (expected 4, got 3)"
     ]
    }
   ],
   "source": [
    "my_tuple=('max',28,'boston')\n",
    "name,age,city,state=my_tuple\n",
    "print(name)\n",
    "print(age)\n",
    "print(city)\n",
    "print(state)\n",
    "\n"
   ]
  },
  {
   "cell_type": "markdown",
   "id": "f4e8e4f3",
   "metadata": {},
   "source": [
    "# Accordingly we can pass many element for one variable  by using * sign as follow, in unpacking method"
   ]
  },
  {
   "cell_type": "code",
   "execution_count": 66,
   "id": "189ed72f",
   "metadata": {},
   "outputs": [
    {
     "name": "stdout",
     "output_type": "stream",
     "text": [
      "1\n",
      "8\n",
      "[2, 3, 45, 6, 7]\n"
     ]
    }
   ],
   "source": [
    "a=(1,2,3,45,6,7,8)\n",
    "i1,*i2,i3=a\n",
    "print(i1)# the first element will be printed\n",
    "print(i3)# the last element will be printed\n",
    "print(i2)# the left all element(between i1 and i3) as single list will be printed as follow step by step."
   ]
  },
  {
   "cell_type": "markdown",
   "id": "fc31bd48",
   "metadata": {},
   "source": [
    "# Dictionaries: is collection data type that is:\n",
    "        # contains key_value pairs(key and value pairs are separeted by:) and the element is separeted by ,.\n",
    "        # unordered and \n",
    "        # mutable\n",
    "# created by curly braces {}¶"
   ]
  },
  {
   "cell_type": "code",
   "execution_count": 67,
   "id": "33d1e68f",
   "metadata": {},
   "outputs": [
    {
     "data": {
      "text/plain": [
       "{'name': 'marga', 'age': 28, 'city': 'London'}"
      ]
     },
     "execution_count": 67,
     "metadata": {},
     "output_type": "execute_result"
    }
   ],
   "source": [
    "mydict={'name':'marga','age':28,'city':'London'}\n",
    "mydict"
   ]
  },
  {
   "cell_type": "markdown",
   "id": "a39a73cb",
   "metadata": {},
   "source": [
    "# we can access the value of the dictionary by we smply pass the key in square bracket[] as follow."
   ]
  },
  {
   "cell_type": "code",
   "execution_count": 69,
   "id": "d2ab1a50",
   "metadata": {},
   "outputs": [
    {
     "data": {
      "text/plain": [
       "'marga'"
      ]
     },
     "execution_count": 69,
     "metadata": {},
     "output_type": "execute_result"
    }
   ],
   "source": [
    "mydict={'name':'marga','age':28,'city':'London'}\n",
    "mydict['name'] # to get the value for the name."
   ]
  },
  {
   "cell_type": "code",
   "execution_count": 70,
   "id": "8ad05bd5",
   "metadata": {},
   "outputs": [
    {
     "data": {
      "text/plain": [
       "'London'"
      ]
     },
     "execution_count": 70,
     "metadata": {},
     "output_type": "execute_result"
    }
   ],
   "source": [
    "mydict['city']# to get the value for which city."
   ]
  },
  {
   "cell_type": "markdown",
   "id": "1d53b533",
   "metadata": {},
   "source": [
    "# key error will be occured if we pass the key which is not present in the given dictonary"
   ]
  },
  {
   "cell_type": "code",
   "execution_count": 71,
   "id": "46cb89c2",
   "metadata": {},
   "outputs": [
    {
     "ename": "KeyError",
     "evalue": "'country'",
     "output_type": "error",
     "traceback": [
      "\u001b[1;31m---------------------------------------------------------------------------\u001b[0m",
      "\u001b[1;31mKeyError\u001b[0m                                  Traceback (most recent call last)",
      "Cell \u001b[1;32mIn[71], line 1\u001b[0m\n\u001b[1;32m----> 1\u001b[0m mydict[\u001b[38;5;124m'\u001b[39m\u001b[38;5;124mcountry\u001b[39m\u001b[38;5;124m'\u001b[39m]\n",
      "\u001b[1;31mKeyError\u001b[0m: 'country'"
     ]
    }
   ],
   "source": [
    "mydict['country']# since the country key is not present says key error in output"
   ]
  },
  {
   "cell_type": "code",
   "execution_count": 74,
   "id": "7a663e2c",
   "metadata": {},
   "outputs": [
    {
     "data": {
      "text/plain": [
       "{'name': 'marga',\n",
       " 'age': 28,\n",
       " 'city': 'London',\n",
       " 'email': 'margaganati.jesus@gmail.com'}"
      ]
     },
     "execution_count": 74,
     "metadata": {},
     "output_type": "execute_result"
    }
   ],
   "source": [
    "mydict['email']='margaganati.jesus@gmail.com'\n",
    "mydict"
   ]
  },
  {
   "cell_type": "markdown",
   "id": "3a4e98e5",
   "metadata": {},
   "source": [
    "# if we want to delete the element of the dictionary we have several option to do as follow."
   ]
  },
  {
   "cell_type": "markdown",
   "id": "e2c05c07",
   "metadata": {},
   "source": [
    "# del statement followed by dictionary name[\"name of the key\"]"
   ]
  },
  {
   "cell_type": "code",
   "execution_count": 75,
   "id": "d14808d8",
   "metadata": {},
   "outputs": [
    {
     "data": {
      "text/plain": [
       "{'name': 'marga', 'city': 'London', 'email': 'margaganati.jesus@gmail.com'}"
      ]
     },
     "execution_count": 75,
     "metadata": {},
     "output_type": "execute_result"
    }
   ],
   "source": [
    "del mydict['age']# the 'age' key_value pair is not available here(on the output)\n",
    "mydict"
   ]
  },
  {
   "cell_type": "markdown",
   "id": "84ab774f",
   "metadata": {},
   "source": [
    "# we can also use .pop() method to remove the element from the dictionary. as follow."
   ]
  },
  {
   "cell_type": "markdown",
   "id": "7a28d2c2",
   "metadata": {},
   "source": [
    "# dictionaryname.pop('the name of the key in the given dictionary')"
   ]
  },
  {
   "cell_type": "code",
   "execution_count": 79,
   "id": "fe0b2c1c",
   "metadata": {},
   "outputs": [
    {
     "data": {
      "text/plain": [
       "{'name': 'marga', 'city': 'London'}"
      ]
     },
     "execution_count": 79,
     "metadata": {},
     "output_type": "execute_result"
    }
   ],
   "source": [
    "mydict={'name':'marga','age':28,'city':'London'}\n",
    "mydict.pop('age')\n",
    "mydict"
   ]
  },
  {
   "cell_type": "markdown",
   "id": "3faa127e",
   "metadata": {},
   "source": [
    "# by using .popitem() method we also remove the last element from the given dictionary."
   ]
  },
  {
   "cell_type": "code",
   "execution_count": 80,
   "id": "b1a40ce7",
   "metadata": {},
   "outputs": [
    {
     "data": {
      "text/plain": [
       "{'name': 'marga', 'age': 28}"
      ]
     },
     "execution_count": 80,
     "metadata": {},
     "output_type": "execute_result"
    }
   ],
   "source": [
    "mydict={'name':'marga','age':28,'city':'London'}\n",
    "mydict.popitem()# the city is no longer available inside our dictionary on the output as follow.\n",
    "mydict"
   ]
  },
  {
   "cell_type": "markdown",
   "id": "883f83af",
   "metadata": {},
   "source": [
    "# To check for the persence of the key in the dictionary we use \"if in\" as follow"
   ]
  },
  {
   "cell_type": "code",
   "execution_count": 81,
   "id": "def4104d",
   "metadata": {},
   "outputs": [
    {
     "name": "stdout",
     "output_type": "stream",
     "text": [
      "yes\n"
     ]
    }
   ],
   "source": [
    "mydict={'name':'marga','age':28,'city':'London'}\n",
    "if 'age' in mydict:\n",
    "    print('yes')\n",
    "else:\n",
    "    print('you are wrong')"
   ]
  },
  {
   "cell_type": "code",
   "execution_count": 82,
   "id": "a278e694",
   "metadata": {},
   "outputs": [
    {
     "name": "stdout",
     "output_type": "stream",
     "text": [
      "you are wrong\n"
     ]
    }
   ],
   "source": [
    "mydict={'name':'marga','age':28,'city':'London'}\n",
    "if 'country' in mydict:\n",
    "    print('yes')\n",
    "else:\n",
    "    print('you are wrong')"
   ]
  },
  {
   "cell_type": "markdown",
   "id": "ba290ea6",
   "metadata": {},
   "source": [
    "# We also use try ,except method to check the persence of the key in the dictionary"
   ]
  },
  {
   "cell_type": "code",
   "execution_count": 83,
   "id": "ed39f62e",
   "metadata": {},
   "outputs": [
    {
     "name": "stdout",
     "output_type": "stream",
     "text": [
      "marga\n"
     ]
    }
   ],
   "source": [
    "mydict={'name':'marga','age':28,'city':'London'}\n",
    "try:\n",
    "    print(mydict['name'])# since the name is present the value will be printed here('marga').\n",
    "except:\n",
    "    print('error')"
   ]
  },
  {
   "cell_type": "markdown",
   "id": "f575a0a7",
   "metadata": {},
   "source": [
    "mydict={'name':'marga','age':28,'city':'London'}\n",
    "try:\n",
    "    print(mydict['country'])\n",
    "except:\n",
    "    print('error')"
   ]
  },
  {
   "cell_type": "markdown",
   "id": "eb6d7c88",
   "metadata": {},
   "source": [
    "# To access the all the key name of the given dictionary we can use for loop as follow."
   ]
  },
  {
   "cell_type": "code",
   "execution_count": 32,
   "id": "c8f5c406",
   "metadata": {},
   "outputs": [
    {
     "name": "stdout",
     "output_type": "stream",
     "text": [
      "name\n",
      "age\n",
      "city\n"
     ]
    }
   ],
   "source": [
    "mydict={'name':'marga','age':28,'city':'London'}\n",
    "for key in mydict:\n",
    "    print(key)"
   ]
  },
  {
   "cell_type": "code",
   "execution_count": 86,
   "id": "9adb7aea",
   "metadata": {},
   "outputs": [
    {
     "name": "stdout",
     "output_type": "stream",
     "text": [
      "name\n",
      "age\n",
      "city\n"
     ]
    }
   ],
   "source": [
    "# also we can say that\n",
    "for key in mydict.keys():\n",
    "    print(key)"
   ]
  },
  {
   "cell_type": "markdown",
   "id": "d7db40e3",
   "metadata": {},
   "source": [
    "# Also for printing the values we use the following method(code)"
   ]
  },
  {
   "cell_type": "code",
   "execution_count": 88,
   "id": "91e61f4d",
   "metadata": {},
   "outputs": [
    {
     "name": "stdout",
     "output_type": "stream",
     "text": [
      "marga\n",
      "28\n",
      "London\n"
     ]
    }
   ],
   "source": [
    "mydict={'name':'marga','age':28,'city':'London'}\n",
    "for value in mydict.values():\n",
    "    print(value)"
   ]
  },
  {
   "cell_type": "markdown",
   "id": "4943486d",
   "metadata": {},
   "source": [
    "# To get key value pairs using for loop we use the following code."
   ]
  },
  {
   "cell_type": "code",
   "execution_count": 89,
   "id": "14411b3b",
   "metadata": {},
   "outputs": [
    {
     "name": "stdout",
     "output_type": "stream",
     "text": [
      "name marga\n",
      "age 28\n",
      "city London\n"
     ]
    }
   ],
   "source": [
    "mydict={'name':'marga','age':28,'city':'London'}\n",
    "for key,value in mydict.items():\n",
    "    print(key,value)"
   ]
  },
  {
   "cell_type": "markdown",
   "id": "d86d5c69",
   "metadata": {},
   "source": [
    "# We can use .update() method to merge two dictionary as follow."
   ]
  },
  {
   "cell_type": "code",
   "execution_count": 1,
   "id": "6f118cda",
   "metadata": {},
   "outputs": [
    {
     "data": {
      "text/plain": [
       "{'name': 'tolu', 'age': 30, 'city': 'London', 'country': 'Netherland'}"
      ]
     },
     "execution_count": 1,
     "metadata": {},
     "output_type": "execute_result"
    }
   ],
   "source": [
    "mydict={'name':'marga','age':28,'city':'London'}\n",
    "mydict2={'name':'tolu','age':30,'country':'Netherland'}\n",
    "mydict.update(mydict2)\n",
    "mydict"
   ]
  },
  {
   "cell_type": "markdown",
   "id": "e7ebebcc",
   "metadata": {},
   "source": [
    "# In above output the mydict is updated and the key value in first dict is update and the key which is not available in second dictionary is stay as it was and the new key which was there in second dictionary also printed."
   ]
  },
  {
   "cell_type": "markdown",
   "id": "13257ad3",
   "metadata": {},
   "source": [
    "#  To know the value for the given key in the given dictionary use the following code."
   ]
  },
  {
   "cell_type": "code",
   "execution_count": 2,
   "id": "2de6d7f9",
   "metadata": {},
   "outputs": [
    {
     "data": {
      "text/plain": [
       "'tolu'"
      ]
     },
     "execution_count": 2,
     "metadata": {},
     "output_type": "execute_result"
    }
   ],
   "source": [
    "mydict2={'name':'tolu','age':30,'country':'Netherland'}\n",
    "value=mydict2['name']# to know fr the 'name' key it will return 'tolu' as follow.\n",
    "value"
   ]
  },
  {
   "cell_type": "markdown",
   "id": "600215d9",
   "metadata": {},
   "source": [
    "# sets: is unordered,mutable and no duplicate items.\n",
    "        # created by open curly braces just like dictionary but not have key_value pairs.\n",
    "        # contains single element separeted by coma(,)"
   ]
  },
  {
   "cell_type": "code",
   "execution_count": 4,
   "id": "f8fc9aae",
   "metadata": {},
   "outputs": [
    {
     "data": {
      "text/plain": [
       "{1, 2, 3}"
      ]
     },
     "execution_count": 4,
     "metadata": {},
     "output_type": "execute_result"
    }
   ],
   "source": [
    "myset={1,2,3}\n",
    "myset"
   ]
  },
  {
   "cell_type": "code",
   "execution_count": 5,
   "id": "dc94adbd",
   "metadata": {},
   "outputs": [
    {
     "data": {
      "text/plain": [
       "{1, 2, 3, 4}"
      ]
     },
     "execution_count": 5,
     "metadata": {},
     "output_type": "execute_result"
    }
   ],
   "source": [
    "# not alllow duplicate element one 2 will be removed in the following when we excute.\n",
    "myset={1,2,3,2,4}\n",
    "myset"
   ]
  },
  {
   "cell_type": "markdown",
   "id": "4f4e50ab",
   "metadata": {},
   "source": [
    "# We can change the list,string to set as set() method as folow.\n"
   ]
  },
  {
   "cell_type": "code",
   "execution_count": 10,
   "id": "5f367301",
   "metadata": {},
   "outputs": [
    {
     "data": {
      "text/plain": [
       "{1, 2, 3, 4}"
      ]
     },
     "execution_count": 10,
     "metadata": {},
     "output_type": "execute_result"
    }
   ],
   "source": [
    "myset=set([1,2,4,3])# this is list and converted to set when we excute it as follow.\n",
    "myset"
   ]
  },
  {
   "cell_type": "code",
   "execution_count": 8,
   "id": "1aff50c7",
   "metadata": {},
   "outputs": [
    {
     "data": {
      "text/plain": [
       "{'a', 'g', 'm', 'r'}"
      ]
     },
     "execution_count": 8,
     "metadata": {},
     "output_type": "execute_result"
    }
   ],
   "source": [
    "myset1=set('marga')# this is string but converted to set when we excute it as follow but a occur once rather than twice.\n",
    "myset1"
   ]
  },
  {
   "cell_type": "markdown",
   "id": "29ee266d",
   "metadata": {},
   "source": [
    "# sets are mutable and we can change the elemenen in the set and we can modify it."
   ]
  },
  {
   "cell_type": "code",
   "execution_count": 11,
   "id": "4fcefccb",
   "metadata": {},
   "outputs": [
    {
     "data": {
      "text/plain": [
       "{1, 2, 3}"
      ]
     },
     "execution_count": 11,
     "metadata": {},
     "output_type": "execute_result"
    }
   ],
   "source": [
    "myset=set()# empty set and adding element to it.\n",
    "myset.add(1)\n",
    "myset.add(2)\n",
    "myset.add(3)\n",
    "myset\n"
   ]
  },
  {
   "cell_type": "markdown",
   "id": "3970917b",
   "metadata": {},
   "source": [
    "# By remove () we can remove the element of the set as follow."
   ]
  },
  {
   "cell_type": "code",
   "execution_count": 12,
   "id": "1478b5e0",
   "metadata": {},
   "outputs": [
    {
     "data": {
      "text/plain": [
       "{1, 2, 5}"
      ]
     },
     "execution_count": 12,
     "metadata": {},
     "output_type": "execute_result"
    }
   ],
   "source": [
    "myset={1,2,4,5}\n",
    "myset.remove(4)# 4 will be removed and no longer available when we excute it as follow.\n",
    "myset"
   ]
  },
  {
   "cell_type": "markdown",
   "id": "4bf62a04",
   "metadata": {},
   "source": [
    "# We can also remove the element of the set by discard () as follow."
   ]
  },
  {
   "cell_type": "code",
   "execution_count": 13,
   "id": "2b552e45",
   "metadata": {},
   "outputs": [
    {
     "data": {
      "text/plain": [
       "{1, 2, 4, 5}"
      ]
     },
     "execution_count": 13,
     "metadata": {},
     "output_type": "execute_result"
    }
   ],
   "source": [
    "myset={1,2,4,5 ,'marga'}\n",
    "myset.discard('marga')# marge will be no longer available when we excute this code.\n",
    "myset"
   ]
  },
  {
   "cell_type": "markdown",
   "id": "e7494be1",
   "metadata": {},
   "source": [
    "# To empty our set we use clear () method as follow."
   ]
  },
  {
   "cell_type": "code",
   "execution_count": 15,
   "id": "f23988a0",
   "metadata": {},
   "outputs": [
    {
     "data": {
      "text/plain": [
       "set()"
      ]
     },
     "execution_count": 15,
     "metadata": {},
     "output_type": "execute_result"
    }
   ],
   "source": [
    "myset={'q',4,'marga',3,5}\n",
    "myset.clear()# empty set will be created when we excute this code.\n",
    "myset"
   ]
  },
  {
   "cell_type": "markdown",
   "id": "1fea41b6",
   "metadata": {},
   "source": [
    "# We can also use pop() method to make removethe last element from set as folllow..¶"
   ]
  },
  {
   "cell_type": "code",
   "execution_count": 17,
   "id": "fe2720cd",
   "metadata": {},
   "outputs": [
    {
     "data": {
      "text/plain": [
       "{5, 'Jalata'}"
      ]
     },
     "execution_count": 17,
     "metadata": {},
     "output_type": "execute_result"
    }
   ],
   "source": [
    "set={'Jalata',5,'Gemgem'}\n",
    "set.pop()# 'Gemgem' will be removed as follow when we excute it.\n",
    "set"
   ]
  },
  {
   "cell_type": "markdown",
   "id": "7d1b8465",
   "metadata": {},
   "source": [
    "# We can iterate through  each element in the set by using for loop as follow to access each element within the set."
   ]
  },
  {
   "cell_type": "code",
   "execution_count": 20,
   "id": "c3589d21",
   "metadata": {
    "scrolled": true
   },
   "outputs": [
    {
     "name": "stdout",
     "output_type": "stream",
     "text": [
      "garama\n",
      "5.6\n",
      "6\n",
      "Tola\n"
     ]
    }
   ],
   "source": [
    "set={'garama',6,'Tola',5.6}\n",
    "for x in set:\n",
    "    print(x)"
   ]
  },
  {
   "cell_type": "markdown",
   "id": "9150e97e",
   "metadata": {},
   "source": [
    "# We can check the persence or absence of the element by using the foloowing code."
   ]
  },
  {
   "cell_type": "code",
   "execution_count": 21,
   "id": "51cb0216",
   "metadata": {},
   "outputs": [
    {
     "name": "stdout",
     "output_type": "stream",
     "text": [
      "yes\n"
     ]
    }
   ],
   "source": [
    "set={'garama',6,'Tola',5.6}\n",
    "if 'garama' in set:\n",
    "    print('yes')\n",
    "else:\n",
    "    print('no')"
   ]
  },
  {
   "cell_type": "code",
   "execution_count": 22,
   "id": "86cd9533",
   "metadata": {},
   "outputs": [
    {
     "name": "stdout",
     "output_type": "stream",
     "text": [
      "no\n"
     ]
    }
   ],
   "source": [
    "set={'garama',6,'Tola',5.6}\n",
    "if 'marga' in set:\n",
    "    print('yes')\n",
    "else:\n",
    "    print('no')"
   ]
  },
  {
   "cell_type": "code",
   "execution_count": 23,
   "id": "e526b325",
   "metadata": {},
   "outputs": [],
   "source": [
    "set={'garama',6,'Tola',5.6}\n",
    "if 'marga' in set:\n",
    "    print('yes')# nothing will be printed here since 'marga' is not present."
   ]
  },
  {
   "cell_type": "markdown",
   "id": "49e56fae",
   "metadata": {},
   "source": [
    "# for set we can use 'intersection' and 'union' for two or more set as follow."
   ]
  },
  {
   "cell_type": "code",
   "execution_count": 24,
   "id": "7c8c4af3",
   "metadata": {},
   "outputs": [
    {
     "data": {
      "text/plain": [
       "{1, 2, 3, 4, 5, 6, 7}"
      ]
     },
     "execution_count": 24,
     "metadata": {},
     "output_type": "execute_result"
    }
   ],
   "source": [
    "set1={1,2,3,4}\n",
    "set2={4,5,6,7}\n",
    "L=set1.union(set2)# the union of the two sets() are printed when we excute it.it will combine the element of two sets.\n",
    "L"
   ]
  },
  {
   "cell_type": "code",
   "execution_count": 26,
   "id": "2f421abf",
   "metadata": {},
   "outputs": [
    {
     "data": {
      "text/plain": [
       "{4}"
      ]
     },
     "execution_count": 26,
     "metadata": {},
     "output_type": "execute_result"
    }
   ],
   "source": [
    "L1=set1.intersection(set2)# the commo element for two sets will be printed as follow.4 is common element for two sets.\n",
    "L1"
   ]
  },
  {
   "cell_type": "markdown",
   "id": "2f95c846",
   "metadata": {},
   "source": [
    "# We can also get their 'difference' by using 'difference' for two or more sets."
   ]
  },
  {
   "cell_type": "code",
   "execution_count": 27,
   "id": "d0e2ad32",
   "metadata": {},
   "outputs": [
    {
     "data": {
      "text/plain": [
       "{2, 3, 4}"
      ]
     },
     "execution_count": 27,
     "metadata": {},
     "output_type": "execute_result"
    }
   ],
   "source": [
    "set1={2,3,4,5,6,7,8}\n",
    "set2={5,6,7,8,9,10}\n",
    "d=set1.difference(set2)# the element which only occur in set1 is printed as follow.\n",
    "d"
   ]
  },
  {
   "cell_type": "code",
   "execution_count": 28,
   "id": "37525c6f",
   "metadata": {},
   "outputs": [
    {
     "data": {
      "text/plain": [
       "{9, 10}"
      ]
     },
     "execution_count": 28,
     "metadata": {},
     "output_type": "execute_result"
    }
   ],
   "source": [
    "e=set2.difference(set1)# the element which occur in the set2 will be printed as follow.\n",
    "e"
   ]
  },
  {
   "cell_type": "markdown",
   "id": "3c4a4166",
   "metadata": {},
   "source": [
    "# we can also use symmetric_difference methood for set to return the element which is occur only in one set but not occur in both."
   ]
  },
  {
   "cell_type": "code",
   "execution_count": 29,
   "id": "57314b44",
   "metadata": {},
   "outputs": [
    {
     "data": {
      "text/plain": [
       "{2, 3, 4, 9, 10}"
      ]
     },
     "execution_count": 29,
     "metadata": {},
     "output_type": "execute_result"
    }
   ],
   "source": [
    "set1={2,3,4,5,6,7,8}\n",
    "set2={5,6,7,8,9,10}\n",
    "S=set1.symmetric_difference(set2)# here 2,3,4 is only occured in set1 and 9,10 is only occur in set2 printed as follow.\n",
    "S"
   ]
  },
  {
   "cell_type": "markdown",
   "id": "d39ffade",
   "metadata": {},
   "source": [
    "# We can also use update method for two sets for return(get) unique element for both set."
   ]
  },
  {
   "cell_type": "code",
   "execution_count": 31,
   "id": "aa3ce8df",
   "metadata": {},
   "outputs": [
    {
     "data": {
      "text/plain": [
       "{2, 3, 4, 5, 6, 7, 8, 9, 10}"
      ]
     },
     "execution_count": 31,
     "metadata": {},
     "output_type": "execute_result"
    }
   ],
   "source": [
    "set1={2,3,4,5,6,7,8}\n",
    "set2={5,6,7,8,9,10}\n",
    "set1.update(set2)\n",
    "set1"
   ]
  },
  {
   "cell_type": "markdown",
   "id": "b7873096",
   "metadata": {},
   "source": [
    "# frozenset is an immutable form of set from the normal set."
   ]
  },
  {
   "cell_type": "code",
   "execution_count": 32,
   "id": "5fb6223f",
   "metadata": {},
   "outputs": [
    {
     "data": {
      "text/plain": [
       "frozenset({1, 2, 3, 4})"
      ]
     },
     "execution_count": 32,
     "metadata": {},
     "output_type": "execute_result"
    }
   ],
   "source": [
    "a=frozenset([1,2,3,4])\n",
    "a"
   ]
  },
  {
   "cell_type": "markdown",
   "id": "af34e8c7",
   "metadata": {},
   "source": [
    "# frozenset can not changed after it's creation as follow."
   ]
  },
  {
   "cell_type": "code",
   "execution_count": 34,
   "id": "4b02d9f8",
   "metadata": {},
   "outputs": [
    {
     "ename": "AttributeError",
     "evalue": "'frozenset' object has no attribute 'remove'",
     "output_type": "error",
     "traceback": [
      "\u001b[1;31m---------------------------------------------------------------------------\u001b[0m",
      "\u001b[1;31mAttributeError\u001b[0m                            Traceback (most recent call last)",
      "Cell \u001b[1;32mIn[34], line 2\u001b[0m\n\u001b[0;32m      1\u001b[0m a\u001b[38;5;241m=\u001b[39m\u001b[38;5;28mfrozenset\u001b[39m([\u001b[38;5;241m1\u001b[39m,\u001b[38;5;241m2\u001b[39m,\u001b[38;5;241m3\u001b[39m,\u001b[38;5;241m4\u001b[39m])\n\u001b[1;32m----> 2\u001b[0m a\u001b[38;5;241m.\u001b[39mremove(\u001b[38;5;241m2\u001b[39m)\n\u001b[0;32m      3\u001b[0m a\n",
      "\u001b[1;31mAttributeError\u001b[0m: 'frozenset' object has no attribute 'remove'"
     ]
    }
   ],
   "source": [
    "a=frozenset([1,2,3,4])\n",
    "a.remove(2)\n",
    "a"
   ]
  },
  {
   "cell_type": "markdown",
   "id": "313d151c",
   "metadata": {},
   "source": [
    "# Strings: are immutable,ordered and text representation of data type.\n",
    "                # is the most used data type in python and enclosed by singe,double or triple quot(',\",'\")."
   ]
  },
  {
   "cell_type": "code",
   "execution_count": 35,
   "id": "b11b7907",
   "metadata": {},
   "outputs": [
    {
     "data": {
      "text/plain": [
       "\"i'm a progammer\""
      ]
     },
     "execution_count": 35,
     "metadata": {},
     "output_type": "execute_result"
    }
   ],
   "source": [
    "my_string=\"i'm a progammer\"\n",
    "my_string"
   ]
  },
  {
   "cell_type": "code",
   "execution_count": 36,
   "id": "e7e85288",
   "metadata": {},
   "outputs": [
    {
     "data": {
      "text/plain": [
       "\"i'm a progammer\""
      ]
     },
     "execution_count": 36,
     "metadata": {},
     "output_type": "execute_result"
    }
   ],
   "source": [
    "my_string='i\\'m a progammer'# we can't use the same single quot in this case.\n",
    "my_string"
   ]
  },
  {
   "cell_type": "code",
   "execution_count": 37,
   "id": "0af59bb8",
   "metadata": {},
   "outputs": [
    {
     "data": {
      "text/plain": [
       "'i am a progammer'"
      ]
     },
     "execution_count": 37,
     "metadata": {},
     "output_type": "execute_result"
    }
   ],
   "source": [
    "my_string=\"i am a progammer\"\n",
    "my_string"
   ]
  },
  {
   "cell_type": "markdown",
   "id": "6f87c3a0",
   "metadata": {},
   "source": [
    "# to access each character  we use for loop as follow.¶"
   ]
  },
  {
   "cell_type": "markdown",
   "id": "8e85ad8d",
   "metadata": {},
   "source": [
    "# to access character or sub_string we use for loop as follow."
   ]
  },
  {
   "cell_type": "code",
   "execution_count": 39,
   "id": "89d26e9e",
   "metadata": {},
   "outputs": [
    {
     "name": "stdout",
     "output_type": "stream",
     "text": [
      "M\n",
      "a\n",
      "r\n",
      "g\n",
      "a\n"
     ]
    }
   ],
   "source": [
    "string=\"Marga\"\n",
    "for x in string:\n",
    "    print(x)# each character will be printed  as follow."
   ]
  },
  {
   "cell_type": "markdown",
   "id": "a887503f",
   "metadata": {},
   "source": [
    "# to access sub_string among the given string we use the following method"
   ]
  },
  {
   "cell_type": "code",
   "execution_count": 40,
   "id": "44aaa598",
   "metadata": {},
   "outputs": [
    {
     "data": {
      "text/plain": [
       "'arga'"
      ]
     },
     "execution_count": 40,
     "metadata": {},
     "output_type": "execute_result"
    }
   ],
   "source": [
    "my_string='marga'\n",
    "character=my_string[1:]# to access character from the index 1 to the end\n",
    "character"
   ]
  },
  {
   "cell_type": "code",
   "execution_count": 41,
   "id": "50f8d708",
   "metadata": {},
   "outputs": [
    {
     "data": {
      "text/plain": [
       "'marg'"
      ]
     },
     "execution_count": 41,
     "metadata": {},
     "output_type": "execute_result"
    }
   ],
   "source": [
    "my_string='marga'\n",
    "c=my_string[:-1]# to access all character  except the last element of the string\n",
    "c"
   ]
  },
  {
   "cell_type": "code",
   "execution_count": 43,
   "id": "ce7ba677",
   "metadata": {},
   "outputs": [
    {
     "data": {
      "text/plain": [
       "'a'"
      ]
     },
     "execution_count": 43,
     "metadata": {},
     "output_type": "execute_result"
    }
   ],
   "source": [
    "my_string='marga'\n",
    "c=my_string[-1]# to access the last character.\n",
    "c"
   ]
  },
  {
   "cell_type": "code",
   "execution_count": 44,
   "id": "df9ee71a",
   "metadata": {},
   "outputs": [
    {
     "data": {
      "text/plain": [
       "'m'"
      ]
     },
     "execution_count": 44,
     "metadata": {},
     "output_type": "execute_result"
    }
   ],
   "source": [
    "my_string='marga'\n",
    "d=my_string[0]# to access the character which occur at the index 0.\n",
    "d"
   ]
  },
  {
   "cell_type": "code",
   "execution_count": 45,
   "id": "96a89081",
   "metadata": {},
   "outputs": [
    {
     "data": {
      "text/plain": [
       "'g'"
      ]
     },
     "execution_count": 45,
     "metadata": {},
     "output_type": "execute_result"
    }
   ],
   "source": [
    "my_string='marga'\n",
    "e=my_string[3]# to access the charcter at index 3.\n",
    "e"
   ]
  },
  {
   "cell_type": "markdown",
   "id": "32c54ffb",
   "metadata": {},
   "source": [
    "# item assighment is not possible for the string"
   ]
  },
  {
   "cell_type": "code",
   "execution_count": 46,
   "id": "c52e420f",
   "metadata": {},
   "outputs": [
    {
     "ename": "TypeError",
     "evalue": "'str' object does not support item assignment",
     "output_type": "error",
     "traceback": [
      "\u001b[1;31m---------------------------------------------------------------------------\u001b[0m",
      "\u001b[1;31mTypeError\u001b[0m                                 Traceback (most recent call last)",
      "Cell \u001b[1;32mIn[46], line 2\u001b[0m\n\u001b[0;32m      1\u001b[0m S\u001b[38;5;241m=\u001b[39m\u001b[38;5;124m\"\u001b[39m\u001b[38;5;124mgerman\u001b[39m\u001b[38;5;124m\"\u001b[39m\n\u001b[1;32m----> 2\u001b[0m S[\u001b[38;5;241m1\u001b[39m]\u001b[38;5;241m=\u001b[39m\u001b[38;5;124m\"\u001b[39m\u001b[38;5;124ma\u001b[39m\u001b[38;5;124m\"\u001b[39m\n\u001b[0;32m      3\u001b[0m S\n",
      "\u001b[1;31mTypeError\u001b[0m: 'str' object does not support item assignment"
     ]
    }
   ],
   "source": [
    "S=\"german\"\n",
    "S[1]=\"a\"# item assighment is not possible here.\n",
    "S"
   ]
  },
  {
   "cell_type": "markdown",
   "id": "1fbfd965",
   "metadata": {},
   "source": [
    "# By using [::some number] gives all character at some steps as follow."
   ]
  },
  {
   "cell_type": "code",
   "execution_count": 48,
   "id": "51c52cf7",
   "metadata": {},
   "outputs": [
    {
     "data": {
      "text/plain": [
       "'hlowr'"
      ]
     },
     "execution_count": 48,
     "metadata": {},
     "output_type": "execute_result"
    }
   ],
   "source": [
    "S=\"hello word\"\n",
    "d=S[::2]\n",
    "d"
   ]
  },
  {
   "cell_type": "markdown",
   "id": "478816d8",
   "metadata": {},
   "source": [
    "# By using [::-1] it will reverse our string from end to start."
   ]
  },
  {
   "cell_type": "code",
   "execution_count": 49,
   "id": "7869add3",
   "metadata": {},
   "outputs": [
    {
     "data": {
      "text/plain": [
       "'drow olleh'"
      ]
     },
     "execution_count": 49,
     "metadata": {},
     "output_type": "execute_result"
    }
   ],
   "source": [
    "r=S[::-1]\n",
    "r"
   ]
  },
  {
   "cell_type": "markdown",
   "id": "12f11a73",
   "metadata": {},
   "source": [
    "# We can concatinate two or more string as follow."
   ]
  },
  {
   "cell_type": "code",
   "execution_count": 36,
   "id": "3bf2a565",
   "metadata": {},
   "outputs": [
    {
     "name": "stdout",
     "output_type": "stream",
     "text": [
      "hello marga welcome to Netherland\n"
     ]
    }
   ],
   "source": [
    "a = 'hello'\n",
    "b = 'marga'\n",
    "c = 'welcome to Netherland'# ' ' :refers to persence of the gap between each string during concatination.\n",
    "d=a + ' '+ b +' '+ c\n",
    "print(d)"
   ]
  },
  {
   "cell_type": "markdown",
   "id": "e11a4556",
   "metadata": {},
   "source": [
    "# To check the persence of one character or sub_character within the given string we use \"in \": indicating it is member or not as follow."
   ]
  },
  {
   "cell_type": "code",
   "execution_count": 61,
   "id": "2532fa1e",
   "metadata": {},
   "outputs": [
    {
     "name": "stdout",
     "output_type": "stream",
     "text": [
      "yes\n"
     ]
    }
   ],
   "source": [
    "S=\"hello Marga\"\n",
    "if 'ello' in S:\n",
    "    print('yes')\n",
    "else:\n",
    "    print('go back')"
   ]
  },
  {
   "cell_type": "code",
   "execution_count": 62,
   "id": "36f77416",
   "metadata": {},
   "outputs": [
    {
     "name": "stdout",
     "output_type": "stream",
     "text": [
      "y\n"
     ]
    }
   ],
   "source": [
    "if 'g' in S:\n",
    "    print('y')\n",
    "else:\n",
    "    print('n')"
   ]
  },
  {
   "cell_type": "markdown",
   "id": "7e80ef33",
   "metadata": {},
   "source": [
    "# By using strip() method we can remove white space which is present in string as follow. but NB we have to assign a new variable unless and otherwise it will not change. since string is immutable."
   ]
  },
  {
   "cell_type": "code",
   "execution_count": 66,
   "id": "35712b6c",
   "metadata": {},
   "outputs": [
    {
     "data": {
      "text/plain": [
       "'  welcome marga  '"
      ]
     },
     "execution_count": 66,
     "metadata": {},
     "output_type": "execute_result"
    }
   ],
   "source": [
    "my_string='  welcome marga  '\n",
    "my_string.strip() # will not change the original string and we have to assign a new variable to strip it\n",
    "my_string"
   ]
  },
  {
   "cell_type": "markdown",
   "id": "6da0c2e1",
   "metadata": {},
   "source": [
    "# By assigning with new variable we can strip our string which has white space as follow."
   ]
  },
  {
   "cell_type": "code",
   "execution_count": 67,
   "id": "5df39cbc",
   "metadata": {},
   "outputs": [
    {
     "data": {
      "text/plain": [
       "'welcome marga'"
      ]
     },
     "execution_count": 67,
     "metadata": {},
     "output_type": "execute_result"
    }
   ],
   "source": [
    "my_string=' welcome marga '# this has white space at the first and end of string \n",
    "d=my_string.strip()# in order to remove white space.\n",
    "d"
   ]
  },
  {
   "cell_type": "code",
   "execution_count": 70,
   "id": "61b3153c",
   "metadata": {},
   "outputs": [
    {
     "data": {
      "text/plain": [
       "'welcome marga'"
      ]
     },
     "execution_count": 70,
     "metadata": {},
     "output_type": "execute_result"
    }
   ],
   "source": [
    "S='  welcome marga  '\n",
    "s=S.strip()\n",
    "s"
   ]
  },
  {
   "cell_type": "markdown",
   "id": "5175edd0",
   "metadata": {},
   "source": [
    "# we can chnage our string to 'upper' and 'lower' case by using .upper() method and .lower() method  respectively."
   ]
  },
  {
   "cell_type": "code",
   "execution_count": 72,
   "id": "b5492643",
   "metadata": {},
   "outputs": [
    {
     "data": {
      "text/plain": [
       "'  WELCOME MARGA  '"
      ]
     },
     "execution_count": 72,
     "metadata": {},
     "output_type": "execute_result"
    }
   ],
   "source": [
    "S='  welcome marga  '\n",
    "U=S.upper()\n",
    "U"
   ]
  },
  {
   "cell_type": "code",
   "execution_count": 74,
   "id": "0a1bf479",
   "metadata": {},
   "outputs": [
    {
     "data": {
      "text/plain": [
       "'  welcome marga  '"
      ]
     },
     "execution_count": 74,
     "metadata": {},
     "output_type": "execute_result"
    }
   ],
   "source": [
    "S='  welcome marga  '\n",
    "L=S.lower()\n",
    "L"
   ]
  },
  {
   "cell_type": "markdown",
   "id": "8d78992b",
   "metadata": {},
   "source": [
    "# We can check wether our string start with some character or sub_string by using startwith() method as follow.\n",
    "# it will return boolean(True or False) value if it starts with the given character or sub_strings(True) unless it will return False."
   ]
  },
  {
   "cell_type": "code",
   "execution_count": 84,
   "id": "8d655582",
   "metadata": {},
   "outputs": [
    {
     "name": "stdout",
     "output_type": "stream",
     "text": [
      "True\n"
     ]
    }
   ],
   "source": [
    "S='hello world'\n",
    "print(S.startswith('h'))\n"
   ]
  },
  {
   "cell_type": "code",
   "execution_count": 85,
   "id": "ba441d65",
   "metadata": {},
   "outputs": [
    {
     "name": "stdout",
     "output_type": "stream",
     "text": [
      "False\n"
     ]
    }
   ],
   "source": [
    "S='hello world'\n",
    "print(S.startswith('hl'))"
   ]
  },
  {
   "cell_type": "markdown",
   "id": "37926a26",
   "metadata": {},
   "source": [
    "# We can also check wether it is ends with some character or not and will return boolean values as follow."
   ]
  },
  {
   "cell_type": "code",
   "execution_count": 87,
   "id": "daa23e86",
   "metadata": {},
   "outputs": [
    {
     "name": "stdout",
     "output_type": "stream",
     "text": [
      "True\n"
     ]
    }
   ],
   "source": [
    "S='hello world'\n",
    "print(S.endswith('world'))"
   ]
  },
  {
   "cell_type": "code",
   "execution_count": 88,
   "id": "54d99933",
   "metadata": {},
   "outputs": [
    {
     "name": "stdout",
     "output_type": "stream",
     "text": [
      "False\n"
     ]
    }
   ],
   "source": [
    "S='hello world'\n",
    "print(S.endswith('lrd'))"
   ]
  },
  {
   "cell_type": "markdown",
   "id": "cc8b869a",
   "metadata": {},
   "source": [
    "# We can also get on which index specific characteris found by using find() method as follow."
   ]
  },
  {
   "cell_type": "code",
   "execution_count": 90,
   "id": "b33e52fd",
   "metadata": {},
   "outputs": [
    {
     "name": "stdout",
     "output_type": "stream",
     "text": [
      "6\n"
     ]
    }
   ],
   "source": [
    "S='hello world'\n",
    "print(S.find('w'))# w is foun on 6 index as follow.(from the output.) white space also counted during indexing(NB)."
   ]
  },
  {
   "cell_type": "markdown",
   "id": "a9e94393",
   "metadata": {},
   "source": [
    "# We can also get how many specific character is found in the string by using count() method."
   ]
  },
  {
   "cell_type": "code",
   "execution_count": 91,
   "id": "ed564112",
   "metadata": {},
   "outputs": [
    {
     "name": "stdout",
     "output_type": "stream",
     "text": [
      "3\n"
     ]
    }
   ],
   "source": [
    "S='hello world'\n",
    "print(S.count(\"l\"))# 'l' is found 3* in the given string.so output will be..."
   ]
  },
  {
   "cell_type": "markdown",
   "id": "45807fb9",
   "metadata": {},
   "source": [
    "# By using replace() method, we can replace one word from the given string with another word as follow."
   ]
  },
  {
   "cell_type": "code",
   "execution_count": 97,
   "id": "dd8baf79",
   "metadata": {},
   "outputs": [
    {
     "name": "stdout",
     "output_type": "stream",
     "text": [
      "hello Unverse\n"
     ]
    }
   ],
   "source": [
    "S='hello world'\n",
    "print(S.replace('world','Unverse'))\n"
   ]
  },
  {
   "cell_type": "markdown",
   "id": "942ce0c8",
   "metadata": {},
   "source": [
    "S='hello world'\n",
    "r=S.replace('world','Unverse')\n",
    "r\n"
   ]
  },
  {
   "cell_type": "markdown",
   "id": "c8d6cf64",
   "metadata": {},
   "source": [
    "# To split(separate) each word in string we use split() method as follow."
   ]
  },
  {
   "cell_type": "code",
   "execution_count": 99,
   "id": "e4b83866",
   "metadata": {},
   "outputs": [
    {
     "data": {
      "text/plain": [
       "['Marga', 'will', 'live', 'in', 'Hungry', 'starting', 'from', 'next', 'year']"
      ]
     },
     "execution_count": 99,
     "metadata": {},
     "output_type": "execute_result"
    }
   ],
   "source": [
    "s='Marga will live in Hungry starting from next year'\n",
    "d=s.split()\n",
    "d"
   ]
  },
  {
   "cell_type": "markdown",
   "id": "4c563ef8",
   "metadata": {},
   "source": [
    "# in above case white space which is occur in each word is 1 as delimmiter but if white space is not present it will be one word rather than different word."
   ]
  },
  {
   "cell_type": "code",
   "execution_count": 100,
   "id": "1105f486",
   "metadata": {},
   "outputs": [
    {
     "data": {
      "text/plain": [
       "['MargawillliveinHungrystartingfromnextyear']"
      ]
     },
     "execution_count": 100,
     "metadata": {},
     "output_type": "execute_result"
    }
   ],
   "source": [
    "s='MargawillliveinHungrystartingfromnextyear'\n",
    "e=s.split()\n",
    "e"
   ]
  },
  {
   "cell_type": "code",
   "execution_count": 101,
   "id": "0f3f27a1",
   "metadata": {},
   "outputs": [
    {
     "data": {
      "text/plain": [
       "['Marga,will,live,in,Hungry,starting,from,next,year']"
      ]
     },
     "execution_count": 101,
     "metadata": {},
     "output_type": "execute_result"
    }
   ],
   "source": [
    "s='Marga,will,live,in,Hungry,starting,from,next,year'\n",
    "e=s.split()\n",
    "e"
   ]
  },
  {
   "cell_type": "markdown",
   "id": "8ea575f2",
   "metadata": {},
   "source": [
    "# if we have a list and convert back to string we use join() method as follow."
   ]
  },
  {
   "cell_type": "code",
   "execution_count": 103,
   "id": "bab0a1e6",
   "metadata": {},
   "outputs": [
    {
     "data": {
      "text/plain": [
       "'MargawillliveinHungrystartingfromnextyear'"
      ]
     },
     "execution_count": 103,
     "metadata": {},
     "output_type": "execute_result"
    }
   ],
   "source": [
    "s='Marga,will,live,in,Hungry,starting,from,next,year'\n",
    "\n",
    "e=s.split(',')\n",
    "f=''.join(e) # this will concatinate all our word or element together as follow.\n",
    "f"
   ]
  },
  {
   "cell_type": "markdown",
   "id": "6d88f8d8",
   "metadata": {},
   "source": [
    "# if we want to separate the above we use ' '.join(e) as follow."
   ]
  },
  {
   "cell_type": "code",
   "execution_count": 104,
   "id": "3375ccbb",
   "metadata": {},
   "outputs": [
    {
     "data": {
      "text/plain": [
       "'Marga will live in Hungry starting from next year'"
      ]
     },
     "execution_count": 104,
     "metadata": {},
     "output_type": "execute_result"
    }
   ],
   "source": [
    "s='Marga,will,live,in,Hungry,starting,from,next,year'\n",
    "\n",
    "e=s.split(',')\n",
    "f=' '.join(e) # this will put space between each element in our string as follow.\n",
    "f"
   ]
  },
  {
   "cell_type": "markdown",
   "id": "1a7e8dcf",
   "metadata": {},
   "source": [
    "# rounding of decimal point "
   ]
  },
  {
   "cell_type": "markdown",
   "id": "708d54dd",
   "metadata": {},
   "source": [
    "# %.format(),f_strings"
   ]
  },
  {
   "cell_type": "code",
   "execution_count": 3,
   "id": "b64f81db",
   "metadata": {},
   "outputs": [
    {
     "data": {
      "text/plain": [
       "'my varaible is 3.13'"
      ]
     },
     "execution_count": 3,
     "metadata": {},
     "output_type": "execute_result"
    }
   ],
   "source": [
    "var=3.126738\n",
    "string=\"my varaible is %.2f\" % var # ronding to 2_decimal point for the given float data.\n",
    "string"
   ]
  },
  {
   "cell_type": "markdown",
   "id": "2ddc1dd2",
   "metadata": {},
   "source": [
    "# by putting {} as place holder we can perform as folow."
   ]
  },
  {
   "cell_type": "code",
   "execution_count": 6,
   "id": "567020ce",
   "metadata": {},
   "outputs": [
    {
     "data": {
      "text/plain": [
       "'my varaible is 3.126738'"
      ]
     },
     "execution_count": 6,
     "metadata": {},
     "output_type": "execute_result"
    }
   ],
   "source": [
    "var=3.126738\n",
    "string=\"my varaible is {}\".format(var)# {} is empty dictionary used as place holder.\n",
    "string"
   ]
  },
  {
   "cell_type": "markdown",
   "id": "2c9c7fd8",
   "metadata": {},
   "source": [
    "# we can also put how  many digits we need after decimal point in the place holder to round as follow."
   ]
  },
  {
   "cell_type": "code",
   "execution_count": 8,
   "id": "3de341a4",
   "metadata": {},
   "outputs": [
    {
     "data": {
      "text/plain": [
       "'my varaible is 3.13'"
      ]
     },
     "execution_count": 8,
     "metadata": {},
     "output_type": "execute_result"
    }
   ],
   "source": [
    "var=3.126738\n",
    "string=\"my varaible is {:.2f}\".format(var)\n",
    "string"
   ]
  },
  {
   "cell_type": "markdown",
   "id": "b0bb1d4e",
   "metadata": {},
   "source": [
    "# also we can write as follow."
   ]
  },
  {
   "cell_type": "code",
   "execution_count": 9,
   "id": "92beec2f",
   "metadata": {},
   "outputs": [
    {
     "data": {
      "text/plain": [
       "'the variable are 4.56736 and 89'"
      ]
     },
     "execution_count": 9,
     "metadata": {},
     "output_type": "execute_result"
    }
   ],
   "source": [
    "var1=4.56736\n",
    "var2=89\n",
    "string=f\"the variable are {var1} and {var2}\"\n",
    "string"
   ]
  },
  {
   "cell_type": "markdown",
   "id": "a1f243be",
   "metadata": {},
   "source": [
    "# (6) collections: are counter,namedtuple,ordereddict,defaultdict,deque\n",
    "# are special container datatypes andd provides alternative with additional functionality compared to the general bert and containers,like dictionaries,list or tuples.\n"
   ]
  },
  {
   "cell_type": "markdown",
   "id": "a4140893",
   "metadata": {},
   "source": [
    "# (1) counter(capital C when imported): is container that stores the element as dictionary keys and their counts(how many times they will occur) as dictionary values."
   ]
  },
  {
   "cell_type": "code",
   "execution_count": 14,
   "id": "7d101b25",
   "metadata": {},
   "outputs": [
    {
     "data": {
      "text/plain": [
       "Counter({'a': 4, 'c': 3, 'b': 3, 'f': 1, 's': 1})"
      ]
     },
     "execution_count": 14,
     "metadata": {},
     "output_type": "execute_result"
    }
   ],
   "source": [
    "from collections import Counter\n",
    "a='aaaacccbbbfs'\n",
    "my_counter=Counter(a)# giving vsriable a which is defined before and it will give as how many ech character happen in that var..\n",
    "my_counter # it will give as as dictionary(key_value pairs) as follow."
   ]
  },
  {
   "cell_type": "markdown",
   "id": "a214401c",
   "metadata": {},
   "source": [
    " # for above case we can write alternatively as follow."
   ]
  },
  {
   "cell_type": "code",
   "execution_count": 15,
   "id": "618b2641",
   "metadata": {},
   "outputs": [
    {
     "name": "stdout",
     "output_type": "stream",
     "text": [
      "dict_items([('a', 4), ('c', 3), ('b', 3), ('f', 1), ('s', 1)])\n"
     ]
    }
   ],
   "source": [
    "from collections import Counter\n",
    "a='aaaacccbbbfs'\n",
    "my_counter=Counter(a)\n",
    "print(my_counter.items())"
   ]
  },
  {
   "cell_type": "markdown",
   "id": "93d7c4d9",
   "metadata": {},
   "source": [
    "# or we can get only keys as follow"
   ]
  },
  {
   "cell_type": "code",
   "execution_count": 17,
   "id": "6464d8d0",
   "metadata": {},
   "outputs": [
    {
     "name": "stdout",
     "output_type": "stream",
     "text": [
      "dict_keys(['a', 'c', 'b', 'f', 's'])\n"
     ]
    }
   ],
   "source": [
    "from collections import Counter\n",
    "a='aaaacccbbbfs'\n",
    "my_counter=Counter(a)\n",
    "print(my_counter.keys())"
   ]
  },
  {
   "cell_type": "markdown",
   "id": "9e5aa16d",
   "metadata": {},
   "source": [
    "# we can also look only for values as follow."
   ]
  },
  {
   "cell_type": "code",
   "execution_count": 18,
   "id": "72d62abc",
   "metadata": {},
   "outputs": [
    {
     "name": "stdout",
     "output_type": "stream",
     "text": [
      "dict_values([4, 3, 3, 1, 1])\n"
     ]
    }
   ],
   "source": [
    "from collections import Counter\n",
    "a='aaaacccbbbfs'\n",
    "my_counter=Counter(a)\n",
    "print(my_counter.values())# indicating how many times each character is occured for each keys respectively as their order."
   ]
  },
  {
   "cell_type": "markdown",
   "id": "93613423",
   "metadata": {},
   "source": [
    "# Also we can get most common(most frequently occuring ) element among the given keys as follow."
   ]
  },
  {
   "cell_type": "code",
   "execution_count": 22,
   "id": "d4191b6d",
   "metadata": {
    "scrolled": true
   },
   "outputs": [
    {
     "name": "stdout",
     "output_type": "stream",
     "text": [
      "Counter({'a': 4, 'c': 3, 'b': 3, 'f': 1, 's': 1})\n",
      "[('a', 4)]\n"
     ]
    }
   ],
   "source": [
    "a='aaaacccbbbfs'\n",
    "my_counter=Counter(a)\n",
    "print(my_counter)\n",
    "print(my_counter.most_common(1))# getting only (1) key which most occur"
   ]
  },
  {
   "cell_type": "code",
   "execution_count": 24,
   "id": "362dc89c",
   "metadata": {
    "scrolled": true
   },
   "outputs": [
    {
     "name": "stdout",
     "output_type": "stream",
     "text": [
      "Counter({'a': 4, 'c': 3, 'b': 3, 'f': 1, 's': 1})\n",
      "[('a', 4), ('c', 3)]\n"
     ]
    }
   ],
   "source": [
    "a='aaaacccbbbfs'\n",
    "my_counter=Counter(a)\n",
    "print(my_counter)\n",
    "print(my_counter.most_common(2))# getting 2 most common keys among hte given keys(a and c are frequent occuring as follow.)"
   ]
  },
  {
   "cell_type": "markdown",
   "id": "6a1c543d",
   "metadata": {},
   "source": [
    "# for sentences and we have to split  the whole sentences into individual words and we can get how many times each word occur as key_values pairs."
   ]
  },
  {
   "cell_type": "code",
   "execution_count": 21,
   "id": "a142bd04",
   "metadata": {},
   "outputs": [
    {
     "name": "stdout",
     "output_type": "stream",
     "text": [
      "Counter({'marga': 1, 'will': 1, 'lives': 1, 'in': 1, 'Hungary': 1})\n"
     ]
    }
   ],
   "source": [
    "b = \"marga will lives in Hungary\"  # Assuming you meant the country\n",
    "words = b.split()  # This splits the string into a list of words\n",
    "counter = Counter(words)\n",
    "\n",
    "print(counter)"
   ]
  },
  {
   "cell_type": "markdown",
   "id": "782a7107",
   "metadata": {},
   "source": [
    "# To get 3 most common occuring we pass 3 as follow.but it will give us alphabetical order as follow."
   ]
  },
  {
   "cell_type": "code",
   "execution_count": 27,
   "id": "7d48a6cf",
   "metadata": {},
   "outputs": [
    {
     "name": "stdout",
     "output_type": "stream",
     "text": [
      "Counter({'a': 4, 'c': 3, 'b': 3, 'f': 3, 's': 1})\n",
      "[('a', 4), ('c', 3), ('b', 3)]\n"
     ]
    }
   ],
   "source": [
    "b='aaaacccbbbfffs'\n",
    "my_counter=Counter(b)\n",
    "print(my_counter)\n",
    "print(my_counter.most_common(3))"
   ]
  },
  {
   "cell_type": "markdown",
   "id": "818571ef",
   "metadata": {},
   "source": [
    "# for modification purpose to get exact most frequent occuring use the following code"
   ]
  },
  {
   "cell_type": "code",
   "execution_count": 28,
   "id": "c2bd11d0",
   "metadata": {},
   "outputs": [
    {
     "name": "stdout",
     "output_type": "stream",
     "text": [
      "Counter({'a': 4, 'c': 3, 'b': 3, 'f': 3, 's': 1})\n",
      "[('a', 4), ('c', 3), ('b', 3)]\n",
      "[('a', 4), ('c', 3), ('b', 3)]\n"
     ]
    }
   ],
   "source": [
    "from collections import Counter\n",
    "\n",
    "b = 'aaaacccbbbfffs'\n",
    "my_counter = Counter(b)\n",
    "\n",
    "# Display the full count\n",
    "print(my_counter)\n",
    "\n",
    "# Find the three most common characters and their counts\n",
    "three_most_common = my_counter.most_common(3)\n",
    "print(three_most_common)\n",
    "\n",
    "# If you need the most common characters sorted by their first occurrence in the string as well\n",
    "sorted_by_occurrence_and_count = sorted(three_most_common, key=lambda x: b.index(x[0]))\n",
    "print(sorted_by_occurrence_and_count)"
   ]
  },
  {
   "cell_type": "markdown",
   "id": "f8a8d09a",
   "metadata": {},
   "source": [
    "# if i want to access only the most common occuring element from the given string we pass the index value as follow."
   ]
  },
  {
   "cell_type": "code",
   "execution_count": 34,
   "id": "0dbc473f",
   "metadata": {},
   "outputs": [
    {
     "name": "stdout",
     "output_type": "stream",
     "text": [
      "Counter({'a': 4, 'c': 3, 'b': 3, 'f': 1, 's': 1})\n",
      "a\n"
     ]
    }
   ],
   "source": [
    "a='aaaacccbbbfs'\n",
    "my_counter=Counter(a)\n",
    "print(my_counter)\n",
    "print(my_counter.most_common(1)[0][0])# to get only the most occuring key among the given string."
   ]
  },
  {
   "cell_type": "code",
   "execution_count": 35,
   "id": "d8e73e65",
   "metadata": {},
   "outputs": [
    {
     "name": "stdout",
     "output_type": "stream",
     "text": [
      "Counter({'a': 4, 'c': 3, 'b': 3, 'f': 1, 's': 1})\n",
      "('a', 4)\n"
     ]
    }
   ],
   "source": [
    "a='aaaacccbbbfs'\n",
    "my_counter=Counter(a)\n",
    "print(my_counter)\n",
    "print(my_counter.most_common(1)[0])# to get as tuple."
   ]
  },
  {
   "cell_type": "markdown",
   "id": "49816dd8",
   "metadata": {},
   "source": [
    "# we can also pass elements() method as follow."
   ]
  },
  {
   "cell_type": "code",
   "execution_count": 36,
   "id": "5a2e9f4c",
   "metadata": {},
   "outputs": [
    {
     "name": "stdout",
     "output_type": "stream",
     "text": [
      "Counter({'a': 4, 'c': 3, 'b': 3, 'f': 1, 's': 1})\n",
      "<itertools.chain object at 0x000002094570B250>\n"
     ]
    }
   ],
   "source": [
    "a='aaaacccbbbfs'\n",
    "my_counter=Counter(a)\n",
    "print(my_counter)\n",
    "print(my_counter.elements())"
   ]
  },
  {
   "cell_type": "markdown",
   "id": "cbd2c8b9",
   "metadata": {},
   "source": [
    "# we also change to list aas follow."
   ]
  },
  {
   "cell_type": "code",
   "execution_count": 39,
   "id": "6ba0d823",
   "metadata": {},
   "outputs": [
    {
     "name": "stdout",
     "output_type": "stream",
     "text": [
      "Counter({'a': 4, 'c': 3, 'b': 3, 'f': 1, 's': 1})\n",
      "['a', 'a', 'a', 'a', 'c', 'c', 'c', 'b', 'b', 'b', 'f', 's']\n"
     ]
    }
   ],
   "source": [
    "a='aaaacccbbbfs'\n",
    "my_counter=Counter(a)\n",
    "print(my_counter)\n",
    "print(list(my_counter.elements()))"
   ]
  },
  {
   "cell_type": "markdown",
   "id": "2102c318",
   "metadata": {},
   "source": [
    "# (2) namedtuple"
   ]
  },
  {
   "cell_type": "code",
   "execution_count": 41,
   "id": "c0a0512b",
   "metadata": {},
   "outputs": [
    {
     "data": {
      "text/plain": [
       "point(x=1, y=-4)"
      ]
     },
     "execution_count": 41,
     "metadata": {},
     "output_type": "execute_result"
    }
   ],
   "source": [
    "from collections import namedtuple\n",
    "point=namedtuple('point','x,y') #definig object class called point\n",
    "pnt=point(1,-4)# passing value for point 'x,y' as tuple.\n",
    "pnt"
   ]
  },
  {
   "cell_type": "markdown",
   "id": "658db191",
   "metadata": {},
   "source": [
    "# we can also access the field as follow."
   ]
  },
  {
   "cell_type": "code",
   "execution_count": 42,
   "id": "f649dda2",
   "metadata": {},
   "outputs": [
    {
     "name": "stdout",
     "output_type": "stream",
     "text": [
      "1 -4\n"
     ]
    }
   ],
   "source": [
    "from collections import namedtuple\n",
    "point=namedtuple('point','x,y') #definig object class called point\n",
    "pnt=point(1,-4)# passing value for point 'x,y' as tuple.\n",
    "print(pnt.x,pnt.y)# the value for x,y point will be printed respectively as follow."
   ]
  },
  {
   "cell_type": "markdown",
   "id": "291095e1",
   "metadata": {},
   "source": [
    "# (3) orderedDict: is just like regular dictionary but they remember that the order items were inserted."
   ]
  },
  {
   "cell_type": "code",
   "execution_count": 45,
   "id": "d574aee5",
   "metadata": {},
   "outputs": [
    {
     "data": {
      "text/plain": [
       "OrderedDict([('a', 2), ('b', 3), ('c', 4), ('d', 5)])"
      ]
     },
     "execution_count": 45,
     "metadata": {},
     "output_type": "execute_result"
    }
   ],
   "source": [
    "from collections import OrderedDict\n",
    "ordered_dict=OrderedDict()\n",
    "ordered_dict['a']=2\n",
    "ordered_dict['b']=3\n",
    "ordered_dict['c']=4\n",
    "ordered_dict['d']=5\n",
    "ordered_dict# this will print the order in which we have inserted the character with respective value as follow.\n"
   ]
  },
  {
   "cell_type": "code",
   "execution_count": 46,
   "id": "8a66ac47",
   "metadata": {},
   "outputs": [
    {
     "data": {
      "text/plain": [
       "OrderedDict([('b', 2), ('f', 3), ('c', 4), ('d', 5)])"
      ]
     },
     "execution_count": 46,
     "metadata": {},
     "output_type": "execute_result"
    }
   ],
   "source": [
    "from collections import OrderedDict\n",
    "ordered_dict=OrderedDict()\n",
    "ordered_dict['b']=2\n",
    "ordered_dict['f']=3\n",
    "ordered_dict['c']=4\n",
    "ordered_dict['d']=5\n",
    "ordered_dict#"
   ]
  },
  {
   "cell_type": "markdown",
   "id": "6effd991",
   "metadata": {},
   "source": [
    "# (4) defaultdict: similar to usual dictionary container with the only diffrence that it will have default value, if the key is has not been set yet."
   ]
  },
  {
   "cell_type": "code",
   "execution_count": 48,
   "id": "6a037978",
   "metadata": {},
   "outputs": [
    {
     "data": {
      "text/plain": [
       "defaultdict(None, {'a': 3, 'b': 2})"
      ]
     },
     "execution_count": 48,
     "metadata": {},
     "output_type": "execute_result"
    }
   ],
   "source": [
    "from collections import defaultdict\n",
    "d=defaultdict() #creating defaultdict and giving int argument as default type\n",
    "d['a']=3\n",
    "d['b']=2\n",
    "d"
   ]
  },
  {
   "cell_type": "markdown",
   "id": "88b6a401",
   "metadata": {},
   "source": [
    "# we can access as the following"
   ]
  },
  {
   "cell_type": "code",
   "execution_count": 49,
   "id": "bc39354b",
   "metadata": {},
   "outputs": [
    {
     "name": "stdout",
     "output_type": "stream",
     "text": [
      "3\n"
     ]
    }
   ],
   "source": [
    "d=defaultdict() #creating defauktdict and giving int argument as default type\n",
    "d['a']=3\n",
    "d['b']=2\n",
    "print(d['a'])"
   ]
  },
  {
   "cell_type": "markdown",
   "id": "b743cb0a",
   "metadata": {},
   "source": [
    "# if key is not persent it will give us 0 as default value(for integer) as follow."
   ]
  },
  {
   "cell_type": "code",
   "execution_count": 52,
   "id": "d8460d88",
   "metadata": {},
   "outputs": [
    {
     "name": "stdout",
     "output_type": "stream",
     "text": [
      "0\n"
     ]
    }
   ],
   "source": [
    "from collections import defaultdict\n",
    "d=defaultdict(int) #creating defauktdict(int) and giving int argument as default type\n",
    "d['a']=3\n",
    "d['b']=2\n",
    "print(d['c'])"
   ]
  },
  {
   "cell_type": "markdown",
   "id": "4e6fc776",
   "metadata": {},
   "source": [
    "# if we give float type as defaulttype it will return 0.0 if the key is not present"
   ]
  },
  {
   "cell_type": "code",
   "execution_count": 53,
   "id": "d8859ef2",
   "metadata": {},
   "outputs": [
    {
     "name": "stdout",
     "output_type": "stream",
     "text": [
      "0.0\n"
     ]
    }
   ],
   "source": [
    "from collections import defaultdict\n",
    "d=defaultdict(float) #creating defauktdict(float) and giving float argument as default type\n",
    "d['a']=3\n",
    "d['b']=2\n",
    "print(d['c'])"
   ]
  },
  {
   "cell_type": "markdown",
   "id": "25bf2d66",
   "metadata": {},
   "source": [
    "# (5)deque: is double ended queue and it can be used to add and remove element from both ends.and both are implemented in a way that this will be very efficiently."
   ]
  },
  {
   "cell_type": "code",
   "execution_count": 55,
   "id": "2bd8b56b",
   "metadata": {},
   "outputs": [
    {
     "data": {
      "text/plain": [
       "deque([1, 2])"
      ]
     },
     "execution_count": 55,
     "metadata": {},
     "output_type": "execute_result"
    }
   ],
   "source": [
    "from collections import deque\n",
    "d=deque()\n",
    "d.append(1)\n",
    "d.append(2)\n",
    "d\n"
   ]
  },
  {
   "cell_type": "markdown",
   "id": "52dc2395",
   "metadata": {},
   "source": [
    "# we can add the element at left side by using the following method."
   ]
  },
  {
   "cell_type": "code",
   "execution_count": 56,
   "id": "e23784cc",
   "metadata": {},
   "outputs": [
    {
     "data": {
      "text/plain": [
       "deque([3, 1, 2])"
      ]
     },
     "execution_count": 56,
     "metadata": {},
     "output_type": "execute_result"
    }
   ],
   "source": [
    "from collections import deque\n",
    "d=deque()\n",
    "d.append(1)\n",
    "d.append(2)\n",
    "d.appendleft(3)\n",
    "d"
   ]
  },
  {
   "cell_type": "markdown",
   "id": "e9df810c",
   "metadata": {},
   "source": [
    "# we can pass pop() methd to remove the last element as follow."
   ]
  },
  {
   "cell_type": "code",
   "execution_count": 58,
   "id": "e8d4a7d0",
   "metadata": {},
   "outputs": [
    {
     "data": {
      "text/plain": [
       "deque([3, 1])"
      ]
     },
     "execution_count": 58,
     "metadata": {},
     "output_type": "execute_result"
    }
   ],
   "source": [
    "from collections import deque\n",
    "d=deque()\n",
    "d.append(1)\n",
    "d.append(2)\n",
    "d.appendleft(3)\n",
    "d.pop()# 2 will remove as follow.\n",
    "d"
   ]
  },
  {
   "cell_type": "markdown",
   "id": "9365736c",
   "metadata": {},
   "source": [
    "# using clear() method to remove all elements from d. as follow."
   ]
  },
  {
   "cell_type": "code",
   "execution_count": 59,
   "id": "abc34992",
   "metadata": {},
   "outputs": [
    {
     "data": {
      "text/plain": [
       "deque([])"
      ]
     },
     "execution_count": 59,
     "metadata": {},
     "output_type": "execute_result"
    }
   ],
   "source": [
    "from collections import deque\n",
    "d=deque()\n",
    "d.append(1)\n",
    "d.append(2)\n",
    "d.appendleft(3)\n",
    "d.clear()\n",
    "d"
   ]
  },
  {
   "cell_type": "markdown",
   "id": "799ffe84",
   "metadata": {},
   "source": [
    "# we can pass extend() method to extend our deque with multiple elements."
   ]
  },
  {
   "cell_type": "code",
   "execution_count": 60,
   "id": "a72ddecc",
   "metadata": {},
   "outputs": [
    {
     "data": {
      "text/plain": [
       "deque([1, 2, 3, 4, 5])"
      ]
     },
     "execution_count": 60,
     "metadata": {},
     "output_type": "execute_result"
    }
   ],
   "source": [
    "from collections import deque\n",
    "d=deque()\n",
    "d.append(1)\n",
    "d.append(2)\n",
    "d.extend([3,4,5])\n",
    "d"
   ]
  },
  {
   "cell_type": "markdown",
   "id": "81837771",
   "metadata": {},
   "source": [
    "# we can also pass rotate() method to rotate our deque by the number we want as follow."
   ]
  },
  {
   "cell_type": "code",
   "execution_count": 61,
   "id": "0c1a68d0",
   "metadata": {},
   "outputs": [
    {
     "data": {
      "text/plain": [
       "deque([5, 1, 2, 3, 4])"
      ]
     },
     "execution_count": 61,
     "metadata": {},
     "output_type": "execute_result"
    }
   ],
   "source": [
    "from collections import deque\n",
    "d=deque()\n",
    "d.append(1)\n",
    "d.append(2)\n",
    "d.extend([3,4,5])\n",
    "d.rotate(1)# one step rotation to the right.\n",
    "d"
   ]
  },
  {
   "cell_type": "code",
   "execution_count": 62,
   "id": "6704f981",
   "metadata": {},
   "outputs": [
    {
     "data": {
      "text/plain": [
       "deque([4, 5, 1, 2, 3])"
      ]
     },
     "execution_count": 62,
     "metadata": {},
     "output_type": "execute_result"
    }
   ],
   "source": [
    "from collections import deque\n",
    "d=deque()\n",
    "d.append(1)\n",
    "d.append(2)\n",
    "d.extend([3,4,5])\n",
    "d.rotate(2)# rotating 2 steps to the right.\n",
    "d"
   ]
  },
  {
   "cell_type": "markdown",
   "id": "ee42bf6b",
   "metadata": {},
   "source": [
    "# if we want to rotate to the left we pass negative(-ve) number as follow."
   ]
  },
  {
   "cell_type": "code",
   "execution_count": 65,
   "id": "765e96db",
   "metadata": {},
   "outputs": [
    {
     "name": "stdout",
     "output_type": "stream",
     "text": [
      "deque([1, 2, 3, 4, 5])\n",
      "deque([3, 4, 5, 1, 2])\n"
     ]
    }
   ],
   "source": [
    "from collections import deque\n",
    "d=deque()\n",
    "d.append(1)\n",
    "d.append(2)\n",
    "d.extend([3,4,5])\n",
    "print(d)\n",
    "d.rotate(-2)\n",
    "print(d)\n"
   ]
  },
  {
   "cell_type": "markdown",
   "id": "4af21bcf",
   "metadata": {},
   "source": [
    "# (7) itertools:the inner tools module is the collection of tools for handling iterators.\n",
    "# Are data types used in a for loop. and the most common iterators are list and the error tools offers some advanced tools.\n",
    "# And in this we will talking about: product,permutation,combinations,accumulate,groupby and infinite iterators."
   ]
  },
  {
   "cell_type": "markdown",
   "id": "e89e45df",
   "metadata": {},
   "source": [
    "# (1) product"
   ]
  },
  {
   "cell_type": "code",
   "execution_count": 68,
   "id": "ee219fd2",
   "metadata": {},
   "outputs": [
    {
     "data": {
      "text/plain": [
       "<itertools.product at 0x20946301280>"
      ]
     },
     "execution_count": 68,
     "metadata": {},
     "output_type": "execute_result"
    }
   ],
   "source": [
    "from itertools import product\n",
    "a=[1,2]\n",
    "b=[3,4]\n",
    "prod=product(a,b)\n",
    "prod"
   ]
  },
  {
   "cell_type": "markdown",
   "id": "e6887386",
   "metadata": {},
   "source": [
    "# changing to the list will give the following"
   ]
  },
  {
   "cell_type": "code",
   "execution_count": 70,
   "id": "f2f8033d",
   "metadata": {},
   "outputs": [
    {
     "name": "stdout",
     "output_type": "stream",
     "text": [
      "[(1, 3), (1, 4), (2, 3), (2, 4)]\n"
     ]
    }
   ],
   "source": [
    "from itertools import product\n",
    "a=[1,2]\n",
    "b=[3,4]\n",
    "prod=product(a,b)\n",
    "print(list(prod))# will give list of cartesian product as follow."
   ]
  },
  {
   "cell_type": "markdown",
   "id": "85e05611",
   "metadata": {},
   "source": [
    "# (2) permutation: will return all possible ordering of inputs."
   ]
  },
  {
   "cell_type": "code",
   "execution_count": 72,
   "id": "28e70571",
   "metadata": {},
   "outputs": [
    {
     "data": {
      "text/plain": [
       "<itertools.permutations at 0x2093fe1cf40>"
      ]
     },
     "execution_count": 72,
     "metadata": {},
     "output_type": "execute_result"
    }
   ],
   "source": [
    "from itertools import permutations\n",
    "a=[1,2,3]\n",
    "perm=permutations(a)\n",
    "perm"
   ]
  },
  {
   "cell_type": "code",
   "execution_count": 73,
   "id": "832dd077",
   "metadata": {},
   "outputs": [
    {
     "name": "stdout",
     "output_type": "stream",
     "text": [
      "[(1, 2, 3), (1, 3, 2), (2, 1, 3), (2, 3, 1), (3, 1, 2), (3, 2, 1)]\n"
     ]
    }
   ],
   "source": [
    "from itertools import permutations\n",
    "a=[1,2,3]\n",
    "perm=permutations(a)\n",
    "print(list(perm))"
   ]
  },
  {
   "cell_type": "markdown",
   "id": "594f8b83",
   "metadata": {},
   "source": [
    "# we can also specify the lengh of permutation as the second arguments.so if we have shorter permutate,permutations with only lengh two we skip the argument two.and we see different ordering with lengh of two."
   ]
  },
  {
   "cell_type": "code",
   "execution_count": 74,
   "id": "f47b1432",
   "metadata": {},
   "outputs": [
    {
     "data": {
      "text/plain": [
       "<itertools.permutations at 0x2094624ce00>"
      ]
     },
     "execution_count": 74,
     "metadata": {},
     "output_type": "execute_result"
    }
   ],
   "source": [
    "from itertools import permutations\n",
    "a=[1,2,3]\n",
    "perm=permutations(a,2)\n",
    "perm\n"
   ]
  },
  {
   "cell_type": "code",
   "execution_count": 76,
   "id": "50933370",
   "metadata": {},
   "outputs": [
    {
     "name": "stdout",
     "output_type": "stream",
     "text": [
      "[(1, 2), (1, 3), (2, 1), (2, 3), (3, 1), (3, 2)]\n"
     ]
    }
   ],
   "source": [
    "from itertools import permutations\n",
    "a=[1,2,3]\n",
    "perm=permutations(a,2)\n",
    "print(list(perm))"
   ]
  },
  {
   "cell_type": "markdown",
   "id": "79421dc8",
   "metadata": {},
   "source": [
    "# (3) combinations:combination functions will make all possible with the specific lengh."
   ]
  },
  {
   "cell_type": "code",
   "execution_count": 78,
   "id": "789932c2",
   "metadata": {},
   "outputs": [
    {
     "name": "stdout",
     "output_type": "stream",
     "text": [
      "[(1, 2), (1, 3), (1, 4), (2, 3), (2, 4), (3, 4)]\n"
     ]
    }
   ],
   "source": [
    "from itertools import combinations\n",
    "a=[1,2,3,4]\n",
    "comb=combinations(a,2)# giving lengh 2 as the second argument.and return the combination 2 on output.\n",
    "print(list(comb))"
   ]
  },
  {
   "cell_type": "code",
   "execution_count": 79,
   "id": "59e5452f",
   "metadata": {},
   "outputs": [
    {
     "name": "stdout",
     "output_type": "stream",
     "text": [
      "[(1, 2, 3), (1, 2, 4), (1, 3, 4), (2, 3, 4)]\n"
     ]
    }
   ],
   "source": [
    "from itertools import combinations\n",
    "a=[1,2,3,4]\n",
    "comb=combinations(a,3)# giving lengh 3 as the second argument.and return the combination 3 on output.\n",
    "print(list(comb))"
   ]
  },
  {
   "cell_type": "markdown",
   "id": "0c6c7477",
   "metadata": {},
   "source": [
    "# we can also import combination with replacement for replacement of items as follow."
   ]
  },
  {
   "cell_type": "code",
   "execution_count": 81,
   "id": "40077f22",
   "metadata": {},
   "outputs": [
    {
     "name": "stdout",
     "output_type": "stream",
     "text": [
      "[(1, 2), (1, 3), (1, 4), (2, 3), (2, 4), (3, 4)]\n",
      "[(1, 1), (1, 2), (1, 3), (1, 4), (2, 2), (2, 3), (2, 4), (3, 3), (3, 4), (4, 4)]\n"
     ]
    }
   ],
   "source": [
    "from itertools import combinations,combinations_with_replacement\n",
    "a=[1,2,3,4]\n",
    "comb=combinations(a,2)\n",
    "print(list(comb))\n",
    "comb_wr=combinations_with_replacement(a,2)# each element will paired with another until end and continues for all as follow.\n",
    "print(list(comb_wr))"
   ]
  },
  {
   "cell_type": "markdown",
   "id": "1eb5f618",
   "metadata": {},
   "source": [
    "# (4) accumulate:accumulate functions makes an itertors that returns accumulated sums,or any others binary functions that we will give as inputs."
   ]
  },
  {
   "cell_type": "code",
   "execution_count": 82,
   "id": "e034c12e",
   "metadata": {},
   "outputs": [
    {
     "name": "stdout",
     "output_type": "stream",
     "text": [
      "<itertools.accumulate object at 0x0000020946293840>\n",
      "[1, 3, 6, 10]\n"
     ]
    }
   ],
   "source": [
    "from itertools import accumulate\n",
    "a=[1,2,3,4]\n",
    "acc=accumulate(a)# giving list a as an argument\n",
    "print(acc)\n",
    "print(list(acc))# this will give accumulate sum of the given list as  1,1+2,1+2+3,1+2+3+4 as follow.\n"
   ]
  },
  {
   "cell_type": "markdown",
   "id": "f7bf97d7",
   "metadata": {},
   "source": [
    "# accumulate function by default return sums, but for another purpose such like multplication we have to import another module as follow."
   ]
  },
  {
   "cell_type": "code",
   "execution_count": 83,
   "id": "9f77fd66",
   "metadata": {},
   "outputs": [
    {
     "name": "stdout",
     "output_type": "stream",
     "text": [
      "<itertools.accumulate object at 0x000002094638F100>\n",
      "[1, 2, 6, 24]\n"
     ]
    }
   ],
   "source": [
    "from itertools import accumulate\n",
    "import operator\n",
    "a=[1,2,3,4]\n",
    "acc=accumulate(a,func=operator.mul)# giving 'fun' as the second argument\n",
    "print(acc)\n",
    "print(list(acc))# this will give accumulate sum of the given list as  1,1*2,1*2*3,1*2*3*4 as follow.\n"
   ]
  },
  {
   "cell_type": "markdown",
   "id": "3078e790",
   "metadata": {},
   "source": [
    "# (5) groupby: groupby fuction makes an iterator that returns keys and groups from an inner lebel."
   ]
  },
  {
   "cell_type": "code",
   "execution_count": 86,
   "id": "5ad5e9a9",
   "metadata": {},
   "outputs": [
    {
     "name": "stdout",
     "output_type": "stream",
     "text": [
      "True [1, 2]\n",
      "False [3, 4]\n"
     ]
    }
   ],
   "source": [
    "from itertools import groupby\n",
    "def smaller_than_3(x):\n",
    "    return x<3\n",
    "a=[1,2,3,4]\n",
    "groupby_obj=groupby(a,key=smaller_than_3)\n",
    "for key,value in groupby_obj:\n",
    "    print(key,list(value))"
   ]
  },
  {
   "cell_type": "markdown",
   "id": "bbc95613",
   "metadata": {},
   "source": [
    "# NB: in above case we have imported groupby and we defined the function called smaller_than_3 and this take 'x' as an argument.\n",
    "# the value of list in variable 'a' is combined  and if it is less than 3, our function will return the bolean value which True and the value inthe list which greater than 3 is combined together and return the boolean value which will be False. as shown in above output.\n",
    "# and  since 1,2 is less than 3 it returned True by grouping them together and 3,4 are values which are not less than 3 and grouped together and gave boolean value which False as shown above."
   ]
  },
  {
   "cell_type": "markdown",
   "id": "8a2edbd4",
   "metadata": {},
   "source": [
    "# we can use lambda function for the above  as follow which has one line function and have input and will do some expressions and will return some output."
   ]
  },
  {
   "cell_type": "code",
   "execution_count": 94,
   "id": "672eb556",
   "metadata": {},
   "outputs": [
    {
     "name": "stdout",
     "output_type": "stream",
     "text": [
      "True [1, 2]\n",
      "False [3, 4]\n"
     ]
    }
   ],
   "source": [
    "from itertools import groupby\n",
    "def smaller_than_3(x):\n",
    "    return x<3\n",
    "a=[1,2,3,4]\n",
    "groupby_obj=groupby(a,key=lambda x:x<3)\n",
    "for key,value in groupby_obj:\n",
    "    print(key,list(value))"
   ]
  },
  {
   "cell_type": "markdown",
   "id": "e15dd8d0",
   "metadata": {},
   "source": [
    "# NB: In the code you provided, groupby is used to group elements from the list a based on whether they are smaller than 3 or not. Let's break down how groupby works in this context:\n",
    "\n",
    "# The key function lambda x: x < 3 defines the criterion for grouping. It evaluates each element x in the list and returns True if x < 3 and False otherwise. This means that elements smaller than 3 will have True as their key, and elements greater than or equal to 3 will have False as their key.\n",
    "# groupby groups consecutive elements in the iterable based on the value returned by the key function.\n",
    "       # Now, let's examine the output:\n",
    "\n",
    "# The key in this case refers to the result of x < 3, so it will be either True or False.\n",
    "# The value is an iterator containing the elements from the original iterable (a) that correspond to the same key."
   ]
  },
  {
   "cell_type": "markdown",
   "id": "b1ee0308",
   "metadata": {},
   "source": [
    "# let define the person object and see working of 'groupby' and 'lambda function' as follow."
   ]
  },
  {
   "cell_type": "code",
   "execution_count": 103,
   "id": "8a6e5818",
   "metadata": {},
   "outputs": [
    {
     "name": "stdout",
     "output_type": "stream",
     "text": [
      "25 [{'name': 'Marga', 'age': 25}, {'name': 'Tola', 'age': 25}]\n",
      "27 [{'name': 'Rorisa', 'age': 27}]\n",
      "29 [{'name': 'Bulcha', 'age': 29}]\n"
     ]
    }
   ],
   "source": [
    "from itertools import groupby\n",
    "persons=[{'name':'Marga','age':25},{'name':'Tola','age':25},\n",
    "         {'name':'Rorisa','age':27},{'name':'Bulcha','age':29}]\n",
    "grp=groupby(persons,key=lambda x: x['age'])# we want to group by their age.\n",
    "for key,value in grp:\n",
    "    print(key,list(value))\n"
   ]
  },
  {
   "cell_type": "code",
   "execution_count": 92,
   "id": "eb4e9afa",
   "metadata": {},
   "outputs": [
    {
     "name": "stdout",
     "output_type": "stream",
     "text": [
      "yes\n",
      "yes\n",
      "yes\n",
      "no\n",
      "no\n",
      "no\n",
      "no\n"
     ]
    },
    {
     "ename": "TypeError",
     "evalue": "'<' not supported between instances of 'list' and 'int'",
     "output_type": "error",
     "traceback": [
      "\u001b[1;31m---------------------------------------------------------------------------\u001b[0m",
      "\u001b[1;31mTypeError\u001b[0m                                 Traceback (most recent call last)",
      "Cell \u001b[1;32mIn[92], line 10\u001b[0m\n\u001b[0;32m      8\u001b[0m     \u001b[38;5;28;01melse\u001b[39;00m:\n\u001b[0;32m      9\u001b[0m         \u001b[38;5;28mprint\u001b[39m(\u001b[38;5;124m'\u001b[39m\u001b[38;5;124mno\u001b[39m\u001b[38;5;124m'\u001b[39m)\n\u001b[1;32m---> 10\u001b[0m result\u001b[38;5;241m=\u001b[39msmaller_than_4(x)\n\u001b[0;32m     11\u001b[0m result\n",
      "Cell \u001b[1;32mIn[92], line 2\u001b[0m, in \u001b[0;36msmaller_than_4\u001b[1;34m(x)\u001b[0m\n\u001b[0;32m      1\u001b[0m \u001b[38;5;28;01mdef\u001b[39;00m \u001b[38;5;21msmaller_than_4\u001b[39m(x):\n\u001b[1;32m----> 2\u001b[0m     \u001b[38;5;28;01mreturn\u001b[39;00m x \u001b[38;5;241m<\u001b[39m \u001b[38;5;241m4\u001b[39m\n",
      "\u001b[1;31mTypeError\u001b[0m: '<' not supported between instances of 'list' and 'int'"
     ]
    }
   ],
   "source": [
    "def smaller_than_4(x):\n",
    "    return x < 4\n",
    "\n",
    "x=[1,2,3,4,5,6,7]\n",
    "for i in x:\n",
    "    if i<4:\n",
    "        print('yes')\n",
    "    else:\n",
    "        print('no')\n",
    "result=smaller_than_4(x)\n",
    "result\n",
    "    "
   ]
  },
  {
   "cell_type": "code",
   "execution_count": 93,
   "id": "145a1234",
   "metadata": {},
   "outputs": [
    {
     "name": "stdout",
     "output_type": "stream",
     "text": [
      "yes\n",
      "yes\n",
      "yes\n",
      "no\n",
      "no\n",
      "no\n",
      "no\n",
      "[True, True, True, False, False, False, False]\n"
     ]
    }
   ],
   "source": [
    "def smaller_than_4(lst):\n",
    "    return [x < 4 for x in lst]\n",
    "\n",
    "x = [1, 2, 3, 4, 5, 6, 7]\n",
    "\n",
    "for i in x:\n",
    "    if i < 4:\n",
    "        print('yes')\n",
    "    else:\n",
    "        print('no')\n",
    "\n",
    "result = smaller_than_4(x)\n",
    "print(result)"
   ]
  },
  {
   "cell_type": "markdown",
   "id": "d90c961d",
   "metadata": {},
   "source": [
    "# (5) infnite iterators: they are: count,repeat and cycle iterators."
   ]
  },
  {
   "cell_type": "code",
   "execution_count": 3,
   "id": "361a6419",
   "metadata": {},
   "outputs": [],
   "source": [
    "from itertools import count,cycle,repeat\n"
   ]
  },
  {
   "cell_type": "code",
   "execution_count": 107,
   "id": "5ac3dfc2",
   "metadata": {},
   "outputs": [
    {
     "name": "stdout",
     "output_type": "stream",
     "text": [
      "10\n",
      "11\n",
      "12\n",
      "13\n",
      "14\n",
      "15\n"
     ]
    }
   ],
   "source": [
    "# count: will count again and again\n",
    "for i in count(10):\n",
    "    print(i)# gives infinite loop\n",
    "    if i==15:\n",
    "        break# to make finite\n",
    "     "
   ]
  },
  {
   "cell_type": "markdown",
   "id": "efa71441",
   "metadata": {},
   "source": [
    "# repeat: the given item again and again infinetly."
   ]
  },
  {
   "cell_type": "markdown",
   "id": "c93375c6",
   "metadata": {},
   "source": [
    "# cycle:it will excute the given item infinitely(it recycle infinetly)"
   ]
  },
  {
   "cell_type": "markdown",
   "id": "01b8698d",
   "metadata": {},
   "source": [
    "# (8) lambda Function: is small one line anonymous function that is defined with out the name.\n",
    "# and it looks like this: lambda function: expresssions \n",
    "# first it takes lambda key word then it takes som arguments then a colon and finally expressions."
   ]
  },
  {
   "cell_type": "markdown",
   "id": "8b62e461",
   "metadata": {},
   "source": [
    "# This will create the function with some arguments and it evaluates the expressions and return the results. "
   ]
  },
  {
   "cell_type": "code",
   "execution_count": 3,
   "id": "72a3d17d",
   "metadata": {},
   "outputs": [
    {
     "name": "stdout",
     "output_type": "stream",
     "text": [
      "15\n"
     ]
    }
   ],
   "source": [
    "add10=lambda x: x+10 # this expression 10 to x when x is called.here we have ssigned the variable add10 for lambda x.\n",
    "print(add10(5))      # lambda function with one argument.mult"
   ]
  },
  {
   "cell_type": "markdown",
   "id": "9b877aff",
   "metadata": {},
   "source": [
    "# the above code is the same with the below code which is defined with two lines."
   ]
  },
  {
   "cell_type": "code",
   "execution_count": 4,
   "id": "2ee2f9ea",
   "metadata": {},
   "outputs": [
    {
     "data": {
      "text/plain": [
       "15"
      ]
     },
     "execution_count": 4,
     "metadata": {},
     "output_type": "execute_result"
    }
   ],
   "source": [
    "def add10_func(x):\n",
    "    return x+10\n",
    "add10_func(5)"
   ]
  },
  {
   "cell_type": "markdown",
   "id": "faa3ab67",
   "metadata": {},
   "source": [
    "# lambda fuction can have multiple arguments as follow. "
   ]
  },
  {
   "cell_type": "code",
   "execution_count": 5,
   "id": "ccf79ded",
   "metadata": {},
   "outputs": [
    {
     "data": {
      "text/plain": [
       "6"
      ]
     },
     "execution_count": 5,
     "metadata": {},
     "output_type": "execute_result"
    }
   ],
   "source": [
    "mult=lambda x,y:x*y # this takes lambda funtion with two arguments and will multiply together.\n",
    "mult(2,3)# passing the value(2,3) for arguments( x.y) which was defined in lambda function above."
   ]
  },
  {
   "cell_type": "markdown",
   "id": "23936b26",
   "metadata": {},
   "source": [
    "# we use lambda function when we need one line of code in our program.\n",
    "# they are used along built in functions like:\n",
    "        # sorted\n",
    "        # map filter and \n",
    "        # reduce."
   ]
  },
  {
   "cell_type": "markdown",
   "id": "10877532",
   "metadata": {},
   "source": [
    "# (1) sorted: will sort according to increasing or decreasing order"
   ]
  },
  {
   "cell_type": "code",
   "execution_count": 6,
   "id": "f8ae4b85",
   "metadata": {},
   "outputs": [
    {
     "name": "stdout",
     "output_type": "stream",
     "text": [
      "[(1, 2), (7, -2), (3, 4), (-9, 7)]\n",
      "[(-9, 7), (1, 2), (3, 4), (7, -2)]\n"
     ]
    }
   ],
   "source": [
    "point2D=[(1,2),(7,-2),(3,4),(-9,7)]\n",
    "point2D_sorted=sorted(point2D)\n",
    "print(point2D)\n",
    "print(point2D_sorted)\n"
   ]
  },
  {
   "cell_type": "code",
   "execution_count": 7,
   "id": "f90a53c4",
   "metadata": {},
   "outputs": [
    {
     "data": {
      "text/plain": [
       "[1, 2, 4, 5, 6, 8]"
      ]
     },
     "execution_count": 7,
     "metadata": {},
     "output_type": "execute_result"
    }
   ],
   "source": [
    "x=[2,5,1,8,6,4,]\n",
    "x_sorted=sorted(x)\n",
    "x_sorted\n"
   ]
  },
  {
   "cell_type": "markdown",
   "id": "d6daee74",
   "metadata": {},
   "source": [
    "# for above case using by lambda function we can rewrite the above code by passing index 1(y_value) as follow."
   ]
  },
  {
   "cell_type": "code",
   "execution_count": 9,
   "id": "6a85b3a6",
   "metadata": {},
   "outputs": [
    {
     "name": "stdout",
     "output_type": "stream",
     "text": [
      "[(7, -2), (1, 2), (3, 4), (-9, 7)]\n"
     ]
    }
   ],
   "source": [
    "point2D=[(1,2),(7,-2),(3,4),(-9,7)]\n",
    "point2D_sorted=sorted(point2D,key=lambda x: x[1])# only the value for y will be sorted according to increasing order i'e x[1].\n",
    "print(point2D_sorted)"
   ]
  },
  {
   "cell_type": "code",
   "execution_count": 10,
   "id": "346f66e6",
   "metadata": {},
   "outputs": [
    {
     "name": "stdout",
     "output_type": "stream",
     "text": [
      "[(-9, 7), (1, 2), (3, 4), (7, -2)]\n"
     ]
    }
   ],
   "source": [
    "point2D=[(1,2),(7,-2),(3,4),(-9,7)]\n",
    "point2D_sorted=sorted(point2D,key=lambda x: x[0])# only x value is sorted according to increasing value since we passed x[0].\n",
    "print(point2D_sorted)"
   ]
  },
  {
   "cell_type": "markdown",
   "id": "1538ecb2",
   "metadata": {},
   "source": [
    "# we can also reverse order by passing revese=True as follow."
   ]
  },
  {
   "cell_type": "code",
   "execution_count": 12,
   "id": "3a26f1b6",
   "metadata": {},
   "outputs": [
    {
     "name": "stdout",
     "output_type": "stream",
     "text": [
      "[(7, -2), (3, 4), (1, 2), (-9, 7)]\n"
     ]
    }
   ],
   "source": [
    "point2D=[(1,2),(7,-2),(3,4),(-9,7)]\n",
    "point2D_sorted=sorted(point2D,key=lambda x: x[0],reverse=True)# 7 is big value and comes first since we passed reverse=True.\n",
    "print(point2D_sorted) # decreasing order for x value.      "
   ]
  },
  {
   "cell_type": "markdown",
   "id": "dde66bf7",
   "metadata": {},
   "source": [
    "# Or we can write by definig function as follow.for index 1 i'e x[1] meaning for y_value as follow."
   ]
  },
  {
   "cell_type": "code",
   "execution_count": 13,
   "id": "976a365e",
   "metadata": {},
   "outputs": [
    {
     "name": "stdout",
     "output_type": "stream",
     "text": [
      "[(7, -2), (1, 2), (3, 4), (-9, 7)]\n"
     ]
    }
   ],
   "source": [
    "point2D=[(1,2),(7,-2),(3,4),(-9,7)]\n",
    "def sort_by_y(x):\n",
    "    return x[1]\n",
    "point2D_sorted=sorted(point2D,key=sort_by_y)\n",
    "print(point2D_sorted)"
   ]
  },
  {
   "cell_type": "markdown",
   "id": "d2097c16",
   "metadata": {},
   "source": [
    "# (2) map functions: transforms each elements with the functions.\n",
    "# take func as an argument and takes seq as the second argument and look likes: map(func,seq)"
   ]
  },
  {
   "cell_type": "code",
   "execution_count": 14,
   "id": "1b381426",
   "metadata": {},
   "outputs": [
    {
     "name": "stdout",
     "output_type": "stream",
     "text": [
      "<map object at 0x000001F86E8BE140>\n",
      "[2, 4, 6, 8]\n"
     ]
    }
   ],
   "source": [
    "a=[1,2,3,4]# given sequence\n",
    "b=map(lambda x:x*2,a)\n",
    "print(b) # will print map object\n",
    "print(list(b))# will print list of map object\n"
   ]
  },
  {
   "cell_type": "markdown",
   "id": "cea9ccf4",
   "metadata": {},
   "source": [
    "# Or using for loop we can write as the folloing."
   ]
  },
  {
   "cell_type": "code",
   "execution_count": 15,
   "id": "29db7e23",
   "metadata": {},
   "outputs": [
    {
     "data": {
      "text/plain": [
       "[2, 4, 6, 8]"
      ]
     },
     "execution_count": 15,
     "metadata": {},
     "output_type": "execute_result"
    }
   ],
   "source": [
    "a=[1,2,3,4]\n",
    "c=[x*2 for x in a]\n",
    "c\n",
    "    "
   ]
  },
  {
   "cell_type": "code",
   "execution_count": 17,
   "id": "a8a6f757",
   "metadata": {},
   "outputs": [
    {
     "name": "stdout",
     "output_type": "stream",
     "text": [
      "<map object at 0x000001F86E8BE5C0>\n",
      "[2, 4, 6, 8]\n",
      "[2, 4, 6, 8]\n"
     ]
    }
   ],
   "source": [
    "a=[1,2,3,4]# given sequence\n",
    "b=map(lambda x:x*2,a)\n",
    "print(b) # will print map object\n",
    "print(list(b))\n",
    "c=[x*2 for x in a]\n",
    "print(c)"
   ]
  },
  {
   "cell_type": "markdown",
   "id": "74bdbf6c",
   "metadata": {},
   "source": [
    "# NB : map function will take two arguments function and sequence."
   ]
  },
  {
   "cell_type": "markdown",
   "id": "6ae685fc",
   "metadata": {},
   "source": [
    "# (3) filter fnction:\n",
    "# is also gates function and sequence(arguments).\n",
    "# and must returns true or false and returns all elements for which the function evaluats true."
   ]
  },
  {
   "cell_type": "code",
   "execution_count": 20,
   "id": "b25c3603",
   "metadata": {},
   "outputs": [
    {
     "name": "stdout",
     "output_type": "stream",
     "text": [
      "<filter object at 0x000001F86EAC33D0>\n",
      "[2, 4, 6]\n"
     ]
    }
   ],
   "source": [
    "a=[1,2,3,4,5,6]\n",
    "b=filter(lambda x:x%2==0,a)# this filter only even number and returns only even numbers.\n",
    "print(b)\n",
    "print(list(b))\n"
   ]
  },
  {
   "cell_type": "code",
   "execution_count": 21,
   "id": "a2048633",
   "metadata": {},
   "outputs": [
    {
     "name": "stdout",
     "output_type": "stream",
     "text": [
      "<filter object at 0x000001F86E8BE110>\n",
      "[1, 3, 5]\n"
     ]
    }
   ],
   "source": [
    "a=[1,2,3,4,5,6]\n",
    "b=filter(lambda x:x%2!=0,a)# this will returns the number which is not divisible by 2.\n",
    "print(b)\n",
    "print(list(b))"
   ]
  },
  {
   "cell_type": "markdown",
   "id": "65b9247e",
   "metadata": {},
   "source": [
    "#  also we can also write  as follow."
   ]
  },
  {
   "cell_type": "code",
   "execution_count": 24,
   "id": "36a842c5",
   "metadata": {},
   "outputs": [
    {
     "name": "stdout",
     "output_type": "stream",
     "text": [
      "[2, 4, 6]\n",
      "[2, 4, 6]\n"
     ]
    }
   ],
   "source": [
    "a=[1,2,3,4,5,6]\n",
    "b=filter(lambda x:x%2==0,a)\n",
    "print(list(b))\n",
    "c=[x for x in a if x%2==0]# using for loop geting even numbers.\n",
    "print(c)"
   ]
  },
  {
   "cell_type": "markdown",
   "id": "d3d8bb3f",
   "metadata": {},
   "source": [
    "# (4) reduce function:\n",
    "# also takes two argumeants function and sequence and it repeatdly apply the functions to the elements and returns the single value."
   ]
  },
  {
   "cell_type": "markdown",
   "id": "814e3cd7",
   "metadata": {},
   "source": [
    "# reduce(func,seq)"
   ]
  },
  {
   "cell_type": "markdown",
   "id": "ab3a89b3",
   "metadata": {},
   "source": [
    "# But first we have to import reduce from functools as follow to use reduce in code.\n"
   ]
  },
  {
   "cell_type": "code",
   "execution_count": 26,
   "id": "c3846160",
   "metadata": {},
   "outputs": [],
   "source": [
    "from functools import reduce"
   ]
  },
  {
   "cell_type": "code",
   "execution_count": 28,
   "id": "84b58689",
   "metadata": {},
   "outputs": [
    {
     "name": "stdout",
     "output_type": "stream",
     "text": [
      "24\n"
     ]
    }
   ],
   "source": [
    "\n",
    "a=[1,2,3,4]\n",
    "product_a=reduce(lambda x,y:x*y,a)# all elements will multiply sequentially and returns sums at the end.\n",
    "print(product_a)# will return 1*2*3*4=24 as follow.\n"
   ]
  },
  {
   "cell_type": "markdown",
   "id": "f398d9ce",
   "metadata": {},
   "source": [
    "# (9) Error and exceptions\n",
    "# A python program terminates as soon as it encounter an error and this error can be either syntax error or exception error."
   ]
  },
  {
   "cell_type": "markdown",
   "id": "e396af49",
   "metadata": {},
   "source": [
    "# (1) syntax error: occurs when the parser detects syntactically incorrect statements."
   ]
  },
  {
   "cell_type": "code",
   "execution_count": 29,
   "id": "357dffa1",
   "metadata": {},
   "outputs": [
    {
     "ename": "SyntaxError",
     "evalue": "invalid syntax (2687846081.py, line 1)",
     "output_type": "error",
     "traceback": [
      "\u001b[1;36m  Cell \u001b[1;32mIn[29], line 1\u001b[1;36m\u001b[0m\n\u001b[1;33m    a=5 print(a)\u001b[0m\n\u001b[1;37m        ^\u001b[0m\n\u001b[1;31mSyntaxError\u001b[0m\u001b[1;31m:\u001b[0m invalid syntax\n"
     ]
    }
   ],
   "source": [
    "a=5 print(a)# on the same line rise syntax error.and other  many more ways of syntax error. "
   ]
  },
  {
   "cell_type": "markdown",
   "id": "47784417",
   "metadata": {},
   "source": [
    "# (2) exception error:even if the statement is syntactically correct it may cause an error when it is excuted.\n",
    "# there are several different error classes,eg trying to add a number(int) and string will cause type error since int and string are different data types."
   ]
  },
  {
   "cell_type": "markdown",
   "id": "b23757fa",
   "metadata": {},
   "source": [
    "# (a)type error"
   ]
  },
  {
   "cell_type": "code",
   "execution_count": 30,
   "id": "e1a3a63c",
   "metadata": {},
   "outputs": [
    {
     "ename": "TypeError",
     "evalue": "unsupported operand type(s) for +: 'int' and 'str'",
     "output_type": "error",
     "traceback": [
      "\u001b[1;31m---------------------------------------------------------------------------\u001b[0m",
      "\u001b[1;31mTypeError\u001b[0m                                 Traceback (most recent call last)",
      "Cell \u001b[1;32mIn[30], line 1\u001b[0m\n\u001b[1;32m----> 1\u001b[0m a\u001b[38;5;241m=\u001b[39m\u001b[38;5;241m3\u001b[39m\u001b[38;5;241m+\u001b[39m\u001b[38;5;124m'\u001b[39m\u001b[38;5;124ma\u001b[39m\u001b[38;5;124m'\u001b[39m\n\u001b[0;32m      2\u001b[0m \u001b[38;5;28mprint\u001b[39m(a)\n",
      "\u001b[1;31mTypeError\u001b[0m: unsupported operand type(s) for +: 'int' and 'str'"
     ]
    }
   ],
   "source": [
    "a=3+'a'\n",
    "print(a)"
   ]
  },
  {
   "cell_type": "markdown",
   "id": "f06e93cd",
   "metadata": {},
   "source": [
    "# (b) import error when the name of module is not found"
   ]
  },
  {
   "cell_type": "code",
   "execution_count": 31,
   "id": "a9bea6d0",
   "metadata": {},
   "outputs": [
    {
     "ename": "ModuleNotFoundError",
     "evalue": "No module named 'modulename'",
     "output_type": "error",
     "traceback": [
      "\u001b[1;31m---------------------------------------------------------------------------\u001b[0m",
      "\u001b[1;31mModuleNotFoundError\u001b[0m                       Traceback (most recent call last)",
      "Cell \u001b[1;32mIn[31], line 2\u001b[0m\n\u001b[0;32m      1\u001b[0m \u001b[38;5;66;03m#import error when the name of module is not found\u001b[39;00m\n\u001b[1;32m----> 2\u001b[0m \u001b[38;5;28;01mimport\u001b[39;00m \u001b[38;5;21;01mmodulename\u001b[39;00m\n",
      "\u001b[1;31mModuleNotFoundError\u001b[0m: No module named 'modulename'"
     ]
    }
   ],
   "source": [
    "import modulename"
   ]
  },
  {
   "cell_type": "markdown",
   "id": "f1ef6bcb",
   "metadata": {},
   "source": [
    "# (c) name error: when that variable or name is not defined"
   ]
  },
  {
   "cell_type": "code",
   "execution_count": 36,
   "id": "5af474f4",
   "metadata": {},
   "outputs": [
    {
     "ename": "NameError",
     "evalue": "name 'f' is not defined",
     "output_type": "error",
     "traceback": [
      "\u001b[1;31m---------------------------------------------------------------------------\u001b[0m",
      "\u001b[1;31mNameError\u001b[0m                                 Traceback (most recent call last)",
      "Cell \u001b[1;32mIn[36], line 2\u001b[0m\n\u001b[0;32m      1\u001b[0m m\u001b[38;5;241m=\u001b[39m\u001b[38;5;241m8\u001b[39m\n\u001b[1;32m----> 2\u001b[0m n\u001b[38;5;241m=\u001b[39mf\n\u001b[0;32m      3\u001b[0m n\n",
      "\u001b[1;31mNameError\u001b[0m: name 'f' is not defined"
     ]
    }
   ],
   "source": [
    "m=8\n",
    "n=f# we have to defined f first to assign.python does not understand which data type f is belongs during this\n",
    "n"
   ]
  },
  {
   "cell_type": "markdown",
   "id": "42a83767",
   "metadata": {},
   "source": [
    "# (d) file does not found error: when the file what we want or import  is not found"
   ]
  },
  {
   "cell_type": "code",
   "execution_count": 38,
   "id": "de03f45f",
   "metadata": {},
   "outputs": [
    {
     "ename": "FileNotFoundError",
     "evalue": "[Errno 2] No such file or directory: 'somefile.txt'",
     "output_type": "error",
     "traceback": [
      "\u001b[1;31m---------------------------------------------------------------------------\u001b[0m",
      "\u001b[1;31mFileNotFoundError\u001b[0m                         Traceback (most recent call last)",
      "Cell \u001b[1;32mIn[38], line 1\u001b[0m\n\u001b[1;32m----> 1\u001b[0m f\u001b[38;5;241m=\u001b[39m\u001b[38;5;28mopen\u001b[39m(\u001b[38;5;124m'\u001b[39m\u001b[38;5;124msomefile.txt\u001b[39m\u001b[38;5;124m'\u001b[39m)\n\u001b[0;32m      2\u001b[0m f\n",
      "File \u001b[1;32m~\\anaconda3\\Lib\\site-packages\\IPython\\core\\interactiveshell.py:284\u001b[0m, in \u001b[0;36m_modified_open\u001b[1;34m(file, *args, **kwargs)\u001b[0m\n\u001b[0;32m    277\u001b[0m \u001b[38;5;28;01mif\u001b[39;00m file \u001b[38;5;129;01min\u001b[39;00m {\u001b[38;5;241m0\u001b[39m, \u001b[38;5;241m1\u001b[39m, \u001b[38;5;241m2\u001b[39m}:\n\u001b[0;32m    278\u001b[0m     \u001b[38;5;28;01mraise\u001b[39;00m \u001b[38;5;167;01mValueError\u001b[39;00m(\n\u001b[0;32m    279\u001b[0m         \u001b[38;5;124mf\u001b[39m\u001b[38;5;124m\"\u001b[39m\u001b[38;5;124mIPython won\u001b[39m\u001b[38;5;124m'\u001b[39m\u001b[38;5;124mt let you open fd=\u001b[39m\u001b[38;5;132;01m{\u001b[39;00mfile\u001b[38;5;132;01m}\u001b[39;00m\u001b[38;5;124m by default \u001b[39m\u001b[38;5;124m\"\u001b[39m\n\u001b[0;32m    280\u001b[0m         \u001b[38;5;124m\"\u001b[39m\u001b[38;5;124mas it is likely to crash IPython. If you know what you are doing, \u001b[39m\u001b[38;5;124m\"\u001b[39m\n\u001b[0;32m    281\u001b[0m         \u001b[38;5;124m\"\u001b[39m\u001b[38;5;124myou can use builtins\u001b[39m\u001b[38;5;124m'\u001b[39m\u001b[38;5;124m open.\u001b[39m\u001b[38;5;124m\"\u001b[39m\n\u001b[0;32m    282\u001b[0m     )\n\u001b[1;32m--> 284\u001b[0m \u001b[38;5;28;01mreturn\u001b[39;00m io_open(file, \u001b[38;5;241m*\u001b[39margs, \u001b[38;5;241m*\u001b[39m\u001b[38;5;241m*\u001b[39mkwargs)\n",
      "\u001b[1;31mFileNotFoundError\u001b[0m: [Errno 2] No such file or directory: 'somefile.txt'"
     ]
    }
   ],
   "source": [
    "f=open('somefile.txt')\n",
    "f"
   ]
  },
  {
   "cell_type": "markdown",
   "id": "a1a8a805",
   "metadata": {},
   "source": [
    "# (e) value error:if the function or operation recieves an argument that has the right type,but an in appropriate value."
   ]
  },
  {
   "cell_type": "code",
   "execution_count": 39,
   "id": "a1ec3960",
   "metadata": {},
   "outputs": [
    {
     "ename": "ValueError",
     "evalue": "list.remove(x): x not in list",
     "output_type": "error",
     "traceback": [
      "\u001b[1;31m---------------------------------------------------------------------------\u001b[0m",
      "\u001b[1;31mValueError\u001b[0m                                Traceback (most recent call last)",
      "Cell \u001b[1;32mIn[39], line 2\u001b[0m\n\u001b[0;32m      1\u001b[0m a\u001b[38;5;241m=\u001b[39m[\u001b[38;5;241m1\u001b[39m,\u001b[38;5;241m2\u001b[39m,\u001b[38;5;241m3\u001b[39m]\n\u001b[1;32m----> 2\u001b[0m a\u001b[38;5;241m.\u001b[39mremove(\u001b[38;5;241m4\u001b[39m)\u001b[38;5;66;03m# since 4 is not found in the list it will rise value error as follow.\u001b[39;00m\n\u001b[0;32m      3\u001b[0m a\n",
      "\u001b[1;31mValueError\u001b[0m: list.remove(x): x not in list"
     ]
    }
   ],
   "source": [
    "a=[1,2,3]\n",
    "a.remove(4)# since 4 is not found in the list it will rise value error as follow.\n",
    "a"
   ]
  },
  {
   "cell_type": "markdown",
   "id": "ffef3a87",
   "metadata": {},
   "source": [
    "# (f) index error: if we want to acces the index which is not(out of range in a sequence) range."
   ]
  },
  {
   "cell_type": "code",
   "execution_count": 40,
   "id": "dc8b9fab",
   "metadata": {},
   "outputs": [
    {
     "ename": "IndexError",
     "evalue": "list index out of range",
     "output_type": "error",
     "traceback": [
      "\u001b[1;31m---------------------------------------------------------------------------\u001b[0m",
      "\u001b[1;31mIndexError\u001b[0m                                Traceback (most recent call last)",
      "Cell \u001b[1;32mIn[40], line 2\u001b[0m\n\u001b[0;32m      1\u001b[0m a\u001b[38;5;241m=\u001b[39m[\u001b[38;5;241m2\u001b[39m,\u001b[38;5;241m3\u001b[39m,\u001b[38;5;241m4\u001b[39m]\n\u001b[1;32m----> 2\u001b[0m a[\u001b[38;5;241m3\u001b[39m]\n\u001b[0;32m      3\u001b[0m a\n",
      "\u001b[1;31mIndexError\u001b[0m: list index out of range"
     ]
    }
   ],
   "source": [
    "a=[2,3,4]\n",
    "a[3]# here we have not index 3 unless we have index 0 to 2[0:3] 3 is exclusive.\n",
    "a"
   ]
  },
  {
   "cell_type": "markdown",
   "id": "a3e87ece",
   "metadata": {},
   "source": [
    "# In dictionary case we have key error if we want to access the key which is not found in given dictionary. consider the following."
   ]
  },
  {
   "cell_type": "code",
   "execution_count": 41,
   "id": "176166c1",
   "metadata": {},
   "outputs": [
    {
     "ename": "KeyError",
     "evalue": "'dep'",
     "output_type": "error",
     "traceback": [
      "\u001b[1;31m---------------------------------------------------------------------------\u001b[0m",
      "\u001b[1;31mKeyError\u001b[0m                                  Traceback (most recent call last)",
      "Cell \u001b[1;32mIn[41], line 2\u001b[0m\n\u001b[0;32m      1\u001b[0m person\u001b[38;5;241m=\u001b[39m{\u001b[38;5;124m'\u001b[39m\u001b[38;5;124mname\u001b[39m\u001b[38;5;124m'\u001b[39m:\u001b[38;5;124m'\u001b[39m\u001b[38;5;124mEng.Marga\u001b[39m\u001b[38;5;124m'\u001b[39m,\u001b[38;5;124m'\u001b[39m\u001b[38;5;124mage\u001b[39m\u001b[38;5;124m'\u001b[39m:\u001b[38;5;241m27\u001b[39m}\n\u001b[1;32m----> 2\u001b[0m person[\u001b[38;5;124m'\u001b[39m\u001b[38;5;124mdep\u001b[39m\u001b[38;5;124m'\u001b[39m]\n\u001b[0;32m      3\u001b[0m person\n",
      "\u001b[1;31mKeyError\u001b[0m: 'dep'"
     ]
    }
   ],
   "source": [
    "person={'name':'Eng.Marga','age':27}\n",
    "person['dep']# \n",
    "person         "
   ]
  },
  {
   "cell_type": "markdown",
   "id": "990d7e40",
   "metadata": {},
   "source": [
    "# In above case here we have no key which is 'dep' so that it will cause key error since i'm trying to access the value for key which is not available in the dictionary"
   ]
  },
  {
   "cell_type": "markdown",
   "id": "0fdd997c",
   "metadata": {},
   "source": [
    "# if we want to handle exceptions,we can catch  exceptions with try except block as follow."
   ]
  },
  {
   "cell_type": "code",
   "execution_count": 43,
   "id": "3b41ec3d",
   "metadata": {},
   "outputs": [
    {
     "name": "stdout",
     "output_type": "stream",
     "text": [
      "an error happened\n"
     ]
    }
   ],
   "source": [
    "try:\n",
    "    a=5/0 # here since the number(5) divided by (0) is error the next line be excuted and the program will not stop here & cont.\n",
    "except: # this line will be excuted.\n",
    "    print('an error happened')"
   ]
  },
  {
   "cell_type": "markdown",
   "id": "c601eb90",
   "metadata": {},
   "source": [
    "# or we can rewrite the above as follow."
   ]
  },
  {
   "cell_type": "code",
   "execution_count": 45,
   "id": "2687375f",
   "metadata": {},
   "outputs": [
    {
     "name": "stdout",
     "output_type": "stream",
     "text": [
      "division by zero\n"
     ]
    }
   ],
   "source": [
    "try:\n",
    "    a=5/0\n",
    "except Exception as e:\n",
    "    print(e) # this will print the case of error as follow. divion of number by zero which is error."
   ]
  },
  {
   "cell_type": "markdown",
   "id": "0cfd5b97",
   "metadata": {},
   "source": [
    "# Or we can write two statement as follow."
   ]
  },
  {
   "cell_type": "code",
   "execution_count": 46,
   "id": "0318a50b",
   "metadata": {},
   "outputs": [
    {
     "name": "stdout",
     "output_type": "stream",
     "text": [
      "unsupported operand type(s) for +: 'int' and 'str'\n"
     ]
    }
   ],
   "source": [
    "try:\n",
    "    a=5/1\n",
    "    b=5+'g'\n",
    "except Exception as e:\n",
    "    print(e)\n",
    "except Exception as e:\n",
    "    print(e)"
   ]
  },
  {
   "cell_type": "markdown",
   "id": "e20dfa84",
   "metadata": {},
   "source": [
    "# In the above case since the type error is occured the second line will be excuted."
   ]
  },
  {
   "cell_type": "markdown",
   "id": "d2ac0a01",
   "metadata": {},
   "source": [
    "# but if we will write as follow the first line which will cause an error(exception error) will be excuted."
   ]
  },
  {
   "cell_type": "code",
   "execution_count": 47,
   "id": "975e4c6d",
   "metadata": {},
   "outputs": [
    {
     "name": "stdout",
     "output_type": "stream",
     "text": [
      "division by zero\n"
     ]
    }
   ],
   "source": [
    "try:\n",
    "    a=5/0\n",
    "    b=5+'g'\n",
    "except Exception as e:# this line will be excuted.\n",
    "    print(e)\n",
    "except Exception as e:\n",
    "    print(e)"
   ]
  },
  {
   "cell_type": "markdown",
   "id": "e62eaf12",
   "metadata": {},
   "source": [
    "# we can also use else statement in try and except block as follow."
   ]
  },
  {
   "cell_type": "code",
   "execution_count": 50,
   "id": "9560d685",
   "metadata": {},
   "outputs": [
    {
     "name": "stdout",
     "output_type": "stream",
     "text": [
      " Marga well done!\n"
     ]
    }
   ],
   "source": [
    "try:\n",
    "    a=5/1\n",
    "    b=a+4\n",
    "except Exception as e:\n",
    "    print(e)\n",
    "except Exception as e:\n",
    "    print(e)\n",
    "else:\n",
    "    print(' Marga well done!')"
   ]
  },
  {
   "cell_type": "markdown",
   "id": "80f12fd4",
   "metadata": {},
   "source": [
    "# we can also add finally clause as follow."
   ]
  },
  {
   "cell_type": "code",
   "execution_count": 51,
   "id": "f17d83c9",
   "metadata": {},
   "outputs": [
    {
     "name": "stdout",
     "output_type": "stream",
     "text": [
      " Marga well done!\n",
      "thanks to God for everything!\n"
     ]
    }
   ],
   "source": [
    "try:\n",
    "    a=5/1\n",
    "    b=a+4\n",
    "except Exception as e:\n",
    "    print(e)\n",
    "except Exception as e:\n",
    "    print(e)\n",
    "else:\n",
    "    print(' Marga well done!')\n",
    "finally:\n",
    "    print(\"thanks to God for everything!\")"
   ]
  },
  {
   "cell_type": "markdown",
   "id": "c95de0d1",
   "metadata": {},
   "source": [
    "# if an exception is occur it will excute the line which has exception error and the final line also excuted as follow."
   ]
  },
  {
   "cell_type": "code",
   "execution_count": 53,
   "id": "63c90535",
   "metadata": {},
   "outputs": [
    {
     "name": "stdout",
     "output_type": "stream",
     "text": [
      "division by zero\n",
      "thanks to God for everything!\n"
     ]
    }
   ],
   "source": [
    "try:\n",
    "    a=5/0 # the first line were except error is occured\n",
    "    b=a+4\n",
    "except Exception as e:# this line will excuted along with the final line as follow.\n",
    "    print(e)\n",
    "except Exception as e:\n",
    "    print(e)\n",
    "else:\n",
    "    print(' Marga well done!')\n",
    "finally:\n",
    "    print(\"thanks to God for everything!\")"
   ]
  },
  {
   "cell_type": "markdown",
   "id": "b4ed5aa6",
   "metadata": {},
   "source": [
    "# we can define  except error by ourselves  as follow"
   ]
  },
  {
   "cell_type": "code",
   "execution_count": 54,
   "id": "b8ab8ed9",
   "metadata": {},
   "outputs": [
    {
     "ename": "ValueTooHighError",
     "evalue": "value is to high",
     "output_type": "error",
     "traceback": [
      "\u001b[1;31m---------------------------------------------------------------------------\u001b[0m",
      "\u001b[1;31mValueTooHighError\u001b[0m                         Traceback (most recent call last)",
      "Cell \u001b[1;32mIn[54], line 6\u001b[0m\n\u001b[0;32m      4\u001b[0m     \u001b[38;5;28;01mif\u001b[39;00m x\u001b[38;5;241m>\u001b[39m\u001b[38;5;241m500\u001b[39m:\n\u001b[0;32m      5\u001b[0m         \u001b[38;5;28;01mraise\u001b[39;00m ValueTooHighError(\u001b[38;5;124m'\u001b[39m\u001b[38;5;124mvalue is to high\u001b[39m\u001b[38;5;124m'\u001b[39m)\n\u001b[1;32m----> 6\u001b[0m test_value(\u001b[38;5;241m1000\u001b[39m)\n",
      "Cell \u001b[1;32mIn[54], line 5\u001b[0m, in \u001b[0;36mtest_value\u001b[1;34m(x)\u001b[0m\n\u001b[0;32m      3\u001b[0m \u001b[38;5;28;01mdef\u001b[39;00m \u001b[38;5;21mtest_value\u001b[39m(x):\n\u001b[0;32m      4\u001b[0m     \u001b[38;5;28;01mif\u001b[39;00m x\u001b[38;5;241m>\u001b[39m\u001b[38;5;241m500\u001b[39m:\n\u001b[1;32m----> 5\u001b[0m         \u001b[38;5;28;01mraise\u001b[39;00m ValueTooHighError(\u001b[38;5;124m'\u001b[39m\u001b[38;5;124mvalue is to high\u001b[39m\u001b[38;5;124m'\u001b[39m)\n",
      "\u001b[1;31mValueTooHighError\u001b[0m: value is to high"
     ]
    }
   ],
   "source": [
    "class ValueTooHighError(Exception):\n",
    "    pass\n",
    "def test_value(x):\n",
    "    if x>500:\n",
    "        raise ValueTooHighError('value is to high')\n",
    "test_value(1000)\n"
   ]
  },
  {
   "cell_type": "code",
   "execution_count": 57,
   "id": "7a05b303",
   "metadata": {},
   "outputs": [
    {
     "ename": "ValueTooHighError",
     "evalue": "value is to high",
     "output_type": "error",
     "traceback": [
      "\u001b[1;31m---------------------------------------------------------------------------\u001b[0m",
      "\u001b[1;31mValueTooHighError\u001b[0m                         Traceback (most recent call last)",
      "Cell \u001b[1;32mIn[57], line 6\u001b[0m\n\u001b[0;32m      4\u001b[0m     \u001b[38;5;28;01mif\u001b[39;00m x\u001b[38;5;241m>\u001b[39m\u001b[38;5;241m500\u001b[39m:\n\u001b[0;32m      5\u001b[0m         \u001b[38;5;28;01mraise\u001b[39;00m ValueTooHighError(\u001b[38;5;124m'\u001b[39m\u001b[38;5;124mvalue is to high\u001b[39m\u001b[38;5;124m'\u001b[39m)\n\u001b[1;32m----> 6\u001b[0m test_value(\u001b[38;5;241m1000\u001b[39m)\n",
      "Cell \u001b[1;32mIn[57], line 5\u001b[0m, in \u001b[0;36mtest_value\u001b[1;34m(x)\u001b[0m\n\u001b[0;32m      3\u001b[0m \u001b[38;5;28;01mdef\u001b[39;00m \u001b[38;5;21mtest_value\u001b[39m(x):\n\u001b[0;32m      4\u001b[0m     \u001b[38;5;28;01mif\u001b[39;00m x\u001b[38;5;241m>\u001b[39m\u001b[38;5;241m500\u001b[39m:\n\u001b[1;32m----> 5\u001b[0m         \u001b[38;5;28;01mraise\u001b[39;00m ValueTooHighError(\u001b[38;5;124m'\u001b[39m\u001b[38;5;124mvalue is to high\u001b[39m\u001b[38;5;124m'\u001b[39m)\n",
      "\u001b[1;31mValueTooHighError\u001b[0m: value is to high"
     ]
    }
   ],
   "source": [
    "class ValueTooHighError(Exception):\n",
    "    pass\n",
    "def test_value(x):\n",
    "    if x>500:\n",
    "        raise ValueTooHighError('value is to high')\n",
    "test_value(1000)\n"
   ]
  },
  {
   "cell_type": "markdown",
   "id": "bda73420",
   "metadata": {},
   "source": [
    "# we can define the above code as follow."
   ]
  },
  {
   "cell_type": "code",
   "execution_count": 55,
   "id": "c7cd416c",
   "metadata": {},
   "outputs": [
    {
     "name": "stdout",
     "output_type": "stream",
     "text": [
      "value is to high\n"
     ]
    }
   ],
   "source": [
    "class ValueTooHighError(Exception):\n",
    "    pass\n",
    "def test_value(x):\n",
    "    if x>500:\n",
    "        raise ValueTooHighError('value is to high')\n",
    "try:\n",
    "    test_value(1000)\n",
    "except Exception as e:\n",
    "    print(e)"
   ]
  },
  {
   "cell_type": "markdown",
   "id": "87f271df",
   "metadata": {},
   "source": [
    "# (10) logging:\n",
    "# Logging is a means of tracking events that happen when some software runs. Logging is important for software developing, debugging, and running."
   ]
  },
  {
   "cell_type": "markdown",
   "id": "a2c1b4b2",
   "metadata": {},
   "source": [
    "\n",
    "# Python has a built-in module logging which allows writing status messages to a file or any other output streams. "
   ]
  },
  {
   "cell_type": "markdown",
   "id": "4579faf1",
   "metadata": {},
   "source": [
    "# The file can contain information on which part of the code is executed and what problems have arisen.  "
   ]
  },
  {
   "cell_type": "markdown",
   "id": "17ec85c2",
   "metadata": {},
   "source": [
    "# (@) Python Logging Levels:\n",
    "# There are five built-in levels of the log message.  \n",
    "# (1) Debug: These are used to give Detailed information, typically of interest only when diagnosing problems.\n",
    "# (2) Info: These are used to confirm that things are working as expected\n",
    "# (3) Warning: These are used as an indication that something unexpected happened, or is indicative of some problem in the near future\n",
    "# (4) Error: This tells that due to a more serious problem, the software has not been able to perform some function\n",
    "# (5) Critical: This tells serious error, indicating that the program itself may be unable to continue running"
   ]
  },
  {
   "cell_type": "markdown",
   "id": "4b698c86",
   "metadata": {},
   "source": [
    "# (11) JSON:\n",
    "# is a short form of javaScript object notation and it is lightweight data format that is used for data exchange.\n",
    "# heavily used in web applications and python comes with built in JS module that makes working with JSON data very easy."
   ]
  },
  {
   "cell_type": "markdown",
   "id": "9ed5244b",
   "metadata": {},
   "source": [
    "# and we will look at how we encode and decode JSON data with this module.\n",
    "# When creating or working with JSON (JavaScript Object Notation) files, we do not directly assign variables to define the structure or content within the JSON itself \n",
    "# It is used primarily to transmit data between a server and web application as text.\n",
    "# A JSON file is composed of key/value pairs similar to a dictionary in Python or an object in JavaScript."
   ]
  },
  {
   "cell_type": "markdown",
   "id": "459ea7c8",
   "metadata": {},
   "source": [
    "# It can contain : string,list,nested dictionary,array,list,boolean,float and any other datatype within it."
   ]
  },
  {
   "cell_type": "markdown",
   "id": "f296cadf",
   "metadata": {},
   "source": [
    "# Serializing JSON(encoding JSON):\n",
    "\n",
    "# What happens after a computer processes lots of information? It needs to take a data dump. \n",
    "# Accordingly, the json library exposes the dump() method for writing data to files. \n",
    "# There is also a dumps() method (pronounced as “dump-s”) for writing to a Python string."
   ]
  },
  {
   "cell_type": "code",
   "execution_count": null,
   "id": "85814883",
   "metadata": {},
   "outputs": [],
   "source": [
    "Simple Python objects are translated to JSON according to a fairly intuitive conversion.\n",
    "Python \tJSON\n",
    "dict \tobject\n",
    "list, tuple \tarray\n",
    "str \tstring\n",
    "int, long, float \tnumber\n",
    "True \ttrue\n",
    "False \tfalse\n",
    "None \tnull"
   ]
  },
  {
   "cell_type": "markdown",
   "id": "ae3a8ed3",
   "metadata": {},
   "source": [
    "# and the process of converting file back  to python format is called D serializing JSON(decoding JSON)."
   ]
  },
  {
   "cell_type": "markdown",
   "id": "ada33854",
   "metadata": {},
   "source": [
    "# (A) converting from python to JSON(encoding):"
   ]
  },
  {
   "cell_type": "code",
   "execution_count": 2,
   "id": "b30bca86",
   "metadata": {},
   "outputs": [],
   "source": [
    "import json"
   ]
  },
  {
   "cell_type": "code",
   "execution_count": 3,
   "id": "be3814ef",
   "metadata": {},
   "outputs": [
    {
     "name": "stdout",
     "output_type": "stream",
     "text": [
      "{\n",
      "    \"name\": \"Marga\",\n",
      "    \"age\": 27,\n",
      "    \"city\": \"AddisAbaba\",\n",
      "    \"country\": \"Ethiopia\",\n",
      "    \"haschildren\": false,\n",
      "    \"Titles\": [\n",
      "        \"Engineer\",\n",
      "        \"programmer\"\n",
      "    ]\n",
      "}\n"
     ]
    }
   ],
   "source": [
    "person={'name':'Marga','age':27,'city':'AddisAbaba','country':'Ethiopia','haschildren':False,'Titles':['Engineer','programmer']}\n",
    "personJSON=json.dumps(person,indent=4)\n",
    "print(personJSON)\n"
   ]
  },
  {
   "cell_type": "markdown",
   "id": "4eeb8c7b",
   "metadata": {},
   "source": [
    "# we can also convert or dump into a file as follow method."
   ]
  },
  {
   "cell_type": "code",
   "execution_count": 7,
   "id": "bbc360fc",
   "metadata": {},
   "outputs": [],
   "source": [
    "with open('person.json','w') as file:\n",
    "    json.dump(person,file)"
   ]
  },
  {
   "cell_type": "markdown",
   "id": "41ab92e5",
   "metadata": {},
   "source": [
    "# the above file is located in Home page of this working directory with the name of \"person.json\" check it."
   ]
  },
  {
   "cell_type": "markdown",
   "id": "6ba60291",
   "metadata": {},
   "source": [
    "# and we can also change it's format as follow."
   ]
  },
  {
   "cell_type": "code",
   "execution_count": 8,
   "id": "43d4a0ac",
   "metadata": {},
   "outputs": [],
   "source": [
    "with open('person.json','w') as file:\n",
    "    json.dump(person,file,indent=2)# this and the above file is different form when we observe from Home page where it is saved."
   ]
  },
  {
   "cell_type": "markdown",
   "id": "6b6580a7",
   "metadata": {},
   "source": [
    "# (B) converting JSON data back to Python object(D serializing) or decoding"
   ]
  },
  {
   "cell_type": "code",
   "execution_count": 10,
   "id": "3e96190f",
   "metadata": {},
   "outputs": [
    {
     "data": {
      "text/plain": [
       "{'name': 'Marga',\n",
       " 'age': 27,\n",
       " 'city': 'AddisAbaba',\n",
       " 'country': 'Ethiopia',\n",
       " 'haschildren': False,\n",
       " 'Titles': ['Engineer', 'programmer']}"
      ]
     },
     "execution_count": 10,
     "metadata": {},
     "output_type": "execute_result"
    }
   ],
   "source": [
    "person={'name':'Marga','age':27,'city':'AddisAbaba','country':'Ethiopia','haschildren':False,'Titles':['Engineer','programmer']}\n",
    "personJSON=json.dumps(person,indent=4)\n",
    "#print(personJSON)\n",
    "person=json.loads(personJSON)# here JSON is converted back to python object as follow.\n",
    "person"
   ]
  },
  {
   "cell_type": "markdown",
   "id": "d4a90333",
   "metadata": {},
   "source": [
    "# if we want to read the json file"
   ]
  },
  {
   "cell_type": "code",
   "execution_count": 11,
   "id": "0e655492",
   "metadata": {},
   "outputs": [
    {
     "name": "stdout",
     "output_type": "stream",
     "text": [
      "{'name': 'Marga', 'age': 27, 'city': 'AddisAbaba', 'country': 'Ethiopia', 'haschildren': False, 'Titles': ['Engineer', 'programmer']}\n"
     ]
    }
   ],
   "source": [
    "with open('person.json','r') as file:# Here 'person.json' is the name of file what we are going to read.\n",
    "    person=json.load(file)# json form of the file is loaded to the console.\n",
    "    print(person)"
   ]
  },
  {
   "cell_type": "markdown",
   "id": "dcfa0330",
   "metadata": {},
   "source": [
    "# NB:read more when we defined with class and object during encoding and decodin json(assighment)"
   ]
  },
  {
   "cell_type": "markdown",
   "id": "78649ca5",
   "metadata": {},
   "source": [
    "# (12) Random numbers:\n",
    "# python comes with built in modules to generate random numbers.\n",
    "# In this case we will look:\n",
    "    # (A) Random modules for pseudo random numbers\n",
    "    # (B) The secrets modules for cryptographically strong random numbers and \n",
    "    # (C) The NumPy random module to generate arrays with random numbers."
   ]
  },
  {
   "cell_type": "markdown",
   "id": "87434600",
   "metadata": {},
   "source": [
    "# (A) Random modules: \n",
    "# first we have to import random and this used to generate pseudo random numbers for various distributions.\n",
    "# it is called pseudo random because the number seems random,but they are reproducible.\n"
   ]
  },
  {
   "cell_type": "code",
   "execution_count": 16,
   "id": "66973b03",
   "metadata": {},
   "outputs": [
    {
     "data": {
      "text/plain": [
       "0.8983936206572524"
      ]
     },
     "execution_count": 16,
     "metadata": {},
     "output_type": "execute_result"
    }
   ],
   "source": [
    "import random\n",
    "a=random.random()# this will print a random float number between 0 and 1 by default if we haven't set range.\n",
    "a               # runninig again and again gives diffirent float numbers between 0 and 1."
   ]
  },
  {
   "cell_type": "markdown",
   "id": "40cfa75d",
   "metadata": {},
   "source": [
    "# if we want to have specific range we can use random dot uniform and give start and stop as follow."
   ]
  },
  {
   "cell_type": "code",
   "execution_count": 20,
   "id": "ca497a15",
   "metadata": {},
   "outputs": [
    {
     "data": {
      "text/plain": [
       "2.005655995443107"
      ]
     },
     "execution_count": 20,
     "metadata": {},
     "output_type": "execute_result"
    }
   ],
   "source": [
    "a=random.uniform(1,6)# will give float data type between 1 and 6.\n",
    "a"
   ]
  },
  {
   "cell_type": "markdown",
   "id": "05b6e1e4",
   "metadata": {},
   "source": [
    "# if we want to enter chess we can use random dot randint and give it range as follow."
   ]
  },
  {
   "cell_type": "code",
   "execution_count": 23,
   "id": "23b958a5",
   "metadata": {},
   "outputs": [
    {
     "data": {
      "text/plain": [
       "3"
      ]
     },
     "execution_count": 23,
     "metadata": {},
     "output_type": "execute_result"
    }
   ],
   "source": [
    "a=random.randint(2,7) # will give int data type on the output console as follow and the above bound is included.\n",
    "a"
   ]
  },
  {
   "cell_type": "markdown",
   "id": "dc5b8ebc",
   "metadata": {},
   "source": [
    "# for upper bound to be not included we use random dot(.) randrange as follow."
   ]
  },
  {
   "cell_type": "code",
   "execution_count": 33,
   "id": "0e11f254",
   "metadata": {},
   "outputs": [
    {
     "data": {
      "text/plain": [
       "3"
      ]
     },
     "execution_count": 33,
     "metadata": {},
     "output_type": "execute_result"
    }
   ],
   "source": [
    "b=random.randrange(3,9)# never pick 9 here.\n",
    "b"
   ]
  },
  {
   "cell_type": "markdown",
   "id": "f0d49a58",
   "metadata": {},
   "source": [
    "# (@):The other one is random dot normal variate function with a mu and a sigma and giving 0 for mu and giving 1 for sigma and this useful if we are working  in statistics as follow.\n",
    "# and this will pick a random numbers from normal distribution with a mean of zero(0) and standard deviation one(1) and let see how normal distribution work as follow."
   ]
  },
  {
   "cell_type": "code",
   "execution_count": 46,
   "id": "599b8bdb",
   "metadata": {},
   "outputs": [
    {
     "data": {
      "text/plain": [
       "0.5531668246815986"
      ]
     },
     "execution_count": 46,
     "metadata": {},
     "output_type": "execute_result"
    }
   ],
   "source": [
    "c=random.normalvariate(0,1)\n",
    "c"
   ]
  },
  {
   "cell_type": "code",
   "execution_count": 43,
   "id": "ead8334a",
   "metadata": {},
   "outputs": [
    {
     "data": {
      "image/png": "[encoded data removed]",
      "text/plain": [
       "<Figure size 640x480 with 1 Axes>"
      ]
     },
     "metadata": {},
     "output_type": "display_data"
    }
   ],
   "source": [
    "import matplotlib.pyplot as plt\n",
    "import random\n",
    "\n",
    "c = random.normalvariate(0, 1)\n",
    "plt.plot([c], 'o')  # Plot a single point with 'o' marker\n",
    "plt.show()  # Show the plot"
   ]
  },
  {
   "cell_type": "markdown",
   "id": "1d9f4975",
   "metadata": {},
   "source": [
    "# random modules also comes with different functions to work with sequences as follow. "
   ]
  },
  {
   "cell_type": "code",
   "execution_count": 52,
   "id": "d68659cb",
   "metadata": {},
   "outputs": [
    {
     "data": {
      "text/plain": [
       "list['a', 'b', 'c', 'd', 'e', 's', 'f', 't', 'g']"
      ]
     },
     "execution_count": 52,
     "metadata": {},
     "output_type": "execute_result"
    }
   ],
   "source": [
    "mylist=list['a','b','c','d','e','s','f','t','g']\n",
    "mylist\n"
   ]
  },
  {
   "cell_type": "code",
   "execution_count": 55,
   "id": "09604bb7",
   "metadata": {},
   "outputs": [
    {
     "data": {
      "text/plain": [
       "'e'"
      ]
     },
     "execution_count": 55,
     "metadata": {},
     "output_type": "execute_result"
    }
   ],
   "source": [
    "mylist=['a','b','c','d','e','s','f','t','g']\n",
    "b=random.choice(mylist)\n",
    "b"
   ]
  },
  {
   "cell_type": "markdown",
   "id": "59a63c3e",
   "metadata": {},
   "source": [
    "# if we want to pick some random sample from our list we will pass mylist along the lenght of samples as follow(the length of our sample)"
   ]
  },
  {
   "cell_type": "code",
   "execution_count": 58,
   "id": "e4066dbd",
   "metadata": {},
   "outputs": [
    {
     "data": {
      "text/plain": [
       "['f', 'g', 'a']"
      ]
     },
     "execution_count": 58,
     "metadata": {},
     "output_type": "execute_result"
    }
   ],
   "source": [
    "d=random.sample(mylist,3)# randomly 3 element will be printed here and will pick a unique element among list.\n",
    "d"
   ]
  },
  {
   "cell_type": "markdown",
   "id": "da603226",
   "metadata": {},
   "source": [
    "# To choice randomly and to pick same element among the list we use the following code."
   ]
  },
  {
   "cell_type": "code",
   "execution_count": 2,
   "id": "9d10b1a2",
   "metadata": {},
   "outputs": [],
   "source": [
    "import random"
   ]
  },
  {
   "cell_type": "code",
   "execution_count": 5,
   "id": "415e81be",
   "metadata": {},
   "outputs": [
    {
     "data": {
      "text/plain": [
       "['g', 's', 'c']"
      ]
     },
     "execution_count": 5,
     "metadata": {},
     "output_type": "execute_result"
    }
   ],
   "source": [
    "mylist=['a','b','c','d','e','s','f','t','g']\n",
    "e=random.choices(mylist,k=3)# during this, the same element may be picked twise.\n",
    "e"
   ]
  },
  {
   "cell_type": "markdown",
   "id": "3572c7d6",
   "metadata": {},
   "source": [
    "# shuffle method will shuffle the element of mylist(inplace) as folow that means the order(position) in which we have defined before may be changed."
   ]
  },
  {
   "cell_type": "code",
   "execution_count": 8,
   "id": "0683b34f",
   "metadata": {},
   "outputs": [
    {
     "name": "stdout",
     "output_type": "stream",
     "text": [
      "['c', 'f', 'a', 'd', 's', 'e', 'h', 't', 'g']\n"
     ]
    }
   ],
   "source": [
    "mylist = ['a', 'h', 'c', 'd', 'e', 's', 'f', 't', 'g']\n",
    "random.shuffle(mylist)  # Shuffles mylist in place\n",
    "print(mylist)  # mylist is now shuffled"
   ]
  },
  {
   "cell_type": "markdown",
   "id": "240279db",
   "metadata": {},
   "source": [
    "# (B) secrets modules:\n",
    "# used for security purpose and use 3 functions.\n",
    "# for purpose like password,secutity tokens or account authentication things and we need to import it.\n",
    "# and the main disadvantage is it takes more times for these algorithms but they will generate a true random numbers.\n"
   ]
  },
  {
   "cell_type": "code",
   "execution_count": 9,
   "id": "0ade8701",
   "metadata": {},
   "outputs": [],
   "source": [
    "import secrets"
   ]
  },
  {
   "cell_type": "code",
   "execution_count": 13,
   "id": "dc6abdc2",
   "metadata": {},
   "outputs": [
    {
     "data": {
      "text/plain": [
       "5"
      ]
     },
     "execution_count": 13,
     "metadata": {},
     "output_type": "execute_result"
    }
   ],
   "source": [
    "a=secrets.randbelow(10) # 10 is exclusive here.\n",
    "a"
   ]
  },
  {
   "cell_type": "code",
   "execution_count": 26,
   "id": "d27a9271",
   "metadata": {},
   "outputs": [
    {
     "data": {
      "text/plain": [
       "0"
      ]
     },
     "execution_count": 26,
     "metadata": {},
     "output_type": "execute_result"
    }
   ],
   "source": [
    "a=secrets.randbits(4)# will return an integer with k random bits and this has four different random binary values(0 to 15).\n",
    "#1111\n",
    "a"
   ]
  },
  {
   "cell_type": "markdown",
   "id": "a8c5b38a",
   "metadata": {},
   "source": [
    "# (C) numpy modules:\n",
    "# used when we are working with array.\n"
   ]
  },
  {
   "cell_type": "code",
   "execution_count": 27,
   "id": "075216dd",
   "metadata": {},
   "outputs": [],
   "source": [
    "import numpy as np"
   ]
  },
  {
   "cell_type": "code",
   "execution_count": 30,
   "id": "27ce5fe1",
   "metadata": {},
   "outputs": [
    {
     "data": {
      "text/plain": [
       "array([0.00713186, 0.27323565, 0.4605858 ])"
      ]
     },
     "execution_count": 30,
     "metadata": {},
     "output_type": "execute_result"
    }
   ],
   "source": [
    "m=np.random.rand(3)# will produce 1d array with 3 elements\n",
    "m"
   ]
  },
  {
   "cell_type": "markdown",
   "id": "ab5c8fe9",
   "metadata": {},
   "source": [
    "# we can also produce 3*3 array as follow"
   ]
  },
  {
   "cell_type": "code",
   "execution_count": 32,
   "id": "830ed209",
   "metadata": {},
   "outputs": [
    {
     "data": {
      "text/plain": [
       "array([[0.64590963, 0.84416427, 0.08052608],\n",
       "       [0.79777968, 0.78612793, 0.80110321],\n",
       "       [0.34873576, 0.43746883, 0.04891101]])"
      ]
     },
     "execution_count": 32,
     "metadata": {},
     "output_type": "execute_result"
    }
   ],
   "source": [
    "M=np.random.rand(3,3)\n",
    "M"
   ]
  },
  {
   "cell_type": "markdown",
   "id": "7f4d2057",
   "metadata": {},
   "source": [
    "# if we want to create random int with array we use the following."
   ]
  },
  {
   "cell_type": "code",
   "execution_count": 36,
   "id": "8cbcfddd",
   "metadata": {},
   "outputs": [
    {
     "data": {
      "text/plain": [
       "array([2, 2, 4])"
      ]
     },
     "execution_count": 36,
     "metadata": {},
     "output_type": "execute_result"
    }
   ],
   "source": [
    "N=np.random.randint(0,10,3)# will create arry int from 0 to 9 inclusive and with 3 elements. \n",
    "N\n"
   ]
  },
  {
   "cell_type": "markdown",
   "id": "d16390f6",
   "metadata": {},
   "source": [
    "# if we want to have higher dimensions array we have to use tuple as follow."
   ]
  },
  {
   "cell_type": "code",
   "execution_count": 37,
   "id": "234af547",
   "metadata": {},
   "outputs": [
    {
     "data": {
      "text/plain": [
       "array([[7, 6, 7, 5],\n",
       "       [6, 0, 2, 4],\n",
       "       [0, 2, 7, 8]])"
      ]
     },
     "execution_count": 37,
     "metadata": {},
     "output_type": "execute_result"
    }
   ],
   "source": [
    "B=np.random.randint(0,10,(3,4))# will create 3*4 array as follow.\n",
    "B"
   ]
  },
  {
   "cell_type": "markdown",
   "id": "ecfbf191",
   "metadata": {},
   "source": [
    "# (13) Decorators:\n",
    "\n",
    "# Decorators in Python are functions that modify the behavior of other functions or methods. \n",
    "\n",
    "# They allow you to add functionality to existing code without modifying the original function's structure.\n",
    "\n",
    "# Essentially, decorators wrap a function, allowing you to execute code before and after the wrapped function runs, or even replace the function altogether.\n",
    "\n",
    "# are very powerfull tool in python and every advanced pyhton  programmer should know.\n",
    "# there are two different decorators:\n",
    "        # (A)Function decorators and \n",
    "        # (B)class decorators\n",
    "\n"
   ]
  },
  {
   "cell_type": "markdown",
   "id": "a13b1d97",
   "metadata": {},
   "source": [
    "# (A) Function decorator"
   ]
  },
  {
   "cell_type": "code",
   "execution_count": 41,
   "id": "3444b0c7",
   "metadata": {},
   "outputs": [
    {
     "name": "stdout",
     "output_type": "stream",
     "text": [
      "start\n",
      "Marga\n",
      "end\n"
     ]
    }
   ],
   "source": [
    "def start_end_decorator(func):\n",
    "    def wrapper():\n",
    "        print('start')\n",
    "        func()\n",
    "        print('end')\n",
    "    return wrapper\n",
    "def print_name():\n",
    "    print('Marga')\n",
    "print_name=start_end_decorator(print_name)\n",
    "print_name()\n",
    "        \n",
    "        "
   ]
  },
  {
   "cell_type": "markdown",
   "id": "d05f74c9",
   "metadata": {},
   "source": [
    "# the brief definion for the above function:\n",
    "# def start_end_decorator(func):: Defines a function named start_end_decorator that takes another function func as an argument.\n",
    "\n",
    "# def wrapper():: Defines an inner function named wrapper within the start_end_decorator function.\n",
    "\n",
    "# func(): Calls the function func passed as an argument to start_end_decorator.\n",
    "\n",
    "# return wrapper: Returns the wrapper function from start_end_decorator.\n",
    "\n",
    "# def print_name():: Defines a function named print_name.\n",
    "\n",
    "# print_name = start_end_decorator(print_name): Decorates the print_name function by passing it as an argument to start_end_decorator and reassigning the result back to print_name.\n",
    "\n",
    "# print_name(): Calls the decorated print_name function, which now includes the behavior defined in the start_end_decorator."
   ]
  },
  {
   "cell_type": "markdown",
   "id": "010aa940",
   "metadata": {},
   "source": [
    "# when we write the above code by using decorator meaning by leaving the decorator function will do like 'print_name=start_to_end(print_name)' line above . as follow."
   ]
  },
  {
   "cell_type": "code",
   "execution_count": 44,
   "id": "6fe65c63",
   "metadata": {},
   "outputs": [
    {
     "name": "stdout",
     "output_type": "stream",
     "text": [
      "start\n",
      "Marga\n",
      "end\n"
     ]
    }
   ],
   "source": [
    "def start_end_decorator(func):\n",
    "    def wrapper():\n",
    "        print('start')\n",
    "        func()\n",
    "        print('end')\n",
    "    return wrapper\n",
    "@start_end_decorator\n",
    "def print_name():\n",
    "    print('Marga')\n",
    "print_name()"
   ]
  },
  {
   "cell_type": "markdown",
   "id": "ce9bc49a",
   "metadata": {},
   "source": [
    "#  in another way we can write the followin code using decorators\n",
    "."
   ]
  },
  {
   "cell_type": "code",
   "execution_count": 47,
   "id": "db99c5e8",
   "metadata": {},
   "outputs": [
    {
     "name": "stdout",
     "output_type": "stream",
     "text": [
      "start\n",
      "end\n"
     ]
    },
    {
     "data": {
      "text/plain": [
       "15"
      ]
     },
     "execution_count": 47,
     "metadata": {},
     "output_type": "execute_result"
    }
   ],
   "source": [
    "def start_end_decorator(func):\n",
    "    def wrapper(*args,**kargs):# argument and keyword arguments respectively(*args,**args)\n",
    "        print('start')\n",
    "        result=func(*args,**kargs)\n",
    "        print('end')\n",
    "        return result\n",
    "    return wrapper\n",
    "@start_end_decorator\n",
    "def add5(x):\n",
    "    return x+5\n",
    "result=add5(10)\n",
    "result"
   ]
  },
  {
   "cell_type": "markdown",
   "id": "cbbb7fa3",
   "metadata": {},
   "source": [
    "# (B) class decorator: instead of function decorator we can also have class decorator.\n",
    "# class decorator do same thing as function decorator, but they are typically used if we want to maintain and update state.\n"
   ]
  },
  {
   "cell_type": "code",
   "execution_count": 9,
   "id": "2d289b99",
   "metadata": {},
   "outputs": [
    {
     "name": "stdout",
     "output_type": "stream",
     "text": [
      "this is excuted 1 times\n",
      "hello\n",
      "this is excuted 2 times\n",
      "hello\n"
     ]
    }
   ],
   "source": [
    "class countcalls: # counts how many times a function is called\n",
    "    \n",
    "    def __init__ (self,func):\n",
    "        self.func=func\n",
    "        self.num_calls=0\n",
    "    def __call__ (self,*args,**kargs):\n",
    "        self.num_calls+=1\n",
    "        print(f'this is excuted {self.num_calls} times')\n",
    "        return self.func(*args,**kargs)\n",
    "@countcalls\n",
    "def say_hello():\n",
    "    print('hello')\n",
    "say_hello()# excuted 1x (1*)\n",
    "say_hello()# excuted 2x(2*)"
   ]
  },
  {
   "cell_type": "markdown",
   "id": "6a44c3e0",
   "metadata": {},
   "source": [
    "# (@) we can implement:\n",
    "# timer decorator: to calculate excution times of a function.\n",
    "# debug decorator: to print out some more information about the called function and it's arguments.\n",
    "# check decorator:to check if the arguments fulfill some requirement and the depth behaviour accordingly.\n"
   ]
  },
  {
   "cell_type": "markdown",
   "id": "14720cb3",
   "metadata": {},
   "source": [
    "# (14) Generators:\n",
    "# with the decorator we can add information or update the state generators or functions that returns an object that can be iterated over.\n",
    "# they generate the items inside object lazily,which means they generate the items one at a time and only when we ask for it.\n",
    "# they are much more memory efficient than other sequence objects when we have to deal with large dataset.\n",
    "# they are powerfull advanced python technique.\n",
    "# they are defined like normal function,but  they yield keyword rather than(instead) of return keyword."
   ]
  },
  {
   "cell_type": "code",
   "execution_count": 10,
   "id": "ffb0c063",
   "metadata": {},
   "outputs": [
    {
     "name": "stdout",
     "output_type": "stream",
     "text": [
      "<generator object mygenerator at 0x00000173F4D981A0>\n"
     ]
    }
   ],
   "source": [
    "def mygenerator():\n",
    "    yield 1\n",
    "    yield 2\n",
    "    yield 3\n",
    "g=mygenerator()\n",
    "print(g) \n",
    "    "
   ]
  },
  {
   "cell_type": "markdown",
   "id": "18545f91",
   "metadata": {},
   "source": [
    "# The above  will only print that generator object only as shown on the output. but by using for loop we can get multiple yield which is defined under generator function as follow."
   ]
  },
  {
   "cell_type": "code",
   "execution_count": 12,
   "id": "91348bb0",
   "metadata": {},
   "outputs": [
    {
     "name": "stdout",
     "output_type": "stream",
     "text": [
      "1\n",
      "2\n",
      "3\n"
     ]
    }
   ],
   "source": [
    "def mygenerator():\n",
    "    yield 1\n",
    "    yield 2\n",
    "    yield 3\n",
    "g=mygenerator()\n",
    "\n",
    "for i in g:\n",
    "    print(i)"
   ]
  },
  {
   "cell_type": "markdown",
   "id": "a414311a",
   "metadata": {},
   "source": [
    "# By using next function we can also get each value one at a time as follow."
   ]
  },
  {
   "cell_type": "code",
   "execution_count": 14,
   "id": "4794c27f",
   "metadata": {},
   "outputs": [
    {
     "name": "stdout",
     "output_type": "stream",
     "text": [
      "1\n",
      "2\n",
      "3\n"
     ]
    }
   ],
   "source": [
    "def mygenerator():\n",
    "    yield 1\n",
    "    yield 2\n",
    "    yield 3\n",
    "g=mygenerator()\n",
    "value=next(g)# here 1 is excuted(the first line of yield statement)\n",
    "print(value)\n",
    "value=next(g)# here 2 is excuted(the second line of yield statement)\n",
    "print(value)\n",
    "value=next(g)# here 3 is excuted(the third line of yield statement)\n",
    "print(value)"
   ]
  },
  {
   "cell_type": "markdown",
   "id": "605bf145",
   "metadata": {},
   "source": [
    "# The generetor object rise stopiteration when it will reach another yield statement(pass maximum limit). consider the following when we add another print(value) statement."
   ]
  },
  {
   "cell_type": "code",
   "execution_count": 15,
   "id": "e5a1baa3",
   "metadata": {},
   "outputs": [
    {
     "name": "stdout",
     "output_type": "stream",
     "text": [
      "1\n",
      "2\n",
      "3\n"
     ]
    },
    {
     "ename": "StopIteration",
     "evalue": "",
     "output_type": "error",
     "traceback": [
      "\u001b[1;31m---------------------------------------------------------------------------\u001b[0m",
      "\u001b[1;31mStopIteration\u001b[0m                             Traceback (most recent call last)",
      "Cell \u001b[1;32mIn[15], line 12\u001b[0m\n\u001b[0;32m     10\u001b[0m value\u001b[38;5;241m=\u001b[39m\u001b[38;5;28mnext\u001b[39m(g)\u001b[38;5;66;03m# here 3 is excuted(the third line of yield statement)\u001b[39;00m\n\u001b[0;32m     11\u001b[0m \u001b[38;5;28mprint\u001b[39m(value)\n\u001b[1;32m---> 12\u001b[0m value\u001b[38;5;241m=\u001b[39m\u001b[38;5;28mnext\u001b[39m(g)\n\u001b[0;32m     13\u001b[0m \u001b[38;5;28mprint\u001b[39m(value)\n",
      "\u001b[1;31mStopIteration\u001b[0m: "
     ]
    }
   ],
   "source": [
    "def mygenerator():\n",
    "    yield 1\n",
    "    yield 2\n",
    "    yield 3\n",
    "g=mygenerator()\n",
    "value=next(g)# here 1 is excuted(the first line of yield statement)\n",
    "print(value)\n",
    "value=next(g)# here 2 is excuted(the second line of yield statement)\n",
    "print(value)\n",
    "value=next(g)# here 3 is excuted(the third line of yield statement)\n",
    "print(value)\n",
    "value=next(g)\n",
    "print(value)# this rise an error since we have no 4 yield statement under mygenerator function  as follow."
   ]
  },
  {
   "cell_type": "code",
   "execution_count": null,
   "id": "8c3fc600",
   "metadata": {},
   "outputs": [],
   "source": [
    "# we can use generator function as input for another function that take iterables.eg built in function like sum...."
   ]
  },
  {
   "cell_type": "code",
   "execution_count": 16,
   "id": "e68dafd7",
   "metadata": {},
   "outputs": [
    {
     "name": "stdout",
     "output_type": "stream",
     "text": [
      "6\n"
     ]
    }
   ],
   "source": [
    "def mygenerator():\n",
    "    yield 1\n",
    "    yield 2\n",
    "    yield 3\n",
    "g=mygenerator()\n",
    "print(sum(g))# will sum all value of yield function"
   ]
  },
  {
   "cell_type": "markdown",
   "id": "dc16e0ed",
   "metadata": {},
   "source": [
    "# also by using sort function we can rearrange the order if the order is mixed as follow."
   ]
  },
  {
   "cell_type": "code",
   "execution_count": 17,
   "id": "4aa759f7",
   "metadata": {},
   "outputs": [
    {
     "name": "stdout",
     "output_type": "stream",
     "text": [
      "[2, 3, 6]\n"
     ]
    }
   ],
   "source": [
    "def mygenerator():\n",
    "    yield 6\n",
    "    yield 2\n",
    "    yield 3\n",
    "g=mygenerator()\n",
    "print(sorted(g)) # will give sorted value in the form of list as follow."
   ]
  },
  {
   "cell_type": "code",
   "execution_count": 23,
   "id": "bbf6c808",
   "metadata": {},
   "outputs": [
    {
     "name": "stdout",
     "output_type": "stream",
     "text": [
      "4\n",
      "3\n",
      "2\n",
      "1\n"
     ]
    }
   ],
   "source": [
    "def countdown(num):\n",
    "    while num>0:\n",
    "        yield num\n",
    "        num-=1\n",
    "cd=countdown(4)\n",
    "value=next(cd)\n",
    "print(value)\n",
    "print(next(cd))\n",
    "print(next(cd))\n",
    "print(next(cd))\n"
   ]
  },
  {
   "cell_type": "code",
   "execution_count": 31,
   "id": "cac45c6d",
   "metadata": {},
   "outputs": [
    {
     "name": "stdout",
     "output_type": "stream",
     "text": [
      "[0, 1, 2, 3, 4, 5, 6, 7, 8, 9]\n"
     ]
    }
   ],
   "source": [
    "def firstn(n):\n",
    "    nums=[]\n",
    "    num=0 # initializing\n",
    "    while num<n:\n",
    "        nums.append(num)\n",
    "        num+=1\n",
    "    return nums\n",
    "print(firstn(10))\n",
    "        "
   ]
  },
  {
   "cell_type": "code",
   "execution_count": 32,
   "id": "fbaf4204",
   "metadata": {},
   "outputs": [
    {
     "name": "stdout",
     "output_type": "stream",
     "text": [
      "45\n"
     ]
    }
   ],
   "source": [
    "print (sum(firstn(10)))# to get the summation of the all numbers."
   ]
  },
  {
   "cell_type": "markdown",
   "id": "8bcabb47",
   "metadata": {},
   "source": [
    "# since generator are memory efficient we can define the above code using generetor as follow."
   ]
  },
  {
   "cell_type": "code",
   "execution_count": 33,
   "id": "38f400ff",
   "metadata": {},
   "outputs": [
    {
     "data": {
      "text/plain": [
       "<generator object firstn_generator at 0x00000173F4DAD2F0>"
      ]
     },
     "execution_count": 33,
     "metadata": {},
     "output_type": "execute_result"
    }
   ],
   "source": [
    "def firstn_generator(n):\n",
    "    num=0\n",
    "    while num<n:\n",
    "        yield num\n",
    "        num+=1\n",
    "g=firstn_generator(10)\n",
    "g # this will create generator object"
   ]
  },
  {
   "cell_type": "code",
   "execution_count": 34,
   "id": "96045d12",
   "metadata": {},
   "outputs": [
    {
     "name": "stdout",
     "output_type": "stream",
     "text": [
      "0\n",
      "1\n",
      "2\n",
      "3\n",
      "4\n",
      "5\n",
      "6\n",
      "7\n",
      "8\n",
      "9\n"
     ]
    }
   ],
   "source": [
    "def firstn_generator(n):\n",
    "    num=0\n",
    "    while num<n:\n",
    "        yield num\n",
    "        num+=1\n",
    "g=firstn_generator(10)\n",
    "for i in g:\n",
    "    print(i)"
   ]
  },
  {
   "cell_type": "code",
   "execution_count": 35,
   "id": "9a65dd71",
   "metadata": {},
   "outputs": [
    {
     "name": "stdout",
     "output_type": "stream",
     "text": [
      "45\n"
     ]
    }
   ],
   "source": [
    "print(sum(firstn_generator(10)))"
   ]
  },
  {
   "cell_type": "code",
   "execution_count": 36,
   "id": "43329cc9",
   "metadata": {},
   "outputs": [
    {
     "name": "stdout",
     "output_type": "stream",
     "text": [
      "45\n",
      "45\n"
     ]
    }
   ],
   "source": [
    "def firstn(n): # for norml function\n",
    "    nums=[]\n",
    "    num=0 # initializing\n",
    "    while num<n:\n",
    "        nums.append(num)\n",
    "        num+=1\n",
    "    return nums\n",
    "def firstn_generator(n):# for generator function part\n",
    "    num=0\n",
    "    while num<n:\n",
    "        yield num\n",
    "        num+=1\n",
    "print (sum(firstn(10)))\n",
    "print (sum(firstn_generator(10)))\n"
   ]
  },
  {
   "cell_type": "markdown",
   "id": "6123c589",
   "metadata": {},
   "source": [
    "# By importing sys we check the memory efficiency of generetator as follow."
   ]
  },
  {
   "cell_type": "code",
   "execution_count": 37,
   "id": "69c82a58",
   "metadata": {},
   "outputs": [],
   "source": [
    "import sys"
   ]
  },
  {
   "cell_type": "markdown",
   "id": "5388733b",
   "metadata": {},
   "source": [
    "# and giving n=1000000 as follow"
   ]
  },
  {
   "cell_type": "code",
   "execution_count": 43,
   "id": "4d691344",
   "metadata": {},
   "outputs": [
    {
     "name": "stdout",
     "output_type": "stream",
     "text": [
      "8448728\n",
      "200\n"
     ]
    }
   ],
   "source": [
    "import sys\n",
    "def firstn(n): # for norml function\n",
    "    nums=[]\n",
    "    num=0 # initializing\n",
    "    while num<n:\n",
    "        nums.append(num)\n",
    "        num+=1\n",
    "    return nums\n",
    "def firstn_generator(n):# for generator function part\n",
    "    num=0\n",
    "    while num<n:\n",
    "        yield num\n",
    "        num+=1\n",
    "print (sys.getsizeof(firstn(1000000)))# in bytes\n",
    "print (sys.getsizeof(firstn_generator(1000000)))# in bytes\n"
   ]
  },
  {
   "cell_type": "markdown",
   "id": "0d7baf54",
   "metadata": {},
   "source": [
    "# fibonacci sequence in generator which will take limit as argument in which the number following is the sum of the two previous input as follow."
   ]
  },
  {
   "cell_type": "code",
   "execution_count": 44,
   "id": "39d34a23",
   "metadata": {},
   "outputs": [
    {
     "name": "stdout",
     "output_type": "stream",
     "text": [
      "0\n",
      "1\n",
      "1\n",
      "2\n",
      "3\n",
      "5\n",
      "8\n",
      "13\n",
      "21\n"
     ]
    }
   ],
   "source": [
    "def fibonacci(limit):\n",
    "    # 0 1 1 2 3 8 13 ... to impelement this as generator we have to store the first two values as follow.\n",
    "    a,b=0,1\n",
    "    while a<limit:\n",
    "        yield a\n",
    "        a,b=b,a+b # this is all impelemantation of fibonacci sequence in generator\n",
    "fb=fibonacci(30)# this will create fibonacci number upto 30.\n",
    "# using for loop as follow we create the fibonacci number\n",
    "for i in fb:\n",
    "    print(i)\n",
    "    "
   ]
  },
  {
   "cell_type": "markdown",
   "id": "1dfd60e8",
   "metadata": {},
   "source": [
    "# for more knowledge"
   ]
  },
  {
   "cell_type": "code",
   "execution_count": 48,
   "id": "e308c6c4",
   "metadata": {},
   "outputs": [
    {
     "name": "stdout",
     "output_type": "stream",
     "text": [
      "<generator object <genexpr> at 0x00000173F409C5F0>\n"
     ]
    }
   ],
   "source": [
    "mygenerator=(i for i in range(10) if i%2==0)\n",
    "print(mygenerator) # this will create object of generator class"
   ]
  },
  {
   "cell_type": "markdown",
   "id": "dba360c9",
   "metadata": {},
   "source": [
    "# using for loop we can get the elements one by one as follow."
   ]
  },
  {
   "cell_type": "code",
   "execution_count": 49,
   "id": "96e0d49a",
   "metadata": {},
   "outputs": [
    {
     "name": "stdout",
     "output_type": "stream",
     "text": [
      "0\n",
      "2\n",
      "4\n",
      "6\n",
      "8\n"
     ]
    }
   ],
   "source": [
    "for i in mygenerator:\n",
    "    print(i)"
   ]
  },
  {
   "cell_type": "markdown",
   "id": "575aad2a",
   "metadata": {},
   "source": [
    "# But for list the code may be differ by square bracket as follow."
   ]
  },
  {
   "cell_type": "code",
   "execution_count": 51,
   "id": "99a03695",
   "metadata": {},
   "outputs": [
    {
     "name": "stdout",
     "output_type": "stream",
     "text": [
      "[0, 2, 4, 6, 8]\n"
     ]
    }
   ],
   "source": [
    "mygenerator=[i for i in range(10) if i%2==0]\n",
    "print(mygenerator) # will give the list of number untill 10 which are divisible by 2 as follow."
   ]
  },
  {
   "cell_type": "markdown",
   "id": "aa1c030a",
   "metadata": {},
   "source": [
    "# (15) THREADING VS MULTIPROCESSING:\n",
    "# By using this two(threading and multiprocessing) we can run the code in parallel and speed up our code.\n",
    "# In yhis tutorial:\n",
    "        # (A) what is the difference between process and threat\n",
    "        # (B) advantage and disadvantage of both\n",
    "        # (C) how thread are limited by Gil and how we can easily use the built in threading and multiprocessing module to create and run multiple threads or processes."
   ]
  },
  {
   "cell_type": "markdown",
   "id": "f76be97e",
   "metadata": {},
   "source": [
    "# (A) what is the difference between process and threat"
   ]
  },
  {
   "cell_type": "markdown",
   "id": "d058d183",
   "metadata": {},
   "source": [
    "# Process is an instance of the program. for example if i'm running one firefox browser,this is one process,if i'm running one python interpreter this one process.\n",
    "# threat on the other  hand is an entity within a process .\n",
    "# so a process can have multiple threads inside processes take advantage of multiple cpus and cores, so we can excute our code on multiple cpus and paralles processes have separate memory space.\n",
    "# so memory is not shared,but between processes and they are great for cpu bound processing."
   ]
  },
  {
   "cell_type": "markdown",
   "id": "99734d2e",
   "metadata": {},
   "source": [
    "# In summary:\n",
    "# A process is an independent instance of a program running on a computer. Each process has its own memory space, resources, and state\n",
    "#  In Python, we can create and manage processes using the 'multiprocessing' module.\n",
    "# Thread: A thread is the smallest unit of execution within a process. Threads share the same memory space and resources as their parent process and are lightweight compared to processes.\n",
    "#  In Python, we can create and manage threads using the 'threading' module."
   ]
  },
  {
   "cell_type": "markdown",
   "id": "2e323e5a",
   "metadata": {},
   "source": [
    "# in general:\n",
    "#  processes are independent instances of programs with their own memory space, while threads are lightweight units of execution within a process that share the same memory space."
   ]
  },
  {
   "cell_type": "markdown",
   "id": "adf4ba3e",
   "metadata": {},
   "source": [
    "# (B) Advantage and disadvantage process and threads:"
   ]
  },
  {
   "cell_type": "markdown",
   "id": "4789495f",
   "metadata": {},
   "source": [
    "# (1) Advantage of process:\n",
    "# (A)Isolation: Processes have separate memory spaces, so they provide strong isolation between tasks. This isolation prevents one process from affecting the execution of another process.\n",
    "# (B)Robustness: Since each process has its own memory space, if one process crashes, it doesn't affect the others. This makes processes more robust in handling failures.\n",
    "# (C)Scalability: Processes can take advantage of multi-core CPUs more effectively, as they can run in parallel across different CPU cores."
   ]
  },
  {
   "cell_type": "markdown",
   "id": "024144e3",
   "metadata": {},
   "source": [
    "# (2) Disadvantage of process:\n",
    "# (A) Resource Intensive: Processes are heavyweight entities compared to threads. Creating and managing processes requires more system resources, such as memory and CPU time.\n",
    "# (B) Communication Overhead: Inter-process communication (IPC) can be more complex and less efficient compared to inter-thread communication. Processes often need to use mechanisms like pipes, queues, or shared memory, which introduce additional overhead.\n",
    "\n"
   ]
  },
  {
   "cell_type": "markdown",
   "id": "ad67877e",
   "metadata": {},
   "source": [
    "# (2) Advantage of threads:\n",
    "# (A) Lightweight: Threads are lightweight compared to processes. Creating and managing threads requires fewer system resources, making them more suitable for tasks that require frequent switching or sharing of resources.\n",
    "# (B) Fast Communication: Threads within the same process can communicate more efficiently through shared memory, as they share the same memory space.\n",
    "# (C) Concurrency: Threads allow for concurrent execution within the same process, enabling tasks to be performed simultaneously.\n"
   ]
  },
  {
   "cell_type": "markdown",
   "id": "603a2f46",
   "metadata": {},
   "source": [
    "# (# ) Disadvantage of threads:\n",
    "# (A) Lack of Isolation: Since threads within the same process share the same memory space, one thread can inadvertently modify data or interfere with the execution of other threads, leading to race conditions and other concurrency issues.\n",
    "# Difficulty in Debugging: Debugging multithreaded programs can be more complex due to the potential for race conditions and non-deterministic behavior.\n",
    "# (c) Global Interpreter Lock (GIL): In CPython, the Global Interpreter Lock restricts execution to a single thread at a time, limiting the potential performance benefits of using multiple threads for CPU-bound tasks."
   ]
  },
  {
   "cell_type": "markdown",
   "id": "10d925b9",
   "metadata": {},
   "source": [
    "# GIL:a lock that allows only one thread at a time to excute in python.\n"
   ]
  },
  {
   "cell_type": "code",
   "execution_count": 67,
   "id": "dc4f87e3",
   "metadata": {},
   "outputs": [
    {
     "name": "stdout",
     "output_type": "stream",
     "text": [
      "end main\n"
     ]
    }
   ],
   "source": [
    "import os\n",
    "import time\n",
    "from multiprocessing import Process\n",
    "\n",
    "def square_numbers():\n",
    "    for i in range(100):\n",
    "        i * i\n",
    "        time.sleep(0.1)# indicate the time it takes(0.1 sec) to excute the next program(task/process).\n",
    "\n",
    "processes = []\n",
    "num_processes = os.cpu_count()\n",
    "\n",
    "# create a process\n",
    "for _ in range(num_processes):\n",
    "    p = Process(target=square_numbers)  # Use Process instead of process\n",
    "    processes.append(p)\n",
    "\n",
    "# start the process\n",
    "for p in processes:\n",
    "    p.start()\n",
    "\n",
    "# join the process\n",
    "for p in processes:\n",
    "    p.join()\n",
    "\n",
    "print('end main')"
   ]
  },
  {
   "cell_type": "code",
   "execution_count": null,
   "id": "1a57b55d",
   "metadata": {},
   "outputs": [],
   "source": [
    "# to check how many proccess is excuted whe can modify our code as follow.(from chatGPT)"
   ]
  },
  {
   "cell_type": "code",
   "execution_count": 66,
   "id": "3c8d7d4b",
   "metadata": {},
   "outputs": [
    {
     "name": "stdout",
     "output_type": "stream",
     "text": [
      "Number of tasks running: 8\n",
      "end main\n"
     ]
    }
   ],
   "source": [
    "import os\n",
    "import time\n",
    "from multiprocessing import Process, active_children\n",
    "\n",
    "def square_numbers():\n",
    "    for i in range(100):\n",
    "        i * i\n",
    "        print(f\"Task {os.getpid()} is running\")# pid=proccess id \n",
    "        time.sleep(0.1)\n",
    "\n",
    "processes = []\n",
    "num_processes = os.cpu_count()\n",
    "\n",
    "# create a process\n",
    "for _ in range(num_processes):\n",
    "    p = Process(target=square_numbers)\n",
    "    processes.append(p)\n",
    "\n",
    "# start the process\n",
    "for p in processes:\n",
    "    p.start()\n",
    "\n",
    "# Check active processes\n",
    "while active_children():\n",
    "    print(f\"Number of tasks running: {len(active_children())}\")\n",
    "    time.sleep(1)\n",
    "\n",
    "print('end main')"
   ]
  },
  {
   "cell_type": "markdown",
   "id": "dfef5c50",
   "metadata": {},
   "source": [
    "# How i will check the whole process of this code??? read more...."
   ]
  },
  {
   "cell_type": "markdown",
   "id": "dc9ad20b",
   "metadata": {},
   "source": [
    "#  for multithreading:"
   ]
  },
  {
   "cell_type": "code",
   "execution_count": 72,
   "id": "20eb3797",
   "metadata": {},
   "outputs": [
    {
     "name": "stdout",
     "output_type": "stream",
     "text": [
      "end main\n"
     ]
    }
   ],
   "source": [
    "import os\n",
    "import time\n",
    "from threading import Thread\n",
    "\n",
    "def square_numbers():\n",
    "    for i in range(100):\n",
    "        i * i\n",
    "        time.sleep(0.1)# indicate the time it takes(0.1 sec) to excute the next program(task/process).\n",
    "\n",
    "threads = []\n",
    "num_threads = 10 # 10 different threads\n",
    "# create a threads\n",
    "for _ in range(num_threads): \n",
    "    t = Thread(target=square_numbers)# this is a function which will excuted by our thread(callable function).  \n",
    "    threads.append(t)\n",
    "\n",
    "# start the threads\n",
    "for t in threads:\n",
    "    t.start()\n",
    "\n",
    "# join the threads\n",
    "for t in threads:\n",
    "    t.join()# join means we wait and block the main threat until the threat is complete.\n",
    "\n",
    "print('end main')"
   ]
  },
  {
   "cell_type": "code",
   "execution_count": 5,
   "id": "9f9cacdc",
   "metadata": {},
   "outputs": [
    {
     "name": "stdout",
     "output_type": "stream",
     "text": [
      "enter the number between 1 and 10:11\n",
      "invalid input\n"
     ]
    }
   ],
   "source": [
    "number=int(input('enter the number between 1 and 10:'))\n",
    "if 1<= number <=10:\n",
    "    print(f'you entered {number}')\n",
    "else:\n",
    "    print('invalid input')"
   ]
  },
  {
   "cell_type": "code",
   "execution_count": 3,
   "id": "7ca89aa9",
   "metadata": {},
   "outputs": [
    {
     "name": "stdout",
     "output_type": "stream",
     "text": [
      "Enter the number between 1 and 10: 7\n",
      "You entered 7\n"
     ]
    }
   ],
   "source": [
    "try:\n",
    "    number = int(input('Enter the number between 1 and 10: '))\n",
    "    if 1 <= number <= 10:\n",
    "        print(f'You entered {number}')\n",
    "    else:\n",
    "        print('Invalid input')\n",
    "except ValueError:\n",
    "    print('Please enter a valid integer.')"
   ]
  },
  {
   "cell_type": "markdown",
   "id": "7953f8b5",
   "metadata": {},
   "source": [
    "# (15) Function Arguments:"
   ]
  },
  {
   "cell_type": "markdown",
   "id": "b7803b38",
   "metadata": {},
   "source": [
    "# Topics that will be covered under this subtopic is as follow:\n",
    "    # (A) Different between arguments and parameters\n",
    "    # (B) Positional and keyword arguments\n",
    "    # (C) Default arguments\n",
    "    # (D) Variables_length of arguments(*args and **args)\n",
    "    # (E) container unpacking into Function arguments\n",
    "    # (F) local vs. global arguments(inside function)\n",
    "    # (F) parameters passing( by value or by reference)\n"
   ]
  },
  {
   "cell_type": "markdown",
   "id": "c4564447",
   "metadata": {},
   "source": [
    "# (A) Different between arguments and parameters:\n"
   ]
  },
  {
   "cell_type": "markdown",
   "id": "0694ae58",
   "metadata": {},
   "source": [
    "# Parameters: are the variables that are defined or used inside parentheses during function defining.\n",
    "# Arguments: are value passed for these parameters while calling a function.\n"
   ]
  },
  {
   "cell_type": "code",
   "execution_count": 6,
   "id": "3607c25e",
   "metadata": {},
   "outputs": [
    {
     "name": "stdout",
     "output_type": "stream",
     "text": [
      "Marga\n"
     ]
    }
   ],
   "source": [
    "def print_name(name): # here name in the parantheses is parameter.\n",
    "    print(name)\n",
    "print_name(\"Marga\")# the string name(\"Marga\") which is passed here, when we call the function is argument."
   ]
  },
  {
   "cell_type": "markdown",
   "id": "43704efe",
   "metadata": {},
   "source": [
    "# (B) Positional and keyword arguments:"
   ]
  },
  {
   "cell_type": "markdown",
   "id": "20bb5466",
   "metadata": {},
   "source": [
    "# We can pass arguments as positional or keyword argument. "
   ]
  },
  {
   "cell_type": "markdown",
   "id": "5d321268",
   "metadata": {},
   "source": [
    "# Positional arguments: consider the following function, we passed the value for each parameter sequentially as the function definition. that means the first value(argument) belongs to the first parameter,the second argument belongs to the second parameter and so on."
   ]
  },
  {
   "cell_type": "code",
   "execution_count": 7,
   "id": "e4bafdb0",
   "metadata": {},
   "outputs": [
    {
     "name": "stdout",
     "output_type": "stream",
     "text": [
      "2 3 4\n"
     ]
    }
   ],
   "source": [
    "def foo(a,b,c): \n",
    "    print(a,b,c)\n",
    "foo(2,3,4) # positional arguments."
   ]
  },
  {
   "cell_type": "markdown",
   "id": "37bfe122",
   "metadata": {},
   "source": [
    "# Keyword Arguments: when we pass the arguments with respective value for parameter which defined during function definition and the order is not important during this time. consider the following function.\n"
   ]
  },
  {
   "cell_type": "code",
   "execution_count": 8,
   "id": "870c6450",
   "metadata": {},
   "outputs": [
    {
     "name": "stdout",
     "output_type": "stream",
     "text": [
      "5 7 2\n"
     ]
    }
   ],
   "source": [
    "def foo(a,b,c):\n",
    "    print(a,b,c)\n",
    "foo(a=5,b=7,c=2) # keyword arguments."
   ]
  },
  {
   "cell_type": "markdown",
   "id": "8a1e69b8",
   "metadata": {},
   "source": [
    "# since the order is not important in this case we can write the above code as follow, by changing the order."
   ]
  },
  {
   "cell_type": "code",
   "execution_count": 9,
   "id": "a70cdee8",
   "metadata": {},
   "outputs": [
    {
     "name": "stdout",
     "output_type": "stream",
     "text": [
      "5 7 2\n"
     ]
    }
   ],
   "source": [
    "def foo(a,b,c):\n",
    "    print(a,b,c)\n",
    "foo(b=7,c=2,a=5) # keyword arguments."
   ]
  },
  {
   "cell_type": "markdown",
   "id": "7d1e250f",
   "metadata": {},
   "source": [
    "# When can use both positional arguments and keyword arguments as follow.that means positional argument followed by keyword arguments(sequence).but impossible keyword arguments followed by positional arguments. consider the following code(function).¶\n"
   ]
  },
  {
   "cell_type": "code",
   "execution_count": 13,
   "id": "4692e500",
   "metadata": {},
   "outputs": [
    {
     "name": "stdout",
     "output_type": "stream",
     "text": [
      "4 6 9\n"
     ]
    }
   ],
   "source": [
    "def foo(a,b,c):\n",
    "    print(a,b,c)\n",
    "foo(4,b=6,c=9)"
   ]
  },
  {
   "cell_type": "markdown",
   "id": "29c44015",
   "metadata": {},
   "source": [
    "# NB: it is impossible to use positional argument after keyword arguments."
   ]
  },
  {
   "cell_type": "markdown",
   "id": "81bc3aae",
   "metadata": {},
   "source": [
    "# It is recommended to use keyword argument because it makes more clear or we can rearrange the argument in a way that makes the most readable."
   ]
  },
  {
   "cell_type": "markdown",
   "id": "25832cb0",
   "metadata": {},
   "source": [
    "# (C) Default arguments:"
   ]
  },
  {
   "cell_type": "markdown",
   "id": "c343efe1",
   "metadata": {},
   "source": [
    "# Is if the value for the parameter during function definition is given. and we can also pass another value during function calling.consider the following function.¶"
   ]
  },
  {
   "cell_type": "markdown",
   "id": "342bbfd8",
   "metadata": {},
   "source": [
    "# Default argument: must be at the end of our function parameter.¶"
   ]
  },
  {
   "cell_type": "code",
   "execution_count": 14,
   "id": "a8c69d1a",
   "metadata": {},
   "outputs": [
    {
     "name": "stdout",
     "output_type": "stream",
     "text": [
      "1 2 3 10\n"
     ]
    }
   ],
   "source": [
    "def foo(a,b,c,d=10): # here d=10 is considerd as default argument.\n",
    "    print(a,b,c,d)\n",
    "foo(1,2,3)"
   ]
  },
  {
   "cell_type": "markdown",
   "id": "82f76624",
   "metadata": {},
   "source": [
    "# passing another value after default argument during function calling.¶"
   ]
  },
  {
   "cell_type": "code",
   "execution_count": 15,
   "id": "3c8de685",
   "metadata": {},
   "outputs": [
    {
     "name": "stdout",
     "output_type": "stream",
     "text": [
      "1 2 3 7\n"
     ]
    }
   ],
   "source": [
    "def foo(a,b,c,d=10): # hhere d=10 is considerd as default argument.\n",
    "    print(a,b,c,d)\n",
    "foo(1,2,3,7) # but here it will take the value d=7 by dropping value 10."
   ]
  },
  {
   "cell_type": "code",
   "execution_count": 20,
   "id": "369ebc0e",
   "metadata": {},
   "outputs": [
    {
     "name": "stdout",
     "output_type": "stream",
     "text": [
      "1 2 3 10\n"
     ]
    }
   ],
   "source": [
    "def foo(a,b,c,d=10): # hhere d=10 is considerd as default argument and no need of passing as argument during function calling.\n",
    "    print(a,b,c,d)\n",
    "foo(1,2,3)"
   ]
  },
  {
   "cell_type": "markdown",
   "id": "1db00414",
   "metadata": {},
   "source": [
    "# (D) Variables_length of arguments(*args and **args):"
   ]
  },
  {
   "cell_type": "markdown",
   "id": "89d2d903",
   "metadata": {},
   "source": [
    "# sometimes if we mark parameter with one asterisk or one star(*args),then we can pass any number of positional arguments to our function.\n",
    "\n",
    "# And  if we mark our parameter with two stars(**args), then we can pass any number of keyword arguments to this function. \n",
    "# And they are called arcs and quarks respectively,but we can name it as we want.consider the folowing example.\n"
   ]
  },
  {
   "cell_type": "code",
   "execution_count": 22,
   "id": "c0c74370",
   "metadata": {},
   "outputs": [
    {
     "name": "stdout",
     "output_type": "stream",
     "text": [
      "2 3\n",
      "3\n",
      "4\n",
      "5\n",
      "six 6\n",
      "seven 7\n",
      "eight 8\n"
     ]
    }
   ],
   "source": [
    "def foo(a,b,*args,**kargs):\n",
    "    print(a,b)\n",
    "    for arg in args: # looping for *args(arcs)\n",
    "        print(arg)\n",
    "    for key in kargs: # looping for **args (this is a dictionary).(quarks)\n",
    "        print(key,kargs[key])\n",
    "foo(2,3,3,4,5,six=6,seven=7,eight=8)\n",
    "        "
   ]
  },
  {
   "cell_type": "markdown",
   "id": "8ae84033",
   "metadata": {},
   "source": [
    "#(NB) In above function:\n",
    "# (A) 2,3: is positional argument for a,b respectively.\n",
    "# (B) 3,4,5 are arcs for *args arguments\n",
    "# (C) six=6,seven=7,eight=8 are quarks (**args) argument."
   ]
  },
  {
   "cell_type": "markdown",
   "id": "4ebe8a93",
   "metadata": {},
   "source": [
    "# if we need only * args or **args we can write the above function as follow. during calling function, we only pass the argument we interest(we need ).consider the following."
   ]
  },
  {
   "cell_type": "code",
   "execution_count": 24,
   "id": "224edd06",
   "metadata": {},
   "outputs": [
    {
     "name": "stdout",
     "output_type": "stream",
     "text": [
      "5 6\n",
      "7\n",
      "9\n",
      "8\n"
     ]
    }
   ],
   "source": [
    "def marga(a,b,*args,**kargs):\n",
    "    print(a,b)\n",
    "    for arg in args:\n",
    "        print(arg)\n",
    "    for key in kargs:\n",
    "        print(key,kargs[key])\n",
    "marga(5,6,7,9,8)"
   ]
  },
  {
   "cell_type": "markdown",
   "id": "214ac8cd",
   "metadata": {},
   "source": [
    "# In above case we have no value for **kargs, unless for positional arguments and *args."
   ]
  },
  {
   "cell_type": "markdown",
   "id": "738f27d3",
   "metadata": {},
   "source": [
    "# if we want to pass for **kargs we can rewrite as follow."
   ]
  },
  {
   "cell_type": "code",
   "execution_count": 25,
   "id": "e2955fc6",
   "metadata": {},
   "outputs": [
    {
     "name": "stdout",
     "output_type": "stream",
     "text": [
      "6 7\n",
      "five 5\n",
      "ten 10\n",
      "eleven 45\n"
     ]
    }
   ],
   "source": [
    "def Eng_marga(a,b,*args,**kargs):\n",
    "    print(a,b)\n",
    "    for arg in args:\n",
    "        print(arg)\n",
    "    for key in kargs:\n",
    "        print(key,kargs[key])\n",
    "Eng_marga(6,7,five=5,ten=10,eleven=45)\n"
   ]
  },
  {
   "cell_type": "markdown",
   "id": "9af250da",
   "metadata": {},
   "source": [
    "# (E) container unpacking into Function arguments:"
   ]
  },
  {
   "cell_type": "markdown",
   "id": "2e9c4312",
   "metadata": {},
   "source": [
    "#  Refers to the process of extracting elements from iterables like lists, tuples, or dictionaries into separate variables, making it easier to work with the data they contain."
   ]
  },
  {
   "cell_type": "code",
   "execution_count": 28,
   "id": "9f44a000",
   "metadata": {},
   "outputs": [
    {
     "name": "stdout",
     "output_type": "stream",
     "text": [
      "4 6 8\n"
     ]
    }
   ],
   "source": [
    "def London(a,b,c):\n",
    "    print(a,b,c)\n",
    "my_list=[4,6,8]\n",
    "London(*my_list) # arcs(star) to assign for each parameter."
   ]
  },
  {
   "cell_type": "markdown",
   "id": "ca669937",
   "metadata": {},
   "source": [
    "# in above case the lengh of our container(my_list in above case) must be matched the number of parameter."
   ]
  },
  {
   "cell_type": "markdown",
   "id": "9ba82f1c",
   "metadata": {},
   "source": [
    "# it also work with tuples as follow."
   ]
  },
  {
   "cell_type": "code",
   "execution_count": 29,
   "id": "10ba5be1",
   "metadata": {},
   "outputs": [
    {
     "name": "stdout",
     "output_type": "stream",
     "text": [
      "4 6 9\n"
     ]
    }
   ],
   "source": [
    "def italy(a,b,d):\n",
    "    print(a,b,d)\n",
    "my_tuple=(4,6,9)\n",
    "italy(*my_tuple)"
   ]
  },
  {
   "cell_type": "code",
   "execution_count": 30,
   "id": "135f6181",
   "metadata": {},
   "outputs": [
    {
     "ename": "TypeError",
     "evalue": "Value after * must be an iterable, not int",
     "output_type": "error",
     "traceback": [
      "\u001b[1;31m---------------------------------------------------------------------------\u001b[0m",
      "\u001b[1;31mTypeError\u001b[0m                                 Traceback (most recent call last)",
      "Cell \u001b[1;32mIn[30], line 4\u001b[0m\n\u001b[0;32m      2\u001b[0m     \u001b[38;5;28mprint\u001b[39m(a,b,d)\n\u001b[0;32m      3\u001b[0m a,b,d\u001b[38;5;241m=\u001b[39m(\u001b[38;5;241m4\u001b[39m,\u001b[38;5;241m6\u001b[39m,\u001b[38;5;241m9\u001b[39m)\n\u001b[1;32m----> 4\u001b[0m italy(\u001b[38;5;241m*\u001b[39ma,b,d)\n",
      "\u001b[1;31mTypeError\u001b[0m: Value after * must be an iterable, not int"
     ]
    }
   ],
   "source": [
    "def italy(a,b,d):\n",
    "    print(a,b,d)\n",
    "a,b,d=(4,6,9)\n",
    "italy(*a,b,d)"
   ]
  },
  {
   "cell_type": "markdown",
   "id": "516dd5b2",
   "metadata": {},
   "source": [
    "# NB:in above case when we say the value after * must be an iterable,it is indicating that it should be list or tuple or dictionary.\n"
   ]
  },
  {
   "cell_type": "markdown",
   "id": "be7b4723",
   "metadata": {},
   "source": [
    "# for dictionary also works as follow. but during this time remember that it must have a key with same name with our parameter given as follow.\n",
    "# and also pass( **kargs) during  calling function as follow."
   ]
  },
  {
   "cell_type": "code",
   "execution_count": 33,
   "id": "c0a8c28a",
   "metadata": {},
   "outputs": [
    {
     "name": "stdout",
     "output_type": "stream",
     "text": [
      "6 9 Eng.Marga\n"
     ]
    }
   ],
   "source": [
    "def hy(a,b,c):# here the name of parameters are: a,b,c\n",
    "    print(a,b,c)\n",
    "my_dict={'a':6,'b':9,'c':\"Eng.Marga\"}# here the name of keys are the same with parameters i'e a,b,c.\n",
    "hy(**my_dict) "
   ]
  },
  {
   "cell_type": "markdown",
   "id": "99dee293",
   "metadata": {},
   "source": [
    "# The above all about is how we will quickly unpack our function arguments with list,tuples and dictionary."
   ]
  },
  {
   "cell_type": "markdown",
   "id": "b1c0eb0b",
   "metadata": {},
   "source": [
    "# (F) local vs. global arguments(inside function):"
   ]
  },
  {
   "cell_type": "markdown",
   "id": "b6141933",
   "metadata": {},
   "source": [
    "# In Python:\n",
    "# A local variable: is defined within a specific scope, such as within a function, and is only accessible within that scope.\n",
    "# B On the other hand, a global variable: is defined outside of any function and can be accessed from any part of the code."
   ]
  },
  {
   "cell_type": "code",
   "execution_count": 34,
   "id": "490210b6",
   "metadata": {},
   "outputs": [
    {
     "name": "stdout",
     "output_type": "stream",
     "text": [
      "the number inside function is: 0\n",
      "3\n"
     ]
    }
   ],
   "source": [
    "def foo():\n",
    "    global number\n",
    "    x=number\n",
    "    number=3\n",
    "    print('the number inside function is:',x)\n",
    "number=0\n",
    "foo()\n",
    "print(number)"
   ]
  },
  {
   "cell_type": "markdown",
   "id": "b93e109a",
   "metadata": {},
   "source": [
    "# or we can write as follow."
   ]
  },
  {
   "cell_type": "code",
   "execution_count": 35,
   "id": "95fdd770",
   "metadata": {},
   "outputs": [
    {
     "name": "stdout",
     "output_type": "stream",
     "text": [
      "3\n"
     ]
    }
   ],
   "source": [
    "def foo():\n",
    "    global number\n",
    "    number=3\n",
    "number=0\n",
    "foo()\n",
    "print(number) # here only global variable is excuted."
   ]
  },
  {
   "cell_type": "code",
   "execution_count": 36,
   "id": "1a9cfb56",
   "metadata": {},
   "outputs": [
    {
     "name": "stdout",
     "output_type": "stream",
     "text": [
      "the number inside function is: 0\n",
      "0\n"
     ]
    }
   ],
   "source": [
    "def foo():\n",
    "    x=number\n",
    "    print('the number inside function is:',x)\n",
    "number=0\n",
    "foo()\n",
    "print(number)# here local variable will be excuted."
   ]
  },
  {
   "cell_type": "markdown",
   "id": "e3115fcf",
   "metadata": {},
   "source": [
    "# Nb: immutable object can be  modified by a function.consider the following function."
   ]
  },
  {
   "cell_type": "code",
   "execution_count": 1,
   "id": "35813094",
   "metadata": {},
   "outputs": [
    {
     "name": "stdout",
     "output_type": "stream",
     "text": [
      "[2, 3, 5, 4]\n"
     ]
    }
   ],
   "source": [
    "def foo(a_list):\n",
    "    a_list.append(4)\n",
    "a_list=[2,3,5]\n",
    "foo(a_list)\n",
    "print(a_list)"
   ]
  },
  {
   "cell_type": "markdown",
   "id": "fe83e069",
   "metadata": {},
   "source": [
    "# Also immutable object within mutable can be changed,so that immutable integers within the following list can be changed.consider the folowing when we access and replace with some other vaue for index[0]."
   ]
  },
  {
   "cell_type": "code",
   "execution_count": 2,
   "id": "953ec2c6",
   "metadata": {},
   "outputs": [
    {
     "name": "stdout",
     "output_type": "stream",
     "text": [
      "[100, 3, 5, 4]\n"
     ]
    }
   ],
   "source": [
    "def Eng_Marga(a_list):\n",
    "    a_list.append(4)\n",
    "    a_list[0]=100 # here we are assigning another value for index 0.\n",
    "a_list=[2,3,5] # this is the global list.\n",
    "Eng_Marga(a_list)\n",
    "print(a_list)"
   ]
  },
  {
   "cell_type": "markdown",
   "id": "188114f2",
   "metadata": {},
   "source": [
    "# (16) Asterisk Operator:"
   ]
  },
  {
   "cell_type": "markdown",
   "id": "a4c3e7de",
   "metadata": {},
   "source": [
    "# Also called star sign in python.\n",
    "# used in different case like:\n",
    "        # Multiplication\n",
    "        # Power operations\n",
    "        # The creation of list and tuples with repeated element\n",
    "        # for arts quarks and keyword only parameters for unpacking lists,tuples or dictionaries into function arguments,\n",
    "        # for unpacking containers and for merging containers into a list or merging two dictionaries."
   ]
  },
  {
   "cell_type": "markdown",
   "id": "6cef8318",
   "metadata": {},
   "source": [
    "# Multiplication:"
   ]
  },
  {
   "cell_type": "code",
   "execution_count": 3,
   "id": "52e01fb7",
   "metadata": {},
   "outputs": [
    {
     "data": {
      "text/plain": [
       "48"
      ]
     },
     "execution_count": 3,
     "metadata": {},
     "output_type": "execute_result"
    }
   ],
   "source": [
    "result=6*8 # one star multiplication operator\n",
    "result\n"
   ]
  },
  {
   "cell_type": "markdown",
   "id": "4a131595",
   "metadata": {},
   "source": [
    "# power operation:"
   ]
  },
  {
   "cell_type": "code",
   "execution_count": 4,
   "id": "9e0c490f",
   "metadata": {},
   "outputs": [
    {
     "data": {
      "text/plain": [
       "16"
      ]
     },
     "execution_count": 4,
     "metadata": {},
     "output_type": "execute_result"
    }
   ],
   "source": [
    "result=2**4 # two stars powwer operations.\n",
    "result"
   ]
  },
  {
   "cell_type": "markdown",
   "id": "270a7bbe",
   "metadata": {},
   "source": [
    "# creation of list,tuples with repeated elements:"
   ]
  },
  {
   "cell_type": "code",
   "execution_count": 5,
   "id": "ae67e9d6",
   "metadata": {},
   "outputs": [
    {
     "data": {
      "text/plain": [
       "[0, 0, 0, 0, 0]"
      ]
     },
     "execution_count": 5,
     "metadata": {},
     "output_type": "execute_result"
    }
   ],
   "source": [
    "zero=[0]*5  # this will create a five element with each element with zero value.\n",
    "zero"
   ]
  },
  {
   "cell_type": "markdown",
   "id": "dd568898",
   "metadata": {},
   "source": [
    "# also we can write as follow.creation of list with element 0 ansd 1."
   ]
  },
  {
   "cell_type": "code",
   "execution_count": 6,
   "id": "fbeb9d70",
   "metadata": {},
   "outputs": [
    {
     "data": {
      "text/plain": [
       "[0, 1, 0, 1, 0, 1, 0, 1, 0, 1]"
      ]
     },
     "execution_count": 6,
     "metadata": {},
     "output_type": "execute_result"
    }
   ],
   "source": [
    "L=[0,1]*5\n",
    "L"
   ]
  },
  {
   "cell_type": "code",
   "execution_count": 7,
   "id": "77882b68",
   "metadata": {},
   "outputs": [
    {
     "data": {
      "text/plain": [
       "[7, 8, 7, 8, 7, 8, 7, 8]"
      ]
     },
     "execution_count": 7,
     "metadata": {},
     "output_type": "execute_result"
    }
   ],
   "source": [
    "l=[7,8]*4\n",
    "l"
   ]
  },
  {
   "cell_type": "markdown",
   "id": "8934d7dd",
   "metadata": {},
   "source": [
    "# We can also use tuple as follow."
   ]
  },
  {
   "cell_type": "code",
   "execution_count": 9,
   "id": "5c21ae2a",
   "metadata": {},
   "outputs": [
    {
     "data": {
      "text/plain": [
       "(0, 1, 0, 1, 0, 1)"
      ]
     },
     "execution_count": 9,
     "metadata": {},
     "output_type": "execute_result"
    }
   ],
   "source": [
    "t=(0,1)*3\n",
    "t"
   ]
  },
  {
   "cell_type": "code",
   "execution_count": 10,
   "id": "d26a7475",
   "metadata": {},
   "outputs": [
    {
     "data": {
      "text/plain": [
       "('a', 7, 'a', 7, 'a', 7, 'a', 7)"
      ]
     },
     "execution_count": 10,
     "metadata": {},
     "output_type": "execute_result"
    }
   ],
   "source": [
    "t=('a',7)*4\n",
    "t"
   ]
  },
  {
   "cell_type": "markdown",
   "id": "6a267417",
   "metadata": {},
   "source": [
    " # for arts quarks and keyword only parameters for unpacking lists,tuples or dictionaries into function arguments,"
   ]
  },
  {
   "cell_type": "code",
   "execution_count": 12,
   "id": "039b19bf",
   "metadata": {},
   "outputs": [
    {
     "name": "stdout",
     "output_type": "stream",
     "text": [
      "4 5\n",
      "6\n",
      "7\n",
      "five 90\n",
      "six 6\n"
     ]
    }
   ],
   "source": [
    "def foo(a,b,*args,**kargs):\n",
    "    print(a,b)\n",
    "    for arg in args:\n",
    "        print(arg)\n",
    "    for key in kargs:\n",
    "        print(key,kargs[key])\n",
    "foo(4,5,6,7,five=90,six=6)"
   ]
  },
  {
   "cell_type": "markdown",
   "id": "dcabab2b",
   "metadata": {},
   "source": [
    "# for unpacking containers and for merging containers into a list or merging two dictionaries."
   ]
  },
  {
   "cell_type": "code",
   "execution_count": 17,
   "id": "1a371daa",
   "metadata": {},
   "outputs": [
    {
     "name": "stdout",
     "output_type": "stream",
     "text": [
      "4 9 10\n"
     ]
    }
   ],
   "source": [
    "def Eng_Marga(a,b,c):\n",
    "    print(a,b,c)\n",
    "my_dict={'a':4,'b':9,'c':10}\n",
    "Eng_Marga(**my_dict)"
   ]
  },
  {
   "cell_type": "markdown",
   "id": "d9a5863d",
   "metadata": {},
   "source": [
    "# for unpacking list: consider the following."
   ]
  },
  {
   "cell_type": "markdown",
   "id": "36356fe2",
   "metadata": {},
   "source": [
    "# (A) unpacking all element with beginning except the last element"
   ]
  },
  {
   "cell_type": "code",
   "execution_count": 19,
   "id": "19615757",
   "metadata": {},
   "outputs": [
    {
     "name": "stdout",
     "output_type": "stream",
     "text": [
      "[2, 3, 4, 5, 6]\n",
      "7\n"
     ]
    }
   ],
   "source": [
    "list=[2,3,4,5,6,7]\n",
    "*beginning,last=list \n",
    "print(beginning)\n",
    "print(last)"
   ]
  },
  {
   "cell_type": "markdown",
   "id": "52655010",
   "metadata": {},
   "source": [
    "# (B) unpacking all element with middle except the beginning and last element as follow."
   ]
  },
  {
   "cell_type": "code",
   "execution_count": 20,
   "id": "070903d9",
   "metadata": {},
   "outputs": [
    {
     "name": "stdout",
     "output_type": "stream",
     "text": [
      "2\n",
      "[3, 4, 5, 6]\n",
      "7\n"
     ]
    }
   ],
   "source": [
    "beginning,*middle,last=list\n",
    "print(beginning)\n",
    "print(middle)\n",
    "print(last)"
   ]
  },
  {
   "cell_type": "markdown",
   "id": "5a5f91c8",
   "metadata": {},
   "source": [
    "# (C) unpacking all element with last element except beginning and middle as follow."
   ]
  },
  {
   "cell_type": "code",
   "execution_count": 21,
   "id": "822470cd",
   "metadata": {},
   "outputs": [
    {
     "name": "stdout",
     "output_type": "stream",
     "text": [
      "2\n",
      "3\n",
      "[4, 5, 6, 7]\n"
     ]
    }
   ],
   "source": [
    "beginning,middle,*last=list\n",
    "print(beginning)\n",
    "print(middle)\n",
    "print(last)"
   ]
  },
  {
   "cell_type": "markdown",
   "id": "c31ae2c3",
   "metadata": {},
   "source": [
    "# (17) Shallow And Deep copying:"
   ]
  },
  {
   "cell_type": "markdown",
   "id": "816d9b10",
   "metadata": {},
   "source": [
    "# (A)Shallow Copy: Creates a new object but doesn't create copies of nested objects found within the original object. Instead, it copies references to these nested objects. So, changes to nested objects in the copy may affect the original object and vice versa."
   ]
  },
  {
   "cell_type": "markdown",
   "id": "969f8c32",
   "metadata": {},
   "source": [
    "# (B)Deep Copy: Creates a new object and recursively copies all objects found within the original object. This means it creates independent copies of nested objects, so changes to nested objects in the copy do not affect the original object.\n",
    "\n",
    "\n",
    "\n",
    "\n"
   ]
  },
  {
   "cell_type": "markdown",
   "id": "7a5ac198",
   "metadata": {},
   "source": [
    "# (A)Shallow Copy:\n",
    "# it will not make a real copy, it will only ceate a new variable with the same reference.consider the following. both variable point to the same number in the  following.and this is not a problem in immutable object like integer.\n",
    "    "
   ]
  },
  {
   "cell_type": "code",
   "execution_count": 22,
   "id": "0f47f891",
   "metadata": {},
   "outputs": [
    {
     "name": "stdout",
     "output_type": "stream",
     "text": [
      "6\n",
      "5\n"
     ]
    }
   ],
   "source": [
    "org=5\n",
    "cpy=org\n",
    "cpy=6 # this will create a new variable and now they are independent.\n",
    "print(cpy)\n",
    "print(org)"
   ]
  },
  {
   "cell_type": "markdown",
   "id": "54303a84",
   "metadata": {},
   "source": [
    "# But when we deal with mutable object like list we have to careful.consider the following."
   ]
  },
  {
   "cell_type": "code",
   "execution_count": 24,
   "id": "cade505a",
   "metadata": {},
   "outputs": [
    {
     "name": "stdout",
     "output_type": "stream",
     "text": [
      "[-10, 2, 3]\n",
      "[-10, 2, 3]\n"
     ]
    }
   ],
   "source": [
    "org=[1,2,3]\n",
    "cpy=org\n",
    "cpy[0]= -10 # changing the first item of our orginal list(here it is looking for the first dfined cpy and the same output).\n",
    "print(cpy)\n",
    "print(org)"
   ]
  },
  {
   "cell_type": "markdown",
   "id": "d1aeeaa0",
   "metadata": {},
   "source": [
    "# To make an actual copy we use built in copy module "
   ]
  },
  {
   "cell_type": "code",
   "execution_count": 25,
   "id": "049c698c",
   "metadata": {},
   "outputs": [],
   "source": [
    "import copy"
   ]
  },
  {
   "cell_type": "code",
   "execution_count": 27,
   "id": "0d4312d8",
   "metadata": {},
   "outputs": [
    {
     "name": "stdout",
     "output_type": "stream",
     "text": [
      "[2, 3, 4, 5]\n",
      "[-10, 3, 4, 5]\n"
     ]
    }
   ],
   "source": [
    "org=[2,3,4,5]\n",
    "cpy=copy.copy(org)\n",
    "cpy[0]=-10\n",
    "print(org)#  will print the original(it is not affected)\n",
    "print(cpy) # will excute(print) after assigment with another value as follow."
   ]
  },
  {
   "cell_type": "code",
   "execution_count": 28,
   "id": "52394cbf",
   "metadata": {},
   "outputs": [
    {
     "name": "stdout",
     "output_type": "stream",
     "text": [
      "[2, 3, 4, 5]\n",
      "[-10, 3, 4, 5]\n"
     ]
    }
   ],
   "source": [
    "org=[2,3,4,5]\n",
    "cpy=org.copy()\n",
    "cpy[0]=-10\n",
    "print(org)#  will print the original(it is not affected)\n",
    "print(cpy) # will excute(print) after assigment with another value as follow."
   ]
  },
  {
   "cell_type": "code",
   "execution_count": 37,
   "id": "ecf468cb",
   "metadata": {},
   "outputs": [
    {
     "name": "stdout",
     "output_type": "stream",
     "text": [
      "[2, 3, 4, 5]\n",
      "[-10, 3, 4, 5]\n"
     ]
    }
   ],
   "source": [
    "org=[2,3,4,5]\n",
    "cpy=org[:] # this method copy all elements.\n",
    "cpy[0]=-10\n",
    "print(org)\n",
    "print(cpy)"
   ]
  },
  {
   "cell_type": "markdown",
   "id": "1f29c49e",
   "metadata": {},
   "source": [
    "# for  nested list i'e the list in the list and making shallow copy as follow will result."
   ]
  },
  {
   "cell_type": "code",
   "execution_count": 38,
   "id": "3d026dcd",
   "metadata": {},
   "outputs": [
    {
     "name": "stdout",
     "output_type": "stream",
     "text": [
      "[[1, -10, 3, 4], [5, 6, 7, 8]]\n",
      "[[1, -10, 3, 4], [5, 6, 7, 8]]\n"
     ]
    }
   ],
   "source": [
    "org=[[1,2,3,4],[5,6,7,8]]\n",
    "cpy=copy.copy(org)\n",
    "cpy[0][1]=-10 # this line indicate the index on number 1 for the first list(assigning another value)\n",
    "print(org)\n",
    "print(cpy)"
   ]
  },
  {
   "cell_type": "markdown",
   "id": "0901ceae",
   "metadata": {},
   "source": [
    "# In above case both org and cpy have the same value on the second index of their first list,because shallow copy is only one level deep."
   ]
  },
  {
   "cell_type": "markdown",
   "id": "0f792d31",
   "metadata": {},
   "source": [
    "# (@) So to make actual copy in all the levels, we have to make deep copy and the original is not get affected during this as follow."
   ]
  },
  {
   "cell_type": "code",
   "execution_count": 39,
   "id": "39f821b3",
   "metadata": {},
   "outputs": [
    {
     "name": "stdout",
     "output_type": "stream",
     "text": [
      "[[1, 2, 3, 4], [5, 6, 7, 8]]\n",
      "[[1, -10, 3, 4], [5, 6, 7, 8]]\n"
     ]
    }
   ],
   "source": [
    "org=[[1,2,3,4],[5,6,7,8]]\n",
    "cpy=copy.deepcopy(org)\n",
    "cpy[0][1]=-10 \n",
    "print(org)\n",
    "print(cpy)"
   ]
  },
  {
   "cell_type": "markdown",
   "id": "8bb5c45d",
   "metadata": {},
   "source": [
    "# (18) Context Managers:"
   ]
  },
  {
   "cell_type": "markdown",
   "id": "e442f8db",
   "metadata": {},
   "source": [
    "# They are great tools for resource management and they allowed us to allocate and release resource precisely when we want to.\n",
    "# and well known example is 'with open' statement."
   ]
  },
  {
   "cell_type": "markdown",
   "id": "995f452c",
   "metadata": {},
   "source": [
    "# a context manager is a Python object that defines a runtime context to be managed, usually through the use of the 'with' statement.\n",
    "# It allows for the execution of certain code before and after a block of code is run.\n",
    "# Context managers are commonly used for resource management, such as file operations, database connections, or thread synchronization, ensuring that resources are properly acquired and released, even in the case of exceptions or errors within the block of code. \n",
    "# They can be implemented either by defining a class with '__enter__ 'and '__exit__ ' methods or by using the 'contextlib' module to create context managers with functions or decorators.\n",
    "\n",
    "\n",
    "\n",
    "\n"
   ]
  },
  {
   "cell_type": "markdown",
   "id": "564a45d5",
   "metadata": {},
   "source": [
    "# (@) In order to open a file, we say: with open then file name."
   ]
  },
  {
   "cell_type": "code",
   "execution_count": null,
   "id": "df4588c6",
   "metadata": {},
   "outputs": [],
   "source": [
    "with open('notes.txt','w') as file:\n",
    "    file.write('to do...') \n"
   ]
  },
  {
   "cell_type": "markdown",
   "id": "4c6caa08",
   "metadata": {},
   "source": [
    "# This code block utilizes the with statement, which acts as a context manager.  It automatically handles the opening and closing of the file.\n",
    "# When the code block under with completes execution, whether normally or due to an exception, the file is automatically closed. \n",
    "# This ensures that the file is properly closed even if an error occurs while writing to it."
   ]
  },
  {
   "cell_type": "markdown",
   "id": "04193964",
   "metadata": {},
   "source": [
    "# The above  with statementor just  context manager will make sure to correctly close our file again even if there is an exception somewhere."
   ]
  },
  {
   "cell_type": "markdown",
   "id": "f50b82a6",
   "metadata": {},
   "source": [
    "# when we write full code: it look like the following.\n",
    "    "
   ]
  },
  {
   "cell_type": "code",
   "execution_count": null,
   "id": "df167992",
   "metadata": {},
   "outputs": [],
   "source": [
    "with open('notes.txt','w') as file:\n",
    "    file.write('to do...')\n",
    "file=open('notes.txt','w')\n",
    "try:\n",
    "    file.write('to do...')\n",
    "finally:\n",
    "    file.close()"
   ]
  },
  {
   "cell_type": "code",
   "execution_count": null,
   "id": "4e73cf18",
   "metadata": {},
   "outputs": [],
   "source": [
    "file=open('notes.txt','w')\n",
    "try:\n",
    "    file.write('to do...')\n",
    "finally:\n",
    "    file.close()"
   ]
  },
  {
   "cell_type": "markdown",
   "id": "90356360",
   "metadata": {},
   "source": [
    "# This code block manually handles the file opening and closing using a try-finally block. \n",
    "# It explicitly opens the file, writes to it, and then ensures that the file is closed by calling file.close() within the finally block. \n",
    "# This approach guarantees that the file is closed even if an exception occurs during the write operation."
   ]
  },
  {
   "cell_type": "markdown",
   "id": "67c37cca",
   "metadata": {},
   "source": [
    "# (@)In summary, both code snippets achieve the same result, but the first one is more concise and idiomatic in Python, using the with statement to manage the file context, while the second one demonstrates manual management of the file context using try-finally. "
   ]
  },
  {
   "cell_type": "code",
   "execution_count": 42,
   "id": "0a4c882d",
   "metadata": {},
   "outputs": [],
   "source": [
    "from contextlib import contextmanager\n",
    "\n",
    "@contextmanager\n",
    "def open_managed_file(filename):\n",
    "    try:\n",
    "        f = open(filename, 'w')  # Ensure the allocation of our resource.\n",
    "        yield f  # This generator will yield our resource.\n",
    "    finally:\n",
    "        f.close()  # Our file will close here.\n",
    "\n",
    "with open_managed_file('notes.txt') as f:\n",
    "    f.write('to do...')"
   ]
  },
  {
   "cell_type": "markdown",
   "id": "94511922",
   "metadata": {},
   "source": [
    "# HAPPY LEARNING: READ MORE ON MULTITHREADING AND MULTI PROCESSING, ALSO CONTEXT MANAGER THAT MEANS WHEN WE DEFINE OUR CLASS WITH CONTEXT MANAGER!!."
   ]
  },
  {
   "cell_type": "code",
   "execution_count": null,
   "id": "a644995e",
   "metadata": {},
   "outputs": [],
   "source": []
  }
 ],
 "metadata": {
  "kernelspec": {
   "display_name": "Python 3 (ipykernel)",
   "language": "python",
   "name": "python3"
  },
  "language_info": {
   "codemirror_mode": {
    "name": "ipython",
    "version": 3
   },
   "file_extension": ".py",
   "mimetype": "text/x-python",
   "name": "python",
   "nbconvert_exporter": "python",
   "pygments_lexer": "ipython3",
   "version": "3.11.3"
  }
 },
 "nbformat": 4,
 "nbformat_minor": 5
}
